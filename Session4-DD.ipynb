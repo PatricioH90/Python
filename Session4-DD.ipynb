{
 "cells": [
  {
   "cell_type": "markdown",
   "id": "917ec9a2-f32f-4c3b-bcf5-75688c7bb0f6",
   "metadata": {},
   "source": [
    "# Session 4\n",
    "\n",
    "- Handling text data\n",
    "- RegEx\n",
    "- Dates and times and timeseries data"
   ]
  },
  {
   "cell_type": "markdown",
   "id": "036f8116-f787-496b-b97a-7fe3c7d96735",
   "metadata": {},
   "source": [
    "## Strings\n",
    "\n",
    "As you recall a String in Python is just a series of characters. You can subset them using the normal index based subsettign methods."
   ]
  },
  {
   "cell_type": "code",
   "execution_count": 1,
   "id": "26bbe47d-7f10-4ac0-bc22-05b6cc5e8934",
   "metadata": {},
   "outputs": [],
   "source": [
    "s = 'Hult'\n"
   ]
  },
  {
   "cell_type": "code",
   "execution_count": null,
   "id": "cfea7763-9c8d-4236-ac66-647f63719698",
   "metadata": {},
   "outputs": [],
   "source": []
  },
  {
   "cell_type": "code",
   "execution_count": null,
   "id": "c3e158a9-fc6a-4623-915b-d19cc5f732cd",
   "metadata": {},
   "outputs": [],
   "source": []
  },
  {
   "cell_type": "code",
   "execution_count": 2,
   "id": "daf5c587-380a-4340-ad82-8b412fd17785",
   "metadata": {},
   "outputs": [],
   "source": [
    "# Getting the last character\n"
   ]
  },
  {
   "cell_type": "code",
   "execution_count": 3,
   "id": "873686d4-5279-44cf-bfca-7fd2c9171959",
   "metadata": {},
   "outputs": [],
   "source": [
    "# Getting every other character\n"
   ]
  },
  {
   "cell_type": "markdown",
   "id": "c0b29ae4-5ebd-4f0a-8457-b3e2bf528400",
   "metadata": {},
   "source": [
    "### String methods\n",
    "\n",
    "| Method | Description |\n",
    "|---|---|\n",
    "|`.capitalize()` | Capitalizes the first character |\n",
    "|`.count()` | Counts the number of occurances of a string within another |\n",
    "|`.startswith()`, `.endswith()` | True if the string begins/ends with a specified string |\n",
    "|`.find()` | Smallest index where the string matches, -1 if no match |\n",
    "|`.isalpha()` | True is all characters are alphabetic |\n",
    "|`.isdecimal()` | True if all characters are decimal numbers |\n",
    "|`.isalnum()` | True if all characters are alphanumerical |\n",
    "|`.lower()`, `.upper()` | Returns a copy of the string with all lower-/uppercase |\n",
    "|`.strip()` | Removes leading and trailing whitespaces |\n",
    "|`.split()` | Returns a list of values split by a deliminator |"
   ]
  },
  {
   "cell_type": "code",
   "execution_count": 4,
   "id": "4dfad418-add1-4eed-8d09-78fadeac3052",
   "metadata": {},
   "outputs": [
    {
     "data": {
      "text/plain": [
       "'Hult'"
      ]
     },
     "execution_count": 4,
     "metadata": {},
     "output_type": "execute_result"
    }
   ],
   "source": [
    "'Hult'"
   ]
  },
  {
   "cell_type": "code",
   "execution_count": 5,
   "id": "48106dc7-5e4a-40f5-8d55-9f03eb65e3d9",
   "metadata": {},
   "outputs": [
    {
     "data": {
      "text/plain": [
       "'Data Analytics'"
      ]
     },
     "execution_count": 5,
     "metadata": {},
     "output_type": "execute_result"
    }
   ],
   "source": [
    "'Data Analytics'"
   ]
  },
  {
   "cell_type": "markdown",
   "id": "1dbfd245-4129-4843-9756-408daa904426",
   "metadata": {},
   "source": [
    "You can join Strings together using the `.join()` method. You use it on the String that should become the new separator between the parts."
   ]
  },
  {
   "cell_type": "code",
   "execution_count": 7,
   "id": "ef9599e1-6cb5-4ea6-893b-ce31fa91af1b",
   "metadata": {},
   "outputs": [
    {
     "data": {
      "text/plain": [
       "['Hult', 'data', 'analytics', 'program']"
      ]
     },
     "execution_count": 7,
     "metadata": {},
     "output_type": "execute_result"
    }
   ],
   "source": [
    "['Hult', 'data', 'analytics', 'program']"
   ]
  },
  {
   "cell_type": "code",
   "execution_count": 8,
   "id": "0d6d4385-ee82-4c20-9412-d2541797b017",
   "metadata": {},
   "outputs": [
    {
     "data": {
      "text/plain": [
       "['Hult', 'data', 'analytics', 'program']"
      ]
     },
     "execution_count": 8,
     "metadata": {},
     "output_type": "execute_result"
    }
   ],
   "source": [
    "['Hult', 'data', 'analytics', 'program']"
   ]
  },
  {
   "cell_type": "code",
   "execution_count": 9,
   "id": "6b6101ed-acbd-4a67-af2e-0ec513d3a727",
   "metadata": {},
   "outputs": [
    {
     "data": {
      "text/plain": [
       "['Hult', 'data', 'analytics', 'program']"
      ]
     },
     "execution_count": 9,
     "metadata": {},
     "output_type": "execute_result"
    }
   ],
   "source": [
    "['Hult', 'data', 'analytics', 'program']"
   ]
  },
  {
   "cell_type": "markdown",
   "id": "deb226ef-40c5-4743-8718-888bdfc806d6",
   "metadata": {},
   "source": [
    "## RegEx\n",
    "\n",
    "See RegEx.ipynb\n"
   ]
  },
  {
   "cell_type": "markdown",
   "id": "345cb5ad-4f19-428d-87b9-a85f0c8e6225",
   "metadata": {},
   "source": [
    "## Text Data\n",
    "\n",
    "Very often we have to work on data in text form. Let's explore this based on a dataset holding reddit data (https://www.kaggle.com/datasets/mswarbrickjones/reddit-selfposts?resource=download)"
   ]
  },
  {
   "cell_type": "code",
   "execution_count": 1,
   "id": "1746ecae-7578-4cd0-9d04-ee3bcb436696",
   "metadata": {},
   "outputs": [],
   "source": [
    "import numpy as np\n",
    "import pandas as pd\n",
    "import seaborn as sns"
   ]
  },
  {
   "cell_type": "code",
   "execution_count": 2,
   "id": "88852151-270d-45fe-b9f1-658405133a9a",
   "metadata": {},
   "outputs": [],
   "source": [
    "df = pd.read_csv('rspct.tsv.zip', sep='\\t')"
   ]
  },
  {
   "cell_type": "code",
   "execution_count": null,
   "id": "215e55ed-3631-4049-b506-1fcd9c1a1073",
   "metadata": {},
   "outputs": [],
   "source": []
  },
  {
   "cell_type": "code",
   "execution_count": null,
   "id": "408b7a93-7156-4080-af60-2d3aabf091bc",
   "metadata": {},
   "outputs": [],
   "source": []
  },
  {
   "cell_type": "markdown",
   "id": "a11b3ce8-2cd0-4233-bf8c-a21230c3d55f",
   "metadata": {},
   "source": [
    "It is already obvious that the data needs some cleaning to be useful."
   ]
  },
  {
   "cell_type": "code",
   "execution_count": 10,
   "id": "8e6b6c53-b985-4c07-9ce2-89042be955da",
   "metadata": {},
   "outputs": [],
   "source": [
    "#looking at one example text\n"
   ]
  },
  {
   "cell_type": "markdown",
   "id": "e6c8d64f-87ed-4563-b592-3d04b25f5cad",
   "metadata": {},
   "source": [
    "It is clear that the text contains html tags which need to be replaced."
   ]
  },
  {
   "cell_type": "code",
   "execution_count": 11,
   "id": "524fc72f-0b69-4707-a1f3-33c128951771",
   "metadata": {},
   "outputs": [],
   "source": [
    "import re\n",
    "\n",
    "# Recreate line endings\n"
   ]
  },
  {
   "cell_type": "code",
   "execution_count": 12,
   "id": "8ed7c0c3-046d-4d55-b344-1b2f90d8d90f",
   "metadata": {},
   "outputs": [],
   "source": [
    "# replace &lt; with <, &gt; with > and &amp; with &\n"
   ]
  },
  {
   "cell_type": "code",
   "execution_count": 13,
   "id": "40862d8a-f4ae-4bcc-a1f1-601bd4ea1457",
   "metadata": {},
   "outputs": [],
   "source": [
    "# as there are some double endings this needs to be repeated\n"
   ]
  },
  {
   "cell_type": "code",
   "execution_count": 14,
   "id": "3c3c9e19-4ac9-40bc-8a7f-aad8605cd2fd",
   "metadata": {},
   "outputs": [],
   "source": [
    "# remove URLs\n"
   ]
  },
  {
   "cell_type": "code",
   "execution_count": 15,
   "id": "85de43fe-a846-420e-a27e-351cc60aefd4",
   "metadata": {},
   "outputs": [],
   "source": [
    "# Remove additional markdown\n"
   ]
  },
  {
   "cell_type": "code",
   "execution_count": 16,
   "id": "b102674f-8acb-4f68-bf76-08324d50181c",
   "metadata": {},
   "outputs": [],
   "source": [
    "# Remove underscores\n"
   ]
  },
  {
   "cell_type": "code",
   "execution_count": 17,
   "id": "e2df6a89-f0b2-442e-919e-d4f1fca69915",
   "metadata": {},
   "outputs": [],
   "source": [
    "# Remove multiple quotes\n"
   ]
  },
  {
   "cell_type": "code",
   "execution_count": 70,
   "id": "a3ebae9a-f6bd-4723-8b98-a9d6433db32b",
   "metadata": {
    "jupyter": {
     "source_hidden": true
    },
    "tags": []
   },
   "outputs": [],
   "source": [
    "# put it all together in a function\n",
    "def clean_t(t):\n",
    "    # Recreate line endings\n",
    "    t = t.replace(r'<lb>', \"\\n\")\n",
    "    t = re.sub(r'<br */*>', \"\\n\", t)\n",
    "    # replace &lt; with <, &gt; with > and &amp; with &\n",
    "    t = t.replace(\"&lt;\", \"<\").replace(\"&gt;\", \">\").replace(\"&amp;\", \"&\")\n",
    "    # as there are some double endings this needs to be repeated\n",
    "    t = t.replace(\"&amp;\", \"&\")\n",
    "    # remove URLs\n",
    "    t = re.sub(r'\\(*https*://[^\\)]*\\)*', \"\", t)\n",
    "    # Remove additional markdown\n",
    "    t = re.sub(r'\\*', '', t)\n",
    "    # Remove underscores\n",
    "    t = re.sub(r'_+', ' ', t)\n",
    "    # Remove multiple quotes\n",
    "    t = re.sub(r'\"+', '\"', t)\n",
    "    return t"
   ]
  },
  {
   "cell_type": "code",
   "execution_count": 18,
   "id": "ba0365ce-ea99-4a3b-8d9d-047a8bc1b5c1",
   "metadata": {},
   "outputs": [],
   "source": [
    "# apply it to the Dataframe\n"
   ]
  },
  {
   "cell_type": "code",
   "execution_count": null,
   "id": "3dc6e9e8-afb5-4528-9558-b152ebbe22a2",
   "metadata": {},
   "outputs": [],
   "source": []
  },
  {
   "cell_type": "markdown",
   "id": "35eeec7e-2637-4eb5-825f-3696bb52c3e1",
   "metadata": {},
   "source": [
    "## Dates and times\n",
    "\n",
    "In many cases date and time information is a crucial part of a dataset.\n",
    "\n",
    "Python has a special `datetime` object in the `datetime` library to handle this."
   ]
  },
  {
   "cell_type": "code",
   "execution_count": 74,
   "id": "dd82f033-dc8d-48a7-92ae-50e663732e66",
   "metadata": {},
   "outputs": [],
   "source": [
    "from datetime import datetime as dt"
   ]
  },
  {
   "cell_type": "markdown",
   "id": "cb94d1a3-6fab-4604-841b-9cb1fa55c9b8",
   "metadata": {},
   "source": [
    "It can provide the current date and time:"
   ]
  },
  {
   "cell_type": "code",
   "execution_count": null,
   "id": "75235349-b2ca-4589-80f3-1fe1717b6fc8",
   "metadata": {},
   "outputs": [],
   "source": []
  },
  {
   "cell_type": "markdown",
   "id": "ebd099e6-5920-4152-8fd8-26179b6ded3b",
   "metadata": {},
   "source": [
    "You can also do math with datetime objects."
   ]
  },
  {
   "cell_type": "code",
   "execution_count": null,
   "id": "bae5b3cd-8dfc-48e6-8e5a-471aedfcaeb7",
   "metadata": {},
   "outputs": [],
   "source": []
  },
  {
   "cell_type": "markdown",
   "id": "c63e7ad1-53c3-4aed-8295-6d8aa7bd5b14",
   "metadata": {},
   "source": [
    "### Converting to datetime\n",
    "\n",
    "When reading in datetime information from a file it is usually represented as a string. This string needs to be converted into a datetime object."
   ]
  },
  {
   "cell_type": "code",
   "execution_count": 81,
   "id": "690d4122-63ef-4805-a536-3525acad12c0",
   "metadata": {},
   "outputs": [],
   "source": [
    "mv = pd.read_csv('Month_Value_1.csv')"
   ]
  },
  {
   "cell_type": "code",
   "execution_count": null,
   "id": "22bc72e8-3130-4f33-bfed-e61ef4f7734b",
   "metadata": {},
   "outputs": [],
   "source": []
  },
  {
   "cell_type": "code",
   "execution_count": null,
   "id": "9309fc28-beae-4b45-a51e-5589175e1556",
   "metadata": {},
   "outputs": [],
   "source": []
  },
  {
   "cell_type": "code",
   "execution_count": null,
   "id": "a38d410e-b540-42b6-8c8a-569442e23fad",
   "metadata": {},
   "outputs": [],
   "source": []
  },
  {
   "cell_type": "code",
   "execution_count": null,
   "id": "7089d631-a582-4913-b5e5-94eeee12572b",
   "metadata": {},
   "outputs": [],
   "source": []
  },
  {
   "cell_type": "code",
   "execution_count": null,
   "id": "ca560e4c-4d88-4876-82b7-3d740a782f56",
   "metadata": {},
   "outputs": [],
   "source": []
  },
  {
   "cell_type": "markdown",
   "id": "766f149c-912a-473e-8086-887698f7c397",
   "metadata": {},
   "source": [
    "The conversion to datetime has worked - sadly the month and day information seems switched.\n",
    "\n",
    "You can also give explicit formating for the conversion.\n",
    "\n",
    "The formatting options can be found here:\n",
    "\n",
    "https://docs.python.org/3/library/datetime.html#strftime-and-strptime-behavior"
   ]
  },
  {
   "cell_type": "code",
   "execution_count": null,
   "id": "c1b0f067-02d4-4670-a63a-5f18e25ea551",
   "metadata": {},
   "outputs": [],
   "source": []
  },
  {
   "cell_type": "code",
   "execution_count": null,
   "id": "952de2eb-9fe0-434b-9ff4-9da4c448ba03",
   "metadata": {},
   "outputs": [],
   "source": []
  },
  {
   "cell_type": "markdown",
   "id": "f66644be-3239-4f65-a8c4-7f8d12965102",
   "metadata": {},
   "source": [
    "### Getting date components\n",
    "\n",
    "The datetime library allows to easily extract date and time components."
   ]
  },
  {
   "cell_type": "code",
   "execution_count": null,
   "id": "adddeeb9-cb17-4f9a-9bd1-80a6de9b4816",
   "metadata": {},
   "outputs": [],
   "source": []
  },
  {
   "cell_type": "code",
   "execution_count": null,
   "id": "1dceebc6-8000-4dc4-8056-5f52e6d48a8b",
   "metadata": {},
   "outputs": [],
   "source": []
  },
  {
   "cell_type": "code",
   "execution_count": null,
   "id": "f86ecb10-49e0-4eff-9309-ecbaf4b8ff97",
   "metadata": {},
   "outputs": [],
   "source": []
  },
  {
   "cell_type": "code",
   "execution_count": null,
   "id": "1259e2f5-4cf1-4822-82d0-8db81d59f944",
   "metadata": {},
   "outputs": [],
   "source": []
  },
  {
   "cell_type": "markdown",
   "id": "c1d7c42f-0df1-4fab-ad8a-8fe9bb740214",
   "metadata": {},
   "source": [
    "Using the `.dt` accessor this also works on a Dataframe."
   ]
  },
  {
   "cell_type": "code",
   "execution_count": null,
   "id": "c23f8093-2c39-4856-9f8a-59a710846c20",
   "metadata": {},
   "outputs": [],
   "source": []
  },
  {
   "cell_type": "code",
   "execution_count": null,
   "id": "8db546a8-ca47-4088-8010-ce25e87decbd",
   "metadata": {},
   "outputs": [],
   "source": []
  },
  {
   "cell_type": "markdown",
   "id": "cf90a0e2-e723-4c44-8ffc-483b50ee0c48",
   "metadata": {},
   "source": [
    "### Timeseries data\n",
    "\n",
    "A common example for timeseries data is the stock market. For easy access we will use the yahoo finance api."
   ]
  },
  {
   "cell_type": "code",
   "execution_count": 115,
   "id": "b2848ab0-afd1-4727-9540-2dfb5b0b5833",
   "metadata": {},
   "outputs": [
    {
     "name": "stdout",
     "output_type": "stream",
     "text": [
      "Collecting yfinance\n",
      "  Downloading yfinance-0.2.9-py2.py3-none-any.whl (55 kB)\n",
      "\u001b[2K     \u001b[90m━━━━━━━━━━━━━━━━━━━━━━━━━━━━━━━━━━━━━━━━\u001b[0m \u001b[32m55.9/55.9 kB\u001b[0m \u001b[31m2.8 MB/s\u001b[0m eta \u001b[36m0:00:00\u001b[0m\n",
      "\u001b[?25hCollecting frozendict>=2.3.4\n",
      "  Downloading frozendict-2.3.4-cp39-cp39-macosx_10_9_x86_64.whl (33 kB)\n",
      "Requirement already satisfied: cryptography>=3.3.2 in /Users/mra/opt/anaconda3/envs/Hult/lib/python3.9/site-packages (from yfinance) (38.0.4)\n",
      "Requirement already satisfied: pytz>=2022.5 in /Users/mra/opt/anaconda3/envs/Hult/lib/python3.9/site-packages (from yfinance) (2022.7)\n",
      "Requirement already satisfied: pandas>=1.3.0 in /Users/mra/opt/anaconda3/envs/Hult/lib/python3.9/site-packages (from yfinance) (1.4.3)\n",
      "Requirement already satisfied: numpy>=1.16.5 in /Users/mra/opt/anaconda3/envs/Hult/lib/python3.9/site-packages (from yfinance) (1.23.5)\n",
      "Requirement already satisfied: beautifulsoup4>=4.11.1 in /Users/mra/opt/anaconda3/envs/Hult/lib/python3.9/site-packages (from yfinance) (4.11.1)\n",
      "Collecting multitasking>=0.0.7\n",
      "  Downloading multitasking-0.0.11-py3-none-any.whl (8.5 kB)\n",
      "Collecting html5lib>=1.1\n",
      "  Downloading html5lib-1.1-py2.py3-none-any.whl (112 kB)\n",
      "\u001b[2K     \u001b[90m━━━━━━━━━━━━━━━━━━━━━━━━━━━━━━━━━━━━━━━\u001b[0m \u001b[32m112.2/112.2 kB\u001b[0m \u001b[31m5.2 MB/s\u001b[0m eta \u001b[36m0:00:00\u001b[0m\n",
      "\u001b[?25hRequirement already satisfied: requests>=2.26 in /Users/mra/opt/anaconda3/envs/Hult/lib/python3.9/site-packages (from yfinance) (2.28.1)\n",
      "Collecting appdirs>=1.4.4\n",
      "  Downloading appdirs-1.4.4-py2.py3-none-any.whl (9.6 kB)\n",
      "Requirement already satisfied: lxml>=4.9.1 in /Users/mra/opt/anaconda3/envs/Hult/lib/python3.9/site-packages (from yfinance) (4.9.1)\n",
      "Requirement already satisfied: soupsieve>1.2 in /Users/mra/opt/anaconda3/envs/Hult/lib/python3.9/site-packages (from beautifulsoup4>=4.11.1->yfinance) (2.3.2.post1)\n",
      "Requirement already satisfied: cffi>=1.12 in /Users/mra/opt/anaconda3/envs/Hult/lib/python3.9/site-packages (from cryptography>=3.3.2->yfinance) (1.15.1)\n",
      "Requirement already satisfied: webencodings in /Users/mra/opt/anaconda3/envs/Hult/lib/python3.9/site-packages (from html5lib>=1.1->yfinance) (0.5.1)\n",
      "Requirement already satisfied: six>=1.9 in /Users/mra/opt/anaconda3/envs/Hult/lib/python3.9/site-packages (from html5lib>=1.1->yfinance) (1.16.0)\n",
      "Requirement already satisfied: python-dateutil>=2.8.1 in /Users/mra/opt/anaconda3/envs/Hult/lib/python3.9/site-packages (from pandas>=1.3.0->yfinance) (2.8.2)\n",
      "Requirement already satisfied: certifi>=2017.4.17 in /Users/mra/opt/anaconda3/envs/Hult/lib/python3.9/site-packages (from requests>=2.26->yfinance) (2022.12.7)\n",
      "Requirement already satisfied: idna<4,>=2.5 in /Users/mra/opt/anaconda3/envs/Hult/lib/python3.9/site-packages (from requests>=2.26->yfinance) (3.4)\n",
      "Requirement already satisfied: urllib3<1.27,>=1.21.1 in /Users/mra/opt/anaconda3/envs/Hult/lib/python3.9/site-packages (from requests>=2.26->yfinance) (1.26.13)\n",
      "Requirement already satisfied: charset-normalizer<3,>=2 in /Users/mra/opt/anaconda3/envs/Hult/lib/python3.9/site-packages (from requests>=2.26->yfinance) (2.0.4)\n",
      "Requirement already satisfied: pycparser in /Users/mra/opt/anaconda3/envs/Hult/lib/python3.9/site-packages (from cffi>=1.12->cryptography>=3.3.2->yfinance) (2.21)\n",
      "Installing collected packages: multitasking, appdirs, html5lib, frozendict, yfinance\n",
      "Successfully installed appdirs-1.4.4 frozendict-2.3.4 html5lib-1.1 multitasking-0.0.11 yfinance-0.2.9\n",
      "Note: you may need to restart the kernel to use updated packages.\n"
     ]
    }
   ],
   "source": [
    "pip install yfinance"
   ]
  },
  {
   "cell_type": "code",
   "execution_count": 1,
   "id": "8302f685-43b3-40f2-9ec6-3cdc99027d7f",
   "metadata": {},
   "outputs": [],
   "source": [
    "import yfinance as yf"
   ]
  },
  {
   "cell_type": "code",
   "execution_count": null,
   "id": "8e6eb3ee-7a69-4a4f-8fd2-c99ed2c43791",
   "metadata": {},
   "outputs": [],
   "source": []
  },
  {
   "cell_type": "code",
   "execution_count": null,
   "id": "3245e5b6-5a60-4d52-8db4-814eccf3d35b",
   "metadata": {},
   "outputs": [],
   "source": []
  },
  {
   "cell_type": "code",
   "execution_count": null,
   "id": "c9f7bf1b-6c72-434e-bbe0-5a25b353266c",
   "metadata": {},
   "outputs": [],
   "source": []
  },
  {
   "cell_type": "code",
   "execution_count": null,
   "id": "39b619a2-cfc3-4402-8be2-da7fc509f173",
   "metadata": {},
   "outputs": [],
   "source": []
  },
  {
   "cell_type": "markdown",
   "id": "e91de117-0802-48b7-92de-e498644c5a44",
   "metadata": {},
   "source": [
    "### Resampling\n",
    "\n",
    "Often the frequency of a datetime needs to be changed to conduct the analysis needed.\n",
    "\n",
    "There are three types of resampling:\n",
    "- Downsampling (e.g. daily to monthly)\n",
    "- Upsampling (e.g. monthly to daily)\n",
    "- No change (e.g. from every first Monday of the month to every last Friday of the month)"
   ]
  },
  {
   "cell_type": "code",
   "execution_count": 19,
   "id": "088fc4a6-74c8-44b9-9489-c1b1c0ee56be",
   "metadata": {},
   "outputs": [],
   "source": [
    "# When downsampling we need to provide an aggregation function\n",
    "\n",
    "# Average monthly values\n"
   ]
  },
  {
   "cell_type": "markdown",
   "id": "8a8504ec-2dce-4bd0-8aba-d64305582d17",
   "metadata": {},
   "source": [
    "The `.resample()` method is very powerful. Refer to https://towardsdatascience.com/using-the-pandas-resample-function-a231144194c4 for a good guide."
   ]
  }
 ],
 "metadata": {
  "kernelspec": {
   "display_name": "Python 3 (ipykernel)",
   "language": "python",
   "name": "python3"
  },
  "language_info": {
   "codemirror_mode": {
    "name": "ipython",
    "version": 3
   },
   "file_extension": ".py",
   "mimetype": "text/x-python",
   "name": "python",
   "nbconvert_exporter": "python",
   "pygments_lexer": "ipython3",
   "version": "3.9.13"
  }
 },
 "nbformat": 4,
 "nbformat_minor": 5
}
