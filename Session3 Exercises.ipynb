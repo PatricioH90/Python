{
 "cells": [
  {
   "cell_type": "markdown",
   "id": "f7649596-6c63-4cde-a269-6ce02eb0421b",
   "metadata": {},
   "source": [
    "# Session 3 Exercises"
   ]
  },
  {
   "cell_type": "code",
   "execution_count": 131,
   "id": "b7cba391-28ca-488b-b11c-c1519d4f9baa",
   "metadata": {},
   "outputs": [],
   "source": [
    "import pandas as pd\n",
    "import numpy as np\n",
    "import matplotlib.pyplot as plt\n",
    "import seaborn as sns\n",
    "\n",
    "quakes = pd.read_csv('data/earthquake.csv')\n",
    "faang = pd.read_csv('data/faang.csv', index_col='date', parse_dates=True)\n",
    "fb = pd.read_csv('data/fb_stock.csv', index_col='date', parse_dates=True)\n",
    "covid = pd.read_csv('data/covid.csv').assign(\n",
    "    date=lambda x: pd.to_datetime(x.dateRep, format='%d/%m/%Y')\n",
    ").set_index('date').replace(\n",
    "    'United_States_of_America', 'USA'\n",
    ").sort_index()['2020-01-18':'2020-09-18']"
   ]
  },
  {
   "cell_type": "markdown",
   "id": "46e77338-3f39-4680-a086-8ad6251951ca",
   "metadata": {},
   "source": [
    "## 1\n",
    "With the `earthquake.csv` file, select all earthquakes in Japan with a magnitude of 4 or greater."
   ]
  },
  {
   "cell_type": "code",
   "execution_count": null,
   "id": "0b0d6439-acb7-424f-830d-f3f3d42ce128",
   "metadata": {},
   "outputs": [],
   "source": [
    "quakes.query(\n",
    "    \"parsed_place == 'Japan' and magType == 'mb' and mag >= 4\"\n",
    ")[['mag', 'magType', 'place']]"
   ]
  },
  {
   "cell_type": "markdown",
   "id": "8a6fe8ec-1d31-4e20-84ce-7056f1be8219",
   "metadata": {},
   "source": [
    "## 2\n",
    "Create bins for each full number of earthquake magnitude and count how many are in each bin."
   ]
  },
  {
   "cell_type": "code",
   "execution_count": null,
   "id": "91821edb-2a69-4021-b575-052265a8582c",
   "metadata": {},
   "outputs": [],
   "source": [
    "quakes.query(\"magType == 'ml'\").assign(\n",
    "    mag_bin=lambda x: pd.cut(x.mag, np.arange(0, 10))\n",
    ").mag_bin.value_counts()"
   ]
  },
  {
   "cell_type": "markdown",
   "id": "0558b121-44ee-42c9-a1ae-776d3261b968",
   "metadata": {},
   "source": [
    "## 3\n",
    "Using the `faang.csv`: Group by ticker and resample to monthly.\n",
    "\n",
    "Make the following aggregations:\n",
    "- Mean opening price\n",
    "- Max high price\n",
    "- Min low price\n",
    "- Mean closing price\n",
    "- Sum of volume traded"
   ]
  },
  {
   "cell_type": "code",
   "execution_count": null,
   "id": "3cbf19ab-9567-49a6-9428-348ce23e400e",
   "metadata": {},
   "outputs": [],
   "source": [
    "faang.groupby('ticker').resample('1M').agg(\n",
    "    {\n",
    "        'open': np.mean,\n",
    "        'high': np.max,\n",
    "        'low': np.min,\n",
    "        'close': np.mean,\n",
    "        'volume': np.sum\n",
    "    }\n",
    ")"
   ]
  },
  {
   "cell_type": "markdown",
   "id": "ae24a421-f993-4827-8ab4-137ce670c457",
   "metadata": {},
   "source": [
    "## 4\n",
    "\n",
    "Calculate the z-scores for each numeric column of Amazon's data"
   ]
  },
  {
   "cell_type": "code",
   "execution_count": null,
   "id": "049a5f1b-c036-4cd0-8239-45298e716683",
   "metadata": {},
   "outputs": [],
   "source": [
    "faang.loc['2018-Q4'].query(\"ticker == 'AMZN'\").drop(columns='ticker').apply(\n",
    "    lambda x: x.sub(x.mean()).div(x.std())\n",
    ").head()"
   ]
  },
  {
   "cell_type": "markdown",
   "id": "a59ce17a-0cfd-4912-94e8-a1fc197a622f",
   "metadata": {},
   "source": [
    "## 5\n",
    "Represent all the values in the FAANG dataset in terms of the first date in the data. To do so, divide all values for each ticker by the values of the first date in the data for that ticker. When data is in this format, we can easily see growth over time."
   ]
  },
  {
   "cell_type": "code",
   "execution_count": null,
   "id": "68518775-a072-4e61-bcc5-480e4981fbc1",
   "metadata": {},
   "outputs": [],
   "source": [
    "faang = faang.reset_index().set_index(['ticker', 'date'])\n",
    "faang_index = (faang / faang.groupby(level='ticker').transform('first'))\n",
    "\n",
    "# view 3 rows of the result per ticker\n",
    "faang_index.groupby(level='ticker').agg('head', 3)"
   ]
  },
  {
   "cell_type": "markdown",
   "id": "84494c85-4884-4942-8959-f5329724c716",
   "metadata": {},
   "source": [
    "## 6\n",
    "In the \n",
    "In the earthquake dataset you want to only leave data for the top 5 countries in terms of number of earthquakes for magType 'ml', 'md' and 'mb'"
   ]
  },
  {
   "cell_type": "code",
   "execution_count": 119,
   "id": "71826791-d113-4463-bf35-0ca978afd160",
   "metadata": {},
   "outputs": [],
   "source": [
    "q = quakes[quakes['magType'].isin(['ml', 'md', 'mb'])]"
   ]
  },
  {
   "cell_type": "code",
   "execution_count": 128,
   "id": "ec7e6f88-d166-4ba6-84e1-ef1465d2fa11",
   "metadata": {},
   "outputs": [],
   "source": [
    "q = (q[q['parsed_place']\n",
    "        .isin(q\n",
    "        .groupby('parsed_place')['mag']\n",
    "        .count()\n",
    "        .nlargest(5)\n",
    "        .index)]\n",
    "    )"
   ]
  },
  {
   "cell_type": "code",
   "execution_count": 130,
   "id": "dd7cf413-a2fc-482b-9f30-3f91af7a8b5c",
   "metadata": {},
   "outputs": [
    {
     "data": {
      "text/html": [
       "<div>\n",
       "<style scoped>\n",
       "    .dataframe tbody tr th:only-of-type {\n",
       "        vertical-align: middle;\n",
       "    }\n",
       "\n",
       "    .dataframe tbody tr th {\n",
       "        vertical-align: top;\n",
       "    }\n",
       "\n",
       "    .dataframe thead th {\n",
       "        text-align: right;\n",
       "    }\n",
       "</style>\n",
       "<table border=\"1\" class=\"dataframe\">\n",
       "  <thead>\n",
       "    <tr style=\"text-align: right;\">\n",
       "      <th></th>\n",
       "      <th>mag</th>\n",
       "      <th>magType</th>\n",
       "      <th>time</th>\n",
       "      <th>place</th>\n",
       "      <th>tsunami</th>\n",
       "      <th>parsed_place</th>\n",
       "    </tr>\n",
       "  </thead>\n",
       "  <tbody>\n",
       "    <tr>\n",
       "      <th>0</th>\n",
       "      <td>1.35</td>\n",
       "      <td>ml</td>\n",
       "      <td>1539475168010</td>\n",
       "      <td>9km NE of Aguanga, CA</td>\n",
       "      <td>0</td>\n",
       "      <td>California</td>\n",
       "    </tr>\n",
       "    <tr>\n",
       "      <th>1</th>\n",
       "      <td>1.29</td>\n",
       "      <td>ml</td>\n",
       "      <td>1539475129610</td>\n",
       "      <td>9km NE of Aguanga, CA</td>\n",
       "      <td>0</td>\n",
       "      <td>California</td>\n",
       "    </tr>\n",
       "    <tr>\n",
       "      <th>2</th>\n",
       "      <td>3.42</td>\n",
       "      <td>ml</td>\n",
       "      <td>1539475062610</td>\n",
       "      <td>8km NE of Aguanga, CA</td>\n",
       "      <td>0</td>\n",
       "      <td>California</td>\n",
       "    </tr>\n",
       "    <tr>\n",
       "      <th>3</th>\n",
       "      <td>0.44</td>\n",
       "      <td>ml</td>\n",
       "      <td>1539474978070</td>\n",
       "      <td>9km NE of Aguanga, CA</td>\n",
       "      <td>0</td>\n",
       "      <td>California</td>\n",
       "    </tr>\n",
       "    <tr>\n",
       "      <th>4</th>\n",
       "      <td>2.16</td>\n",
       "      <td>md</td>\n",
       "      <td>1539474716050</td>\n",
       "      <td>10km NW of Avenal, CA</td>\n",
       "      <td>0</td>\n",
       "      <td>California</td>\n",
       "    </tr>\n",
       "    <tr>\n",
       "      <th>...</th>\n",
       "      <td>...</td>\n",
       "      <td>...</td>\n",
       "      <td>...</td>\n",
       "      <td>...</td>\n",
       "      <td>...</td>\n",
       "      <td>...</td>\n",
       "    </tr>\n",
       "    <tr>\n",
       "      <th>9327</th>\n",
       "      <td>0.62</td>\n",
       "      <td>md</td>\n",
       "      <td>1537230228060</td>\n",
       "      <td>9km ENE of Mammoth Lakes, CA</td>\n",
       "      <td>0</td>\n",
       "      <td>California</td>\n",
       "    </tr>\n",
       "    <tr>\n",
       "      <th>9328</th>\n",
       "      <td>1.00</td>\n",
       "      <td>ml</td>\n",
       "      <td>1537230135130</td>\n",
       "      <td>3km W of Julian, CA</td>\n",
       "      <td>0</td>\n",
       "      <td>California</td>\n",
       "    </tr>\n",
       "    <tr>\n",
       "      <th>9329</th>\n",
       "      <td>2.40</td>\n",
       "      <td>md</td>\n",
       "      <td>1537229908180</td>\n",
       "      <td>35km NNE of Hatillo, Puerto Rico</td>\n",
       "      <td>0</td>\n",
       "      <td>Puerto Rico</td>\n",
       "    </tr>\n",
       "    <tr>\n",
       "      <th>9330</th>\n",
       "      <td>1.10</td>\n",
       "      <td>ml</td>\n",
       "      <td>1537229545350</td>\n",
       "      <td>9km NE of Aguanga, CA</td>\n",
       "      <td>0</td>\n",
       "      <td>California</td>\n",
       "    </tr>\n",
       "    <tr>\n",
       "      <th>9331</th>\n",
       "      <td>0.66</td>\n",
       "      <td>ml</td>\n",
       "      <td>1537228864470</td>\n",
       "      <td>9km NE of Aguanga, CA</td>\n",
       "      <td>0</td>\n",
       "      <td>California</td>\n",
       "    </tr>\n",
       "  </tbody>\n",
       "</table>\n",
       "<p>7776 rows × 6 columns</p>\n",
       "</div>"
      ],
      "text/plain": [
       "       mag magType           time                             place  tsunami  \\\n",
       "0     1.35      ml  1539475168010             9km NE of Aguanga, CA        0   \n",
       "1     1.29      ml  1539475129610             9km NE of Aguanga, CA        0   \n",
       "2     3.42      ml  1539475062610             8km NE of Aguanga, CA        0   \n",
       "3     0.44      ml  1539474978070             9km NE of Aguanga, CA        0   \n",
       "4     2.16      md  1539474716050             10km NW of Avenal, CA        0   \n",
       "...    ...     ...            ...                               ...      ...   \n",
       "9327  0.62      md  1537230228060      9km ENE of Mammoth Lakes, CA        0   \n",
       "9328  1.00      ml  1537230135130               3km W of Julian, CA        0   \n",
       "9329  2.40      md  1537229908180  35km NNE of Hatillo, Puerto Rico        0   \n",
       "9330  1.10      ml  1537229545350             9km NE of Aguanga, CA        0   \n",
       "9331  0.66      ml  1537228864470             9km NE of Aguanga, CA        0   \n",
       "\n",
       "     parsed_place  \n",
       "0      California  \n",
       "1      California  \n",
       "2      California  \n",
       "3      California  \n",
       "4      California  \n",
       "...           ...  \n",
       "9327   California  \n",
       "9328   California  \n",
       "9329  Puerto Rico  \n",
       "9330   California  \n",
       "9331   California  \n",
       "\n",
       "[7776 rows x 6 columns]"
      ]
     },
     "execution_count": 130,
     "metadata": {},
     "output_type": "execute_result"
    }
   ],
   "source": [
    "q"
   ]
  },
  {
   "cell_type": "markdown",
   "id": "43a6d092-3a61-42be-bf5c-1177f18d5386",
   "metadata": {},
   "source": [
    "## 7\n",
    "Using seaborn, create a heatmap to visualize the correlation coefficients between earthquake magnitude and whether there was a tsunami with the mb magnitude type."
   ]
  },
  {
   "cell_type": "code",
   "execution_count": 132,
   "id": "b86c7cd4-4424-49fd-85e5-8af5701072f6",
   "metadata": {},
   "outputs": [
    {
     "data": {
      "text/plain": [
       "Text(0.5, 1.01, 'Correlation between earthquake magnitude\\nand whether there was a tsunami')"
      ]
     },
     "execution_count": 132,
     "metadata": {},
     "output_type": "execute_result"
    },
    {
     "data": {
      "image/png": "[encoded data removed]",
      "text/plain": [
       "<Figure size 640x480 with 2 Axes>"
      ]
     },
     "metadata": {},
     "output_type": "display_data"
    }
   ],
   "source": [
    "sns.heatmap(\n",
    "    quakes.query('magType == \"mb\"')[['mag','tsunami']].corr(), \n",
    "    annot=True, center=0, vmin=-1, vmax=1\n",
    ")\n",
    "plt.yticks(rotation=0)\n",
    "plt.title('Correlation between earthquake magnitude\\nand whether there was a tsunami', y=1.01)"
   ]
  },
  {
   "cell_type": "markdown",
   "id": "a5267781-0942-44d5-9861-9ac7d9cd85a9",
   "metadata": {},
   "source": [
    "## 8\n",
    "Perform a EDA for the covid dataset"
   ]
  },
  {
   "cell_type": "code",
   "execution_count": null,
   "id": "3130e76e-d2cc-41e8-b582-92ab4ef88195",
   "metadata": {},
   "outputs": [],
   "source": []
  },
  {
   "cell_type": "markdown",
   "id": "2ca38183-ad84-49c8-9f9d-2525f11c0b62",
   "metadata": {},
   "source": [
    "## 9\n",
    "Analyse the Facebook dataset"
   ]
  },
  {
   "cell_type": "code",
   "execution_count": null,
   "id": "0bdf083e-a875-4db7-91cd-07160144b0a7",
   "metadata": {},
   "outputs": [],
   "source": []
  }
 ],
 "metadata": {
  "kernelspec": {
   "display_name": "Python 3 (ipykernel)",
   "language": "python",
   "name": "python3"
  },
  "language_info": {
   "codemirror_mode": {
    "name": "ipython",
    "version": 3
   },
   "file_extension": ".py",
   "mimetype": "text/x-python",
   "name": "python",
   "nbconvert_exporter": "python",
   "pygments_lexer": "ipython3",
   "version": "3.9.13"
  }
 },
 "nbformat": 4,
 "nbformat_minor": 5
}
