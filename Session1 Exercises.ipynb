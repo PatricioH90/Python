{
 "cells": [
  {
   "cell_type": "markdown",
   "id": "1243a6dc-be21-4b28-8c3f-739a31a5b38b",
   "metadata": {},
   "source": [
    "# Session1 Exercises"
   ]
  },
  {
   "cell_type": "markdown",
   "id": "1e42cd21-810b-4946-bbe6-0d6a3f48fac6",
   "metadata": {},
   "source": [
    "### 1.0\n",
    "\n",
    "Create a Series with the temperature values for the last 14 days in Boston."
   ]
  },
  {
   "cell_type": "code",
   "execution_count": null,
   "id": "fec47130-327f-49e6-80c7-f3223066c7d0",
   "metadata": {},
   "outputs": [],
   "source": []
  },
  {
   "cell_type": "markdown",
   "id": "2a03c6de-9e53-46e1-993d-3992e32eac94",
   "metadata": {},
   "source": [
    "### 1.1\n",
    "\n",
    "Filter out the values below the mean"
   ]
  },
  {
   "cell_type": "code",
   "execution_count": null,
   "id": "03ec6097-fa42-459d-8076-6287d80ba83a",
   "metadata": {},
   "outputs": [],
   "source": []
  },
  {
   "cell_type": "markdown",
   "id": "3dec0007-6292-4acc-871a-274eefa117c6",
   "metadata": {},
   "source": [
    "### 1.2\n",
    "\n",
    "Create a Series with the temperature values for the last 10 days in San Francisco."
   ]
  },
  {
   "cell_type": "code",
   "execution_count": null,
   "id": "5a705b01-3b30-458d-8ecf-60f0ab58da3d",
   "metadata": {},
   "outputs": [],
   "source": []
  },
  {
   "cell_type": "markdown",
   "id": "a9a73024-ef2d-4169-bf4d-ecc7c0b2b564",
   "metadata": {},
   "source": [
    "### 1.3\n",
    "\n",
    "Calculate the temperature difference per day. Programatically find the day with the highest difference."
   ]
  },
  {
   "cell_type": "code",
   "execution_count": null,
   "id": "a4194446-f9e8-4d34-943a-49e4f4c5d434",
   "metadata": {},
   "outputs": [],
   "source": []
  },
  {
   "cell_type": "markdown",
   "id": "0e6f7208-9626-46b2-9817-805cfd3acd6c",
   "metadata": {},
   "source": [
    "### 1.4\n",
    "\n",
    "Find the maximum and minimum temperatures for Boston and San Francisco"
   ]
  },
  {
   "cell_type": "code",
   "execution_count": null,
   "id": "455d56d7-304a-40a5-9c0d-204353a50ba9",
   "metadata": {},
   "outputs": [],
   "source": []
  },
  {
   "cell_type": "markdown",
   "id": "48483ae8-2a63-4402-8503-85c854890fa2",
   "metadata": {},
   "source": [
    "### 1.5\n",
    "\n",
    "Plot the temperatures in Boston and San Francisco"
   ]
  },
  {
   "cell_type": "code",
   "execution_count": null,
   "id": "ca4c2fb6-2159-4f4b-9cf6-a926b5218642",
   "metadata": {},
   "outputs": [],
   "source": []
  },
  {
   "cell_type": "markdown",
   "id": "f9bd9525-fc8e-40dd-ad59-0b8927a2e97f",
   "metadata": {},
   "source": [
    "### 2.1\n",
    "\n",
    "Create a Dataframe with the names of your team members, their age, their favorite food, their favorite room temperature"
   ]
  },
  {
   "cell_type": "code",
   "execution_count": null,
   "id": "f32ef89c-d661-4d80-888a-89653c1baaac",
   "metadata": {},
   "outputs": [],
   "source": []
  },
  {
   "cell_type": "markdown",
   "id": "de01f81c-6a06-41b4-b118-6afa5ca5ef5f",
   "metadata": {},
   "source": [
    "### 2.2\n",
    "\n",
    "Get the two oldes team members"
   ]
  },
  {
   "cell_type": "code",
   "execution_count": null,
   "id": "e567eb23-8650-41d7-8c55-a4c5c7938802",
   "metadata": {},
   "outputs": [],
   "source": []
  },
  {
   "cell_type": "markdown",
   "id": "049fc05e-7fc1-4eb3-8f24-d8f50e0155c2",
   "metadata": {},
   "source": [
    "### 2.3\n",
    "\n",
    "Which team member is closest in favorite temperature to the 3rd percentil?"
   ]
  },
  {
   "cell_type": "code",
   "execution_count": null,
   "id": "01d28c6e-eac4-4507-87d4-08b532e1159b",
   "metadata": {},
   "outputs": [],
   "source": []
  },
  {
   "cell_type": "markdown",
   "id": "4cbd4488-3354-40b4-9347-dbd14bfe9f59",
   "metadata": {},
   "source": [
    "### 2.4\n",
    "\n",
    "Get the 2nd and 3rd team members' favorite foods"
   ]
  },
  {
   "cell_type": "code",
   "execution_count": null,
   "id": "899859a8-4b30-4170-b3f4-4408486697c6",
   "metadata": {},
   "outputs": [],
   "source": []
  },
  {
   "cell_type": "markdown",
   "id": "ee90784e-53b3-4eef-b186-146f0e2a2dee",
   "metadata": {},
   "source": [
    "### 2.5\n",
    "\n",
    "Add 2 degrees to the favorite room temperature of the oldest two team members"
   ]
  },
  {
   "cell_type": "code",
   "execution_count": null,
   "id": "d4c90646-aa1e-4dcf-b251-2d46a681d445",
   "metadata": {},
   "outputs": [],
   "source": []
  }
 ],
 "metadata": {
  "kernelspec": {
   "display_name": "Python 3 (ipykernel)",
   "language": "python",
   "name": "python3"
  },
  "language_info": {
   "codemirror_mode": {
    "name": "ipython",
    "version": 3
   },
   "file_extension": ".py",
   "mimetype": "text/x-python",
   "name": "python",
   "nbconvert_exporter": "python",
   "pygments_lexer": "ipython3",
   "version": "3.9.13"
  },
  "toc": {
   "base_numbering": 1,
   "nav_menu": {},
   "number_sections": true,
   "sideBar": true,
   "skip_h1_title": false,
   "title_cell": "Table of Contents",
   "title_sidebar": "Contents",
   "toc_cell": false,
   "toc_position": {},
   "toc_section_display": true,
   "toc_window_display": false
  },
  "varInspector": {
   "cols": {
    "lenName": 16,
    "lenType": 16,
    "lenVar": 40
   },
   "kernels_config": {
    "python": {
     "delete_cmd_postfix": "",
     "delete_cmd_prefix": "del ",
     "library": "var_list.py",
     "varRefreshCmd": "print(var_dic_list())"
    },
    "r": {
     "delete_cmd_postfix": ") ",
     "delete_cmd_prefix": "rm(",
     "library": "var_list.r",
     "varRefreshCmd": "cat(var_dic_list()) "
    }
   },
   "types_to_exclude": [
    "module",
    "function",
    "builtin_function_or_method",
    "instance",
    "_Feature"
   ],
   "window_display": false
  }
 },
 "nbformat": 4,
 "nbformat_minor": 5
}
