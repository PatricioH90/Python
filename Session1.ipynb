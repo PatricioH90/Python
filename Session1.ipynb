{
 "cells": [
  {
   "cell_type": "markdown",
   "id": "d6ffb86d-8f54-47e5-b7f7-9a3217fa1c2c",
   "metadata": {},
   "source": [
    "# Session 1 - Introduction to Pandas\n",
    "\n",
    "Pandas is an open source Python package that is most widely used for data science/data analysis and machine learning tasks. It is built on top of another package named Numpy, which provides support for multi-dimensional arrays.\n",
    "\n",
    "https://pandas.pydata.org/\n",
    "\n",
    "- Data cleansing\n",
    "- Data fill\n",
    "- Data normalization\n",
    "- Merges and joins\n",
    "- Data visualization\n",
    "- Statistical analysis\n",
    "- Data inspection\n",
    "- Loading and saving data\n",
    "\n",
    "Before it can be used it needs to be imported."
   ]
  },
  {
   "cell_type": "code",
   "execution_count": 83,
   "id": "727978c8-0a12-4656-bd63-66a07f0a4811",
   "metadata": {},
   "outputs": [],
   "source": [
    "import pandas as pd\n",
    "import numpy as np\n",
    "import datetime as dt"
   ]
  },
  {
   "cell_type": "markdown",
   "id": "f2de7fcc-765a-40f0-8587-0847e3cf69ba",
   "metadata": {
    "tags": []
   },
   "source": [
    "## Series\n",
    "\n",
    "On the most basic level Pandas is built on a datastructure called Series.\n",
    "\n",
    "A series is used to hold 1-dimentional data similar to a list.\n",
    "\n",
    "Other than a list which only holds the data a Series holds some additional information:\n",
    "- Name\n",
    "- Index"
   ]
  },
  {
   "cell_type": "code",
   "execution_count": 21,
   "id": "8da4e998-2448-4fac-ad8e-f39cc40652a0",
   "metadata": {},
   "outputs": [
    {
     "name": "stdout",
     "output_type": "stream",
     "text": [
      "0    15\n",
      "1    13\n",
      "2    11\n",
      "3     9\n",
      "Name: ages, dtype: int64\n"
     ]
    }
   ],
   "source": [
    "SampleSeries = pd.Series([15, 13, 11, 9],\n",
    "                         name = 'ages')\n",
    "print(SampleSeries)"
   ]
  },
  {
   "cell_type": "markdown",
   "id": "03afd148-adac-488d-b7c1-fd253f1712cf",
   "metadata": {},
   "source": [
    "The index can be almost anything. Also non-numeric."
   ]
  },
  {
   "cell_type": "code",
   "execution_count": 22,
   "id": "ca053801-f6dc-42fa-8429-a880572e1592",
   "metadata": {},
   "outputs": [
    {
     "name": "stdout",
     "output_type": "stream",
     "text": [
      "Layla     15\n",
      "Mia       13\n",
      "Laurin    11\n",
      "Lea        9\n",
      "Name: ages, dtype: int64\n"
     ]
    }
   ],
   "source": [
    "SampleSeries2 = pd.Series([15, 13, 11, 9],\n",
    "                         name = 'ages',\n",
    "                         index = ['Layla', 'Mia', 'Laurin', 'Lea'])\n",
    "print(SampleSeries2)"
   ]
  },
  {
   "cell_type": "markdown",
   "id": "2492e4cb-5dd9-4bca-af19-9c183bf6f301",
   "metadata": {},
   "source": [
    "To access elements we can use the index."
   ]
  },
  {
   "cell_type": "code",
   "execution_count": 20,
   "id": "63e63c23-c0c0-4c79-902e-ca63d1903e70",
   "metadata": {},
   "outputs": [
    {
     "name": "stdout",
     "output_type": "stream",
     "text": [
      "Age of the second child on the list: 13\n",
      "Layla's age: 15\n"
     ]
    }
   ],
   "source": [
    "print(f\"Age of the second child on the list: {SampleSeries[1]}\")\n",
    "print(f\"Layla's age: {SampleSeries2['Layla']}\")"
   ]
  },
  {
   "cell_type": "markdown",
   "id": "a39d5c18-e108-400e-82e6-6053a1952f3b",
   "metadata": {},
   "source": [
    "Also a boolean map can be used to access or filter certain elements."
   ]
  },
  {
   "cell_type": "code",
   "execution_count": 23,
   "id": "a3b2a4ca-501a-4ee2-bd15-b328245b4b48",
   "metadata": {},
   "outputs": [
    {
     "name": "stdout",
     "output_type": "stream",
     "text": [
      "Layla    15\n",
      "Mia      13\n",
      "Lea       9\n",
      "Name: ages, dtype: int64\n"
     ]
    }
   ],
   "source": [
    "girl = [True, True, False, True]\n",
    "\n",
    "Girls = SampleSeries2[girl]\n",
    "print(Girls)"
   ]
  },
  {
   "cell_type": "markdown",
   "id": "ff5c123e-32b2-4029-bc11-f4c951fbf8ba",
   "metadata": {},
   "source": [
    "### Aggregations\n",
    "\n",
    "Aggregation methods collapse the values of a Series down to a scalar.\n",
    "\n",
    "They can be things like:\n",
    "- How many (count)\n",
    "- Total (sum)\n",
    "- Average (mean)"
   ]
  },
  {
   "cell_type": "markdown",
   "id": "a6e82f53-b701-4161-a1ee-3a36e40d8c63",
   "metadata": {},
   "source": [
    "Pandas Series give many aggregate functions and some aggregate properties.\n",
    "\n",
    "Here a list of the most common ones (referencing the Series object \"sample\"):\n",
    "\n",
    "- `sample.mean()` Returns the average value.\n",
    "- `sample.is_unique` Returns if the values are unique\n",
    "- `sample.quantile(q)` Returns the 50% quantile value if q is not set. If q is set it returns the q-th quantile or quantiles.\n",
    "- `sample.count()` Returns the number of values\n",
    "- `sample.min()` Returns the minimum\n",
    "- `sample.max()` Returns the maximum\n",
    "- `sample.median()` Returns the median value\n",
    "- `sample.std()` Returns the standard deviation\n",
    "- `sample.var()` Returns the variance\n",
    "- `sample.skew()` Returns the skew\n",
    "- `sample.kurtosis()` Returns the kurtosis\n",
    "- `size` Returns the number of items in Series"
   ]
  },
  {
   "cell_type": "code",
   "execution_count": 45,
   "id": "4ff243dc-ca54-4f22-8c8c-69b85b448abe",
   "metadata": {},
   "outputs": [
    {
     "name": "stdout",
     "output_type": "stream",
     "text": [
      "Mean: 12.0\n",
      "Unique: True\n",
      "50% Quantile: 12.0\n",
      "90% Quantile: 14.4\n",
      "10% and 90% Quantile: [ 9.6 14.4]\n",
      "Count: 4\n",
      "Maximum: 15\n",
      "Minimum: 9\n",
      "Median: 12.0\n",
      "Standard Deviation: 2.6\n",
      "Variance: 6.7\n",
      "Skew: 0.0\n",
      "Kurtosis: -1.2\n",
      "Size: 4\n"
     ]
    }
   ],
   "source": [
    "print(f\"Mean: {SampleSeries2.mean()}\")\n",
    "print(f\"Unique: {SampleSeries2.is_unique}\")\n",
    "print(f\"50% Quantile: {SampleSeries2.quantile()}\")\n",
    "print(f\"90% Quantile: {SampleSeries2.quantile(0.9)}\")\n",
    "print(f\"10% and 90% Quantile: {SampleSeries2.quantile([0.1, 0.9]).values}\")\n",
    "print(f\"Count: {SampleSeries2.count()}\")\n",
    "print(f\"Maximum: {SampleSeries2.max()}\")\n",
    "print(f\"Minimum: {SampleSeries2.min()}\")\n",
    "print(f\"Median: {SampleSeries2.median()}\")\n",
    "print(f\"Standard Deviation: {SampleSeries2.std():2.2}\")\n",
    "print(f\"Variance: {SampleSeries2.var():2.2}\")\n",
    "print(f\"Skew: {SampleSeries2.skew()}\")\n",
    "print(f\"Kurtosis: {SampleSeries2.kurtosis():2.2}\")\n",
    "print(f\"Size: {SampleSeries2.size}\")"
   ]
  },
  {
   "cell_type": "markdown",
   "id": "7da3ffa4-e9bd-4517-a3c0-30eacee073bc",
   "metadata": {},
   "source": [
    "### Sorting\n",
    "\n",
    "There are two easy methods for sorting a Series by either the values or the index:\n",
    "\n",
    "`sample.sort_values(ascending=True)` sorts the Series by its values.\n",
    "\n",
    "`sample.sort_index(ascending=True)` sorts the Series by its index."
   ]
  },
  {
   "cell_type": "code",
   "execution_count": 67,
   "id": "967e652c-2fc3-4fe8-9507-eb58c61982d0",
   "metadata": {},
   "outputs": [
    {
     "name": "stdout",
     "output_type": "stream",
     "text": [
      "Original:\n",
      "Layla     15\n",
      "Mia       13\n",
      "Laurin    11\n",
      "Lea        9\n",
      "Name: ages, dtype: int64\n",
      "\n",
      "Sorted by values ascending:\n",
      "Lea        9\n",
      "Laurin    11\n",
      "Mia       13\n",
      "Layla     15\n",
      "Name: ages, dtype: int64\n",
      "\n",
      "Sorted by index decending:\n",
      "Mia       13\n",
      "Lea        9\n",
      "Layla     15\n",
      "Laurin    11\n",
      "Name: ages, dtype: int64\n"
     ]
    }
   ],
   "source": [
    "print(f\"Original:\\n{SampleSeries2}\")\n",
    "print(f\"\\nSorted by values ascending:\\n{SampleSeries2.sort_values()}\")\n",
    "print(f\"\\nSorted by index decending:\\n{SampleSeries2.sort_index(ascending=False)}\")"
   ]
  },
  {
   "cell_type": "markdown",
   "id": "96e3b21e-a810-4a9a-84f2-c1e1a8220d8c",
   "metadata": {},
   "source": [
    "### Math operations and index alignment\n",
    "\n",
    "You can apply math operations on a Series and a Scalar as well as on two Series."
   ]
  },
  {
   "cell_type": "code",
   "execution_count": 69,
   "id": "a308b377-f904-4952-ad4e-d0ac41c271ad",
   "metadata": {},
   "outputs": [
    {
     "name": "stdout",
     "output_type": "stream",
     "text": [
      "0    10\n",
      "1    20\n",
      "2    30\n",
      "Name: s1, dtype: int64\n",
      "0    35\n",
      "1    44\n",
      "2    53\n",
      "Name: s2, dtype: int64\n"
     ]
    }
   ],
   "source": [
    "s1 = pd.Series([10, 20, 30], name='s1')\n",
    "s2 = pd.Series([35, 44, 53], name='s2')\n",
    "print(s1)\n",
    "print(s2)"
   ]
  },
  {
   "cell_type": "code",
   "execution_count": 70,
   "id": "3fe12291-bea3-4dcc-b27b-27a029424b99",
   "metadata": {},
   "outputs": [
    {
     "data": {
      "text/plain": [
       "0    45\n",
       "1    64\n",
       "2    83\n",
       "dtype: int64"
      ]
     },
     "execution_count": 70,
     "metadata": {},
     "output_type": "execute_result"
    }
   ],
   "source": [
    "s1 + s2"
   ]
  },
  {
   "cell_type": "code",
   "execution_count": 76,
   "id": "b3725078-4c09-4444-b8ba-62f859b7be72",
   "metadata": {},
   "outputs": [
    {
     "data": {
      "text/plain": [
       "0    20\n",
       "1    30\n",
       "2    40\n",
       "Name: s1, dtype: int64"
      ]
     },
     "execution_count": 76,
     "metadata": {},
     "output_type": "execute_result"
    }
   ],
   "source": [
    "s1 + 10"
   ]
  },
  {
   "cell_type": "code",
   "execution_count": 71,
   "id": "71995e72-ed13-4137-8c09-96367748e3e1",
   "metadata": {},
   "outputs": [
    {
     "data": {
      "text/plain": [
       "0     350\n",
       "1     880\n",
       "2    1590\n",
       "dtype: int64"
      ]
     },
     "execution_count": 71,
     "metadata": {},
     "output_type": "execute_result"
    }
   ],
   "source": [
    "s1 * s2"
   ]
  },
  {
   "cell_type": "code",
   "execution_count": 72,
   "id": "17201fc7-e3b4-4522-a3ba-bae1d4552ec8",
   "metadata": {},
   "outputs": [
    {
     "data": {
      "text/plain": [
       "0    0.285714\n",
       "1    0.454545\n",
       "2    0.566038\n",
       "dtype: float64"
      ]
     },
     "execution_count": 72,
     "metadata": {},
     "output_type": "execute_result"
    }
   ],
   "source": [
    "s1 / s2"
   ]
  },
  {
   "cell_type": "code",
   "execution_count": 77,
   "id": "c792beaf-2018-47a3-bc6a-a2085919343b",
   "metadata": {},
   "outputs": [
    {
     "data": {
      "text/plain": [
       "0     5\n",
       "1    15\n",
       "2    25\n",
       "Name: s1, dtype: int64"
      ]
     },
     "execution_count": 77,
     "metadata": {},
     "output_type": "execute_result"
    }
   ],
   "source": [
    "s1 - 5"
   ]
  },
  {
   "cell_type": "markdown",
   "id": "ad86e4a2-7752-4563-a59c-de9894ddaea6",
   "metadata": {},
   "source": [
    "**When you operate with two Series be careful with the indexes.**\n",
    "\n",
    "Pandas will align the index before performing the operation. This will take each index entry in the left Series and match it up with every entry with the same name in the index of the right Series.\n",
    "\n",
    "Because of this make sure that index values are:\n",
    "- unique\n",
    "- common to both series"
   ]
  },
  {
   "cell_type": "code",
   "execution_count": 78,
   "id": "1c9a5263-47fd-4e2d-9234-d7f885deeccd",
   "metadata": {},
   "outputs": [
    {
     "name": "stdout",
     "output_type": "stream",
     "text": [
      "1    10\n",
      "2    20\n",
      "2    30\n",
      "Name: s1, dtype: int64\n",
      "2    35\n",
      "2    44\n",
      "4    53\n",
      "Name: s2, dtype: int64\n"
     ]
    }
   ],
   "source": [
    "s1 = pd.Series([10, 20, 30], name='s1', index=[1, 2, 2])\n",
    "s2 = pd.Series([35, 44, 53], name='s2', index=[2, 2, 4])\n",
    "print(s1)\n",
    "print(s2)"
   ]
  },
  {
   "cell_type": "code",
   "execution_count": 79,
   "id": "3b82a8cf-d190-412b-978b-88b054f55683",
   "metadata": {},
   "outputs": [
    {
     "data": {
      "text/plain": [
       "1     NaN\n",
       "2    55.0\n",
       "2    64.0\n",
       "2    65.0\n",
       "2    74.0\n",
       "4     NaN\n",
       "dtype: float64"
      ]
     },
     "execution_count": 79,
     "metadata": {},
     "output_type": "execute_result"
    }
   ],
   "source": [
    "s1 + s2"
   ]
  },
  {
   "cell_type": "markdown",
   "id": "c6d316a3-cbbb-4aba-97d0-4e747a20dfce",
   "metadata": {},
   "source": [
    "For each of these math operators there is also a method available."
   ]
  },
  {
   "cell_type": "code",
   "execution_count": 80,
   "id": "e4d47be6-17d5-46fe-ab64-552bd1b4c411",
   "metadata": {},
   "outputs": [
    {
     "data": {
      "text/plain": [
       "1     NaN\n",
       "2    55.0\n",
       "2    64.0\n",
       "2    65.0\n",
       "2    74.0\n",
       "4     NaN\n",
       "dtype: float64"
      ]
     },
     "execution_count": 80,
     "metadata": {},
     "output_type": "execute_result"
    }
   ],
   "source": [
    "s1.add(s2)"
   ]
  },
  {
   "cell_type": "markdown",
   "id": "75694a72-4701-46e4-9e52-a77382672dbf",
   "metadata": {},
   "source": [
    "#### Table of operators and methods\n",
    "\n",
    "| Operator | Method | Description |\n",
    "|---|---|---|\n",
    "| `s1 + s2` | `s1.add(s2)` | Addition |\n",
    "| `s1 - s2` | `s1.sub(s2)` | Subtraction |\n",
    "| `s1 * s2` | `s1.mul(s2)` | Multiplication |\n",
    "| `s1 / s2` | `s1.div(s2)` | Division |\n",
    "| `s1 % s2` | `s1.mod(s2)` | Modulo |\n",
    "| `s1 ** s2` | `s1.pow(s2)` | Exponential power |\n",
    "| `s1 == s2` | `s1.eq(s2)` | Elementwise equals |\n",
    "| `s1 != s2` | `s1.ne(s2)` | Elementwise not equals |\n",
    "| `s1 > s2` | `s1.gt(s2)` | Elementwise greater than |\n",
    "| `s1 >= s2` | `s1.ge(s2)` | Elementwise greater than or equal |\n",
    "| `s1 < s2` | `s1.lt(s2)` | Elementwise less than |\n",
    "| `s1 <= s2` | `s1.le(s2)` | Elementwise less than or equal |"
   ]
  },
  {
   "cell_type": "markdown",
   "id": "235c6833-0cca-49cf-a8e0-6b3be597cc42",
   "metadata": {},
   "source": [
    "### Plotting\n",
    "\n",
    "https://pandas.pydata.org/docs/reference/api/pandas.Series.plot.html"
   ]
  },
  {
   "cell_type": "code",
   "execution_count": 61,
   "id": "dc7b40d4-3995-4bd7-9f63-c82eead22d5a",
   "metadata": {},
   "outputs": [
    {
     "data": {
      "image/png": "[encoded data removed]",
      "text/plain": [
       "<Figure size 640x480 with 1 Axes>"
      ]
     },
     "metadata": {},
     "output_type": "display_data"
    }
   ],
   "source": [
    "plt = SampleSeries2.sort_index(ascending=True).plot(title = \"Ages\")"
   ]
  },
  {
   "cell_type": "markdown",
   "id": "aec6281b-c0cc-4bdc-9ad2-8236b9b8c3b0",
   "metadata": {
    "tags": []
   },
   "source": [
    "## Dataframe\n",
    "\n",
    "The Dataframe is what you will work of most when working with Pandas. It is very similar to a spreadsheet. You can also think of it as a combination of multiple Series (the columns) with a common index.\n",
    "\n",
    "A Dataframe consists of:\n",
    "- columns: the column labels (like headers in a spreadsheet)\n",
    "- index: the row index similar to a Series\n",
    "- values: the actual data"
   ]
  },
  {
   "cell_type": "markdown",
   "id": "aa5837ab-58cc-4086-983c-3bed9f8d3a4a",
   "metadata": {
    "tags": []
   },
   "source": [
    "### Creating Dataframes from Python objects\n",
    "\n",
    "Dataframes can be created by loading data from files and databases as well as from other Python data structures. One common way is to use a dictionary as basis."
   ]
  },
  {
   "cell_type": "code",
   "execution_count": 82,
   "id": "593e7875-09be-44af-9d2d-0119ea7e4abd",
   "metadata": {},
   "outputs": [
    {
     "data": {
      "text/plain": [
       "{'randomValue': array([0.14250143, 0.22828168, 0.79467952, 0.33659562, 0.14393207]),\n",
       " 'someText': ['I', 'love', 'data', 'science', None],\n",
       " 'aBooleanValue': [True, True, True, True, False]}"
      ]
     },
     "execution_count": 82,
     "metadata": {},
     "output_type": "execute_result"
    }
   ],
   "source": [
    "dic = {\n",
    "    'randomValue': np.random.rand(5),\n",
    "    'someText': ['I', 'love', 'data', 'science', None],\n",
    "    'aBooleanValue': [np.random.choice([True, False]) for _ in range(5)]}\n",
    "dic"
   ]
  },
  {
   "cell_type": "code",
   "execution_count": 110,
   "id": "1d7048ee-45b0-46ae-9826-35f3ee066f5d",
   "metadata": {},
   "outputs": [
    {
     "data": {
      "text/html": [
       "<div>\n",
       "<style scoped>\n",
       "    .dataframe tbody tr th:only-of-type {\n",
       "        vertical-align: middle;\n",
       "    }\n",
       "\n",
       "    .dataframe tbody tr th {\n",
       "        vertical-align: top;\n",
       "    }\n",
       "\n",
       "    .dataframe thead th {\n",
       "        text-align: right;\n",
       "    }\n",
       "</style>\n",
       "<table border=\"1\" class=\"dataframe\">\n",
       "  <thead>\n",
       "    <tr style=\"text-align: right;\">\n",
       "      <th></th>\n",
       "      <th>randomValue</th>\n",
       "      <th>someText</th>\n",
       "      <th>aBooleanValue</th>\n",
       "    </tr>\n",
       "    <tr>\n",
       "      <th>Date</th>\n",
       "      <th></th>\n",
       "      <th></th>\n",
       "      <th></th>\n",
       "    </tr>\n",
       "  </thead>\n",
       "  <tbody>\n",
       "    <tr>\n",
       "      <th>2023-05-19</th>\n",
       "      <td>0.142501</td>\n",
       "      <td>I</td>\n",
       "      <td>True</td>\n",
       "    </tr>\n",
       "    <tr>\n",
       "      <th>2023-05-20</th>\n",
       "      <td>0.228282</td>\n",
       "      <td>love</td>\n",
       "      <td>True</td>\n",
       "    </tr>\n",
       "    <tr>\n",
       "      <th>2023-05-21</th>\n",
       "      <td>0.794680</td>\n",
       "      <td>data</td>\n",
       "      <td>True</td>\n",
       "    </tr>\n",
       "    <tr>\n",
       "      <th>2023-05-22</th>\n",
       "      <td>0.336596</td>\n",
       "      <td>science</td>\n",
       "      <td>True</td>\n",
       "    </tr>\n",
       "    <tr>\n",
       "      <th>2023-05-23</th>\n",
       "      <td>0.143932</td>\n",
       "      <td>None</td>\n",
       "      <td>False</td>\n",
       "    </tr>\n",
       "  </tbody>\n",
       "</table>\n",
       "</div>"
      ],
      "text/plain": [
       "            randomValue someText  aBooleanValue\n",
       "Date                                           \n",
       "2023-05-19     0.142501        I           True\n",
       "2023-05-20     0.228282     love           True\n",
       "2023-05-21     0.794680     data           True\n",
       "2023-05-22     0.336596  science           True\n",
       "2023-05-23     0.143932     None          False"
      ]
     },
     "execution_count": 110,
     "metadata": {},
     "output_type": "execute_result"
    }
   ],
   "source": [
    "df = pd.DataFrame(dic,\n",
    "                  index = pd.date_range(\n",
    "                      end = dt.date(2023, 5, 23),\n",
    "                      freq = '1D',\n",
    "                      periods = 5,\n",
    "                      name = 'Date')\n",
    "                 )\n",
    "df"
   ]
  },
  {
   "cell_type": "markdown",
   "id": "96a20710-3228-4a4b-90aa-f2f08b6cd304",
   "metadata": {},
   "source": [
    "Examining the contents."
   ]
  },
  {
   "cell_type": "code",
   "execution_count": 111,
   "id": "7dd37ee9-dd7a-4b03-8356-689a31c5cba6",
   "metadata": {},
   "outputs": [
    {
     "data": {
      "text/plain": [
       "DatetimeIndex(['2023-05-19', '2023-05-20', '2023-05-21', '2023-05-22',\n",
       "               '2023-05-23'],\n",
       "              dtype='datetime64[ns]', name='Date', freq='D')"
      ]
     },
     "execution_count": 111,
     "metadata": {},
     "output_type": "execute_result"
    }
   ],
   "source": [
    "df.index"
   ]
  },
  {
   "cell_type": "code",
   "execution_count": 112,
   "id": "870baf7c-b5c1-46bb-bdb1-11350766cfc4",
   "metadata": {},
   "outputs": [
    {
     "data": {
      "text/plain": [
       "Index(['randomValue', 'someText', 'aBooleanValue'], dtype='object')"
      ]
     },
     "execution_count": 112,
     "metadata": {},
     "output_type": "execute_result"
    }
   ],
   "source": [
    "df.columns"
   ]
  },
  {
   "cell_type": "code",
   "execution_count": 113,
   "id": "ffa9a472-c61e-4173-ae97-851388f8e5ab",
   "metadata": {},
   "outputs": [
    {
     "data": {
      "text/plain": [
       "array([[0.14250143251702074, 'I', True],\n",
       "       [0.22828168328154186, 'love', True],\n",
       "       [0.7946795187565043, 'data', True],\n",
       "       [0.33659562473095184, 'science', True],\n",
       "       [0.14393207497783855, None, False]], dtype=object)"
      ]
     },
     "execution_count": 113,
     "metadata": {},
     "output_type": "execute_result"
    }
   ],
   "source": [
    "df.values"
   ]
  },
  {
   "cell_type": "markdown",
   "id": "354618f4-594f-4b5b-9243-1818dc925e20",
   "metadata": {},
   "source": [
    "This also works on lists of dictionaries which is very common when working with APIs."
   ]
  },
  {
   "cell_type": "code",
   "execution_count": 88,
   "id": "ec92eb4e-03bd-4f7c-9881-69cb8f973fca",
   "metadata": {},
   "outputs": [
    {
     "data": {
      "text/html": [
       "<div>\n",
       "<style scoped>\n",
       "    .dataframe tbody tr th:only-of-type {\n",
       "        vertical-align: middle;\n",
       "    }\n",
       "\n",
       "    .dataframe tbody tr th {\n",
       "        vertical-align: top;\n",
       "    }\n",
       "\n",
       "    .dataframe thead th {\n",
       "        text-align: right;\n",
       "    }\n",
       "</style>\n",
       "<table border=\"1\" class=\"dataframe\">\n",
       "  <thead>\n",
       "    <tr style=\"text-align: right;\">\n",
       "      <th></th>\n",
       "      <th>date</th>\n",
       "      <th>ticker</th>\n",
       "      <th>closing</th>\n",
       "    </tr>\n",
       "  </thead>\n",
       "  <tbody>\n",
       "    <tr>\n",
       "      <th>0</th>\n",
       "      <td>2023-01-01</td>\n",
       "      <td>AAPL</td>\n",
       "      <td>159.45</td>\n",
       "    </tr>\n",
       "    <tr>\n",
       "      <th>1</th>\n",
       "      <td>2023-01-01</td>\n",
       "      <td>GOOG</td>\n",
       "      <td>84.30</td>\n",
       "    </tr>\n",
       "    <tr>\n",
       "      <th>2</th>\n",
       "      <td>2023-01-01</td>\n",
       "      <td>FB2A</td>\n",
       "      <td>124.76</td>\n",
       "    </tr>\n",
       "  </tbody>\n",
       "</table>\n",
       "</div>"
      ],
      "text/plain": [
       "         date ticker  closing\n",
       "0  2023-01-01   AAPL   159.45\n",
       "1  2023-01-01   GOOG    84.30\n",
       "2  2023-01-01   FB2A   124.76"
      ]
     },
     "execution_count": 88,
     "metadata": {},
     "output_type": "execute_result"
    }
   ],
   "source": [
    "df = pd.DataFrame([\n",
    "    {'date': '2023-01-01', 'ticker': 'AAPL', 'closing': 159.45},\n",
    "    {'date': '2023-01-01', 'ticker': 'GOOG', 'closing': 84.3},\n",
    "    {'date': '2023-01-01', 'ticker': 'FB2A', 'closing': 124.76}])\n",
    "df"
   ]
  },
  {
   "cell_type": "markdown",
   "id": "3d8c5b5b-7198-43e9-9c2f-0685c61b10c2",
   "metadata": {},
   "source": [
    "In order to make a certain colums the index you can use the `set_index` method."
   ]
  },
  {
   "cell_type": "code",
   "execution_count": 90,
   "id": "6c3970a2-bc27-4327-96aa-0ff21a133eb5",
   "metadata": {},
   "outputs": [
    {
     "data": {
      "text/html": [
       "<div>\n",
       "<style scoped>\n",
       "    .dataframe tbody tr th:only-of-type {\n",
       "        vertical-align: middle;\n",
       "    }\n",
       "\n",
       "    .dataframe tbody tr th {\n",
       "        vertical-align: top;\n",
       "    }\n",
       "\n",
       "    .dataframe thead th {\n",
       "        text-align: right;\n",
       "    }\n",
       "</style>\n",
       "<table border=\"1\" class=\"dataframe\">\n",
       "  <thead>\n",
       "    <tr style=\"text-align: right;\">\n",
       "      <th></th>\n",
       "      <th>ticker</th>\n",
       "      <th>closing</th>\n",
       "    </tr>\n",
       "    <tr>\n",
       "      <th>date</th>\n",
       "      <th></th>\n",
       "      <th></th>\n",
       "    </tr>\n",
       "  </thead>\n",
       "  <tbody>\n",
       "    <tr>\n",
       "      <th>2023-01-01</th>\n",
       "      <td>AAPL</td>\n",
       "      <td>159.45</td>\n",
       "    </tr>\n",
       "    <tr>\n",
       "      <th>2023-01-01</th>\n",
       "      <td>GOOG</td>\n",
       "      <td>84.30</td>\n",
       "    </tr>\n",
       "    <tr>\n",
       "      <th>2023-01-01</th>\n",
       "      <td>FB2A</td>\n",
       "      <td>124.76</td>\n",
       "    </tr>\n",
       "  </tbody>\n",
       "</table>\n",
       "</div>"
      ],
      "text/plain": [
       "           ticker  closing\n",
       "date                      \n",
       "2023-01-01   AAPL   159.45\n",
       "2023-01-01   GOOG    84.30\n",
       "2023-01-01   FB2A   124.76"
      ]
     },
     "execution_count": 90,
     "metadata": {},
     "output_type": "execute_result"
    }
   ],
   "source": [
    "df = df.set_index('date')\n",
    "df"
   ]
  },
  {
   "cell_type": "markdown",
   "id": "1334c9a2-6e31-4482-8ea0-d8e13bc18363",
   "metadata": {},
   "source": [
    "A dataframe can also have index consisting of multiple columns."
   ]
  },
  {
   "cell_type": "code",
   "execution_count": 91,
   "id": "449add84-5fe0-4c45-8787-9be695690a64",
   "metadata": {},
   "outputs": [
    {
     "data": {
      "text/html": [
       "<div>\n",
       "<style scoped>\n",
       "    .dataframe tbody tr th:only-of-type {\n",
       "        vertical-align: middle;\n",
       "    }\n",
       "\n",
       "    .dataframe tbody tr th {\n",
       "        vertical-align: top;\n",
       "    }\n",
       "\n",
       "    .dataframe thead th {\n",
       "        text-align: right;\n",
       "    }\n",
       "</style>\n",
       "<table border=\"1\" class=\"dataframe\">\n",
       "  <thead>\n",
       "    <tr style=\"text-align: right;\">\n",
       "      <th></th>\n",
       "      <th>date</th>\n",
       "      <th>ticker</th>\n",
       "      <th>closing</th>\n",
       "    </tr>\n",
       "  </thead>\n",
       "  <tbody>\n",
       "    <tr>\n",
       "      <th>0</th>\n",
       "      <td>2023-01-01</td>\n",
       "      <td>AAPL</td>\n",
       "      <td>159.45</td>\n",
       "    </tr>\n",
       "    <tr>\n",
       "      <th>1</th>\n",
       "      <td>2023-01-01</td>\n",
       "      <td>GOOG</td>\n",
       "      <td>84.30</td>\n",
       "    </tr>\n",
       "    <tr>\n",
       "      <th>2</th>\n",
       "      <td>2023-01-01</td>\n",
       "      <td>FB2A</td>\n",
       "      <td>124.76</td>\n",
       "    </tr>\n",
       "  </tbody>\n",
       "</table>\n",
       "</div>"
      ],
      "text/plain": [
       "         date ticker  closing\n",
       "0  2023-01-01   AAPL   159.45\n",
       "1  2023-01-01   GOOG    84.30\n",
       "2  2023-01-01   FB2A   124.76"
      ]
     },
     "execution_count": 91,
     "metadata": {},
     "output_type": "execute_result"
    }
   ],
   "source": [
    "df = pd.DataFrame([\n",
    "    {'date': '2023-01-01', 'ticker': 'AAPL', 'closing': 159.45},\n",
    "    {'date': '2023-01-01', 'ticker': 'GOOG', 'closing': 84.3},\n",
    "    {'date': '2023-01-01', 'ticker': 'FB2A', 'closing': 124.76}])\n",
    "df"
   ]
  },
  {
   "cell_type": "code",
   "execution_count": 92,
   "id": "6d15eb3a-91e4-4bc3-b45f-4d504e427c26",
   "metadata": {},
   "outputs": [
    {
     "data": {
      "text/html": [
       "<div>\n",
       "<style scoped>\n",
       "    .dataframe tbody tr th:only-of-type {\n",
       "        vertical-align: middle;\n",
       "    }\n",
       "\n",
       "    .dataframe tbody tr th {\n",
       "        vertical-align: top;\n",
       "    }\n",
       "\n",
       "    .dataframe thead th {\n",
       "        text-align: right;\n",
       "    }\n",
       "</style>\n",
       "<table border=\"1\" class=\"dataframe\">\n",
       "  <thead>\n",
       "    <tr style=\"text-align: right;\">\n",
       "      <th></th>\n",
       "      <th></th>\n",
       "      <th>closing</th>\n",
       "    </tr>\n",
       "    <tr>\n",
       "      <th>date</th>\n",
       "      <th>ticker</th>\n",
       "      <th></th>\n",
       "    </tr>\n",
       "  </thead>\n",
       "  <tbody>\n",
       "    <tr>\n",
       "      <th rowspan=\"3\" valign=\"top\">2023-01-01</th>\n",
       "      <th>AAPL</th>\n",
       "      <td>159.45</td>\n",
       "    </tr>\n",
       "    <tr>\n",
       "      <th>GOOG</th>\n",
       "      <td>84.30</td>\n",
       "    </tr>\n",
       "    <tr>\n",
       "      <th>FB2A</th>\n",
       "      <td>124.76</td>\n",
       "    </tr>\n",
       "  </tbody>\n",
       "</table>\n",
       "</div>"
      ],
      "text/plain": [
       "                   closing\n",
       "date       ticker         \n",
       "2023-01-01 AAPL     159.45\n",
       "           GOOG      84.30\n",
       "           FB2A     124.76"
      ]
     },
     "execution_count": 92,
     "metadata": {},
     "output_type": "execute_result"
    }
   ],
   "source": [
    "df = df.set_index(['date', 'ticker'])\n",
    "df"
   ]
  },
  {
   "cell_type": "markdown",
   "id": "7815fc24-0e25-4958-af51-93fdda1fcf16",
   "metadata": {},
   "source": [
    "Of course dataframes can also be created from one or more Series."
   ]
  },
  {
   "cell_type": "code",
   "execution_count": 96,
   "id": "c06a8a01-b4bb-45bc-885b-b440919e98de",
   "metadata": {},
   "outputs": [
    {
     "name": "stdout",
     "output_type": "stream",
     "text": [
      "Layla     15\n",
      "Mia       13\n",
      "Laurin    11\n",
      "Lea        9\n",
      "Name: ages, dtype: int64\n"
     ]
    }
   ],
   "source": [
    "SampleSeries2 = pd.Series([15, 13, 11, 9],\n",
    "                         name = 'ages',\n",
    "                         index = ['Layla', 'Mia', 'Laurin', 'Lea'])\n",
    "print(SampleSeries2)"
   ]
  },
  {
   "cell_type": "code",
   "execution_count": 99,
   "id": "b107ddd9-ba30-4d91-b43a-5efb9a278198",
   "metadata": {},
   "outputs": [
    {
     "data": {
      "text/html": [
       "<div>\n",
       "<style scoped>\n",
       "    .dataframe tbody tr th:only-of-type {\n",
       "        vertical-align: middle;\n",
       "    }\n",
       "\n",
       "    .dataframe tbody tr th {\n",
       "        vertical-align: top;\n",
       "    }\n",
       "\n",
       "    .dataframe thead th {\n",
       "        text-align: right;\n",
       "    }\n",
       "</style>\n",
       "<table border=\"1\" class=\"dataframe\">\n",
       "  <thead>\n",
       "    <tr style=\"text-align: right;\">\n",
       "      <th></th>\n",
       "      <th>ages</th>\n",
       "    </tr>\n",
       "  </thead>\n",
       "  <tbody>\n",
       "    <tr>\n",
       "      <th>Layla</th>\n",
       "      <td>15</td>\n",
       "    </tr>\n",
       "    <tr>\n",
       "      <th>Mia</th>\n",
       "      <td>13</td>\n",
       "    </tr>\n",
       "    <tr>\n",
       "      <th>Laurin</th>\n",
       "      <td>11</td>\n",
       "    </tr>\n",
       "    <tr>\n",
       "      <th>Lea</th>\n",
       "      <td>9</td>\n",
       "    </tr>\n",
       "  </tbody>\n",
       "</table>\n",
       "</div>"
      ],
      "text/plain": [
       "        ages\n",
       "Layla     15\n",
       "Mia       13\n",
       "Laurin    11\n",
       "Lea        9"
      ]
     },
     "execution_count": 99,
     "metadata": {},
     "output_type": "execute_result"
    }
   ],
   "source": [
    "df = pd.DataFrame(SampleSeries2)\n",
    "df"
   ]
  },
  {
   "cell_type": "code",
   "execution_count": 100,
   "id": "b203485e-ea01-4cb4-a42b-749bf07d1d22",
   "metadata": {},
   "outputs": [
    {
     "data": {
      "text/html": [
       "<div>\n",
       "<style scoped>\n",
       "    .dataframe tbody tr th:only-of-type {\n",
       "        vertical-align: middle;\n",
       "    }\n",
       "\n",
       "    .dataframe tbody tr th {\n",
       "        vertical-align: top;\n",
       "    }\n",
       "\n",
       "    .dataframe thead th {\n",
       "        text-align: right;\n",
       "    }\n",
       "</style>\n",
       "<table border=\"1\" class=\"dataframe\">\n",
       "  <thead>\n",
       "    <tr style=\"text-align: right;\">\n",
       "      <th></th>\n",
       "      <th>ages</th>\n",
       "    </tr>\n",
       "  </thead>\n",
       "  <tbody>\n",
       "    <tr>\n",
       "      <th>Layla</th>\n",
       "      <td>15</td>\n",
       "    </tr>\n",
       "    <tr>\n",
       "      <th>Mia</th>\n",
       "      <td>13</td>\n",
       "    </tr>\n",
       "    <tr>\n",
       "      <th>Laurin</th>\n",
       "      <td>11</td>\n",
       "    </tr>\n",
       "    <tr>\n",
       "      <th>Lea</th>\n",
       "      <td>9</td>\n",
       "    </tr>\n",
       "  </tbody>\n",
       "</table>\n",
       "</div>"
      ],
      "text/plain": [
       "        ages\n",
       "Layla     15\n",
       "Mia       13\n",
       "Laurin    11\n",
       "Lea        9"
      ]
     },
     "execution_count": 100,
     "metadata": {},
     "output_type": "execute_result"
    }
   ],
   "source": [
    "df = SampleSeries2.to_frame()\n",
    "df"
   ]
  },
  {
   "cell_type": "markdown",
   "id": "8f36de7d-ed5d-445c-9956-a6b18605ff60",
   "metadata": {},
   "source": [
    "If you want to convert multiple Series into one Dataframe you need to do the conversion individually first and then concatenate the Dataframes into one."
   ]
  },
  {
   "cell_type": "code",
   "execution_count": 97,
   "id": "745a6a82-5729-4669-bea1-93571135a902",
   "metadata": {},
   "outputs": [
    {
     "name": "stdout",
     "output_type": "stream",
     "text": [
      "Layla       bunny\n",
      "Mia       hamster\n",
      "Laurin       None\n",
      "Lea       hamster\n",
      "Name: pet, dtype: object\n"
     ]
    }
   ],
   "source": [
    "SampleSeries3 = pd.Series(['bunny', 'hamster', None, 'hamster'],\n",
    "                         name = 'pet',\n",
    "                         index = ['Layla', 'Mia', 'Laurin', 'Lea'])\n",
    "print(SampleSeries3)"
   ]
  },
  {
   "cell_type": "code",
   "execution_count": 104,
   "id": "dd2b1f8b-6f29-4b3a-9e31-635fc0ac3289",
   "metadata": {},
   "outputs": [
    {
     "data": {
      "text/html": [
       "<div>\n",
       "<style scoped>\n",
       "    .dataframe tbody tr th:only-of-type {\n",
       "        vertical-align: middle;\n",
       "    }\n",
       "\n",
       "    .dataframe tbody tr th {\n",
       "        vertical-align: top;\n",
       "    }\n",
       "\n",
       "    .dataframe thead th {\n",
       "        text-align: right;\n",
       "    }\n",
       "</style>\n",
       "<table border=\"1\" class=\"dataframe\">\n",
       "  <thead>\n",
       "    <tr style=\"text-align: right;\">\n",
       "      <th></th>\n",
       "      <th>ages</th>\n",
       "      <th>pet</th>\n",
       "    </tr>\n",
       "  </thead>\n",
       "  <tbody>\n",
       "    <tr>\n",
       "      <th>Layla</th>\n",
       "      <td>15</td>\n",
       "      <td>bunny</td>\n",
       "    </tr>\n",
       "    <tr>\n",
       "      <th>Mia</th>\n",
       "      <td>13</td>\n",
       "      <td>hamster</td>\n",
       "    </tr>\n",
       "    <tr>\n",
       "      <th>Laurin</th>\n",
       "      <td>11</td>\n",
       "      <td>None</td>\n",
       "    </tr>\n",
       "    <tr>\n",
       "      <th>Lea</th>\n",
       "      <td>9</td>\n",
       "      <td>hamster</td>\n",
       "    </tr>\n",
       "  </tbody>\n",
       "</table>\n",
       "</div>"
      ],
      "text/plain": [
       "        ages      pet\n",
       "Layla     15    bunny\n",
       "Mia       13  hamster\n",
       "Laurin    11     None\n",
       "Lea        9  hamster"
      ]
     },
     "execution_count": 104,
     "metadata": {},
     "output_type": "execute_result"
    }
   ],
   "source": [
    "df2 = SampleSeries2.to_frame()\n",
    "df3 = SampleSeries3.to_frame()\n",
    "df = pd.concat([df2, df3], axis=1)\n",
    "df"
   ]
  },
  {
   "cell_type": "markdown",
   "id": "51a9e491-4d33-498b-9aed-d28e033990e3",
   "metadata": {},
   "source": [
    "There is another way using the `Dataframe` method."
   ]
  },
  {
   "cell_type": "code",
   "execution_count": 102,
   "id": "2a3bbbbd-0fdd-4d1f-b61b-c01c05fb112f",
   "metadata": {},
   "outputs": [
    {
     "data": {
      "text/html": [
       "<div>\n",
       "<style scoped>\n",
       "    .dataframe tbody tr th:only-of-type {\n",
       "        vertical-align: middle;\n",
       "    }\n",
       "\n",
       "    .dataframe tbody tr th {\n",
       "        vertical-align: top;\n",
       "    }\n",
       "\n",
       "    .dataframe thead th {\n",
       "        text-align: right;\n",
       "    }\n",
       "</style>\n",
       "<table border=\"1\" class=\"dataframe\">\n",
       "  <thead>\n",
       "    <tr style=\"text-align: right;\">\n",
       "      <th></th>\n",
       "      <th>Layla</th>\n",
       "      <th>Mia</th>\n",
       "      <th>Laurin</th>\n",
       "      <th>Lea</th>\n",
       "    </tr>\n",
       "  </thead>\n",
       "  <tbody>\n",
       "    <tr>\n",
       "      <th>ages</th>\n",
       "      <td>15</td>\n",
       "      <td>13</td>\n",
       "      <td>11.0</td>\n",
       "      <td>9</td>\n",
       "    </tr>\n",
       "    <tr>\n",
       "      <th>pet</th>\n",
       "      <td>bunny</td>\n",
       "      <td>hamster</td>\n",
       "      <td>NaN</td>\n",
       "      <td>hamster</td>\n",
       "    </tr>\n",
       "  </tbody>\n",
       "</table>\n",
       "</div>"
      ],
      "text/plain": [
       "      Layla      Mia  Laurin      Lea\n",
       "ages     15       13    11.0        9\n",
       "pet   bunny  hamster     NaN  hamster"
      ]
     },
     "execution_count": 102,
     "metadata": {},
     "output_type": "execute_result"
    }
   ],
   "source": [
    "df = pd.DataFrame([SampleSeries2, SampleSeries3])\n",
    "df"
   ]
  },
  {
   "cell_type": "markdown",
   "id": "c61b8ac3-abb1-4476-86d6-7561ca653224",
   "metadata": {},
   "source": [
    "The result has the original index values as columns which is not what we want. An easy fix is to transpose the output."
   ]
  },
  {
   "cell_type": "code",
   "execution_count": 105,
   "id": "ef0c1804-9f80-448e-85c1-087eb526eb7b",
   "metadata": {},
   "outputs": [
    {
     "data": {
      "text/html": [
       "<div>\n",
       "<style scoped>\n",
       "    .dataframe tbody tr th:only-of-type {\n",
       "        vertical-align: middle;\n",
       "    }\n",
       "\n",
       "    .dataframe tbody tr th {\n",
       "        vertical-align: top;\n",
       "    }\n",
       "\n",
       "    .dataframe thead th {\n",
       "        text-align: right;\n",
       "    }\n",
       "</style>\n",
       "<table border=\"1\" class=\"dataframe\">\n",
       "  <thead>\n",
       "    <tr style=\"text-align: right;\">\n",
       "      <th></th>\n",
       "      <th>ages</th>\n",
       "      <th>pet</th>\n",
       "    </tr>\n",
       "  </thead>\n",
       "  <tbody>\n",
       "    <tr>\n",
       "      <th>Layla</th>\n",
       "      <td>15</td>\n",
       "      <td>bunny</td>\n",
       "    </tr>\n",
       "    <tr>\n",
       "      <th>Mia</th>\n",
       "      <td>13</td>\n",
       "      <td>hamster</td>\n",
       "    </tr>\n",
       "    <tr>\n",
       "      <th>Laurin</th>\n",
       "      <td>11.0</td>\n",
       "      <td>NaN</td>\n",
       "    </tr>\n",
       "    <tr>\n",
       "      <th>Lea</th>\n",
       "      <td>9</td>\n",
       "      <td>hamster</td>\n",
       "    </tr>\n",
       "  </tbody>\n",
       "</table>\n",
       "</div>"
      ],
      "text/plain": [
       "        ages      pet\n",
       "Layla     15    bunny\n",
       "Mia       13  hamster\n",
       "Laurin  11.0      NaN\n",
       "Lea        9  hamster"
      ]
     },
     "execution_count": 105,
     "metadata": {},
     "output_type": "execute_result"
    }
   ],
   "source": [
    "df = pd.DataFrame([SampleSeries2, SampleSeries3]).T\n",
    "df"
   ]
  },
  {
   "cell_type": "markdown",
   "id": "02501278-2e48-47b7-ba4f-bd50f94d2671",
   "metadata": {
    "tags": []
   },
   "source": [
    "### Accessing data in a Dataframe"
   ]
  },
  {
   "cell_type": "code",
   "execution_count": 160,
   "id": "54a1034d-2ec7-415a-ab81-460d6fab17a4",
   "metadata": {},
   "outputs": [
    {
     "data": {
      "text/html": [
       "<div>\n",
       "<style scoped>\n",
       "    .dataframe tbody tr th:only-of-type {\n",
       "        vertical-align: middle;\n",
       "    }\n",
       "\n",
       "    .dataframe tbody tr th {\n",
       "        vertical-align: top;\n",
       "    }\n",
       "\n",
       "    .dataframe thead th {\n",
       "        text-align: right;\n",
       "    }\n",
       "</style>\n",
       "<table border=\"1\" class=\"dataframe\">\n",
       "  <thead>\n",
       "    <tr style=\"text-align: right;\">\n",
       "      <th></th>\n",
       "      <th>randomValue</th>\n",
       "      <th>someText</th>\n",
       "      <th>aBooleanValue</th>\n",
       "    </tr>\n",
       "  </thead>\n",
       "  <tbody>\n",
       "    <tr>\n",
       "      <th>Row_1</th>\n",
       "      <td>0.251412</td>\n",
       "      <td>I</td>\n",
       "      <td>False</td>\n",
       "    </tr>\n",
       "    <tr>\n",
       "      <th>Row_2</th>\n",
       "      <td>0.321268</td>\n",
       "      <td>love</td>\n",
       "      <td>True</td>\n",
       "    </tr>\n",
       "    <tr>\n",
       "      <th>Row_3</th>\n",
       "      <td>0.033930</td>\n",
       "      <td>data</td>\n",
       "      <td>True</td>\n",
       "    </tr>\n",
       "    <tr>\n",
       "      <th>Row_4</th>\n",
       "      <td>0.751936</td>\n",
       "      <td>science</td>\n",
       "      <td>False</td>\n",
       "    </tr>\n",
       "    <tr>\n",
       "      <th>Row_5</th>\n",
       "      <td>0.735792</td>\n",
       "      <td>None</td>\n",
       "      <td>False</td>\n",
       "    </tr>\n",
       "  </tbody>\n",
       "</table>\n",
       "</div>"
      ],
      "text/plain": [
       "       randomValue someText  aBooleanValue\n",
       "Row_1     0.251412        I          False\n",
       "Row_2     0.321268     love           True\n",
       "Row_3     0.033930     data           True\n",
       "Row_4     0.751936  science          False\n",
       "Row_5     0.735792     None          False"
      ]
     },
     "execution_count": 160,
     "metadata": {},
     "output_type": "execute_result"
    }
   ],
   "source": [
    "df = pd.DataFrame({\n",
    "            'randomValue': np.random.rand(5),\n",
    "            'someText': ['I', 'love', 'data', 'science', None],\n",
    "            'aBooleanValue': [np.random.choice([True, False]) for _ in range(5)]\n",
    "            },\n",
    "            index = ['Row_1', 'Row_2', 'Row_3', 'Row_4', 'Row_5']\n",
    "            )\n",
    "df"
   ]
  },
  {
   "cell_type": "markdown",
   "id": "0b35d472-dfe0-4205-bd1c-2d9cb0ff6062",
   "metadata": {},
   "source": [
    "#### Accessing columns"
   ]
  },
  {
   "cell_type": "code",
   "execution_count": 120,
   "id": "b3745beb-f320-4d84-8818-64cef701e09a",
   "metadata": {},
   "outputs": [
    {
     "data": {
      "text/plain": [
       "Row_1          I\n",
       "Row_2       love\n",
       "Row_3       data\n",
       "Row_4    science\n",
       "Row_5       None\n",
       "Name: someText, dtype: object"
      ]
     },
     "execution_count": 120,
     "metadata": {},
     "output_type": "execute_result"
    }
   ],
   "source": [
    "df['someText']"
   ]
  },
  {
   "cell_type": "code",
   "execution_count": 121,
   "id": "9b2d3c6f-17ab-4d75-8118-ab132c3435e1",
   "metadata": {},
   "outputs": [
    {
     "data": {
      "text/plain": [
       "array(['I', 'love', 'data', 'science', None], dtype=object)"
      ]
     },
     "execution_count": 121,
     "metadata": {},
     "output_type": "execute_result"
    }
   ],
   "source": [
    "df['someText'].values"
   ]
  },
  {
   "cell_type": "markdown",
   "id": "85b06253-3196-47f7-a190-637261137aab",
   "metadata": {},
   "source": [
    "If the column name doesn't contain spaces you can also use the .-notation."
   ]
  },
  {
   "cell_type": "code",
   "execution_count": 139,
   "id": "c3269f0e-cce7-42ff-a6de-c51e3a42ddd6",
   "metadata": {},
   "outputs": [
    {
     "data": {
      "text/plain": [
       "Row_1          I\n",
       "Row_2       love\n",
       "Row_3       data\n",
       "Row_4    science\n",
       "Row_5       None\n",
       "Name: someText, dtype: object"
      ]
     },
     "execution_count": 139,
     "metadata": {},
     "output_type": "execute_result"
    }
   ],
   "source": [
    "df.someText"
   ]
  },
  {
   "cell_type": "code",
   "execution_count": 140,
   "id": "54f50436-0f3d-4b50-8dd2-f69d70056172",
   "metadata": {},
   "outputs": [
    {
     "data": {
      "text/plain": [
       "array(['I', 'love', 'data', 'science', None], dtype=object)"
      ]
     },
     "execution_count": 140,
     "metadata": {},
     "output_type": "execute_result"
    }
   ],
   "source": [
    "df.someText.values"
   ]
  },
  {
   "cell_type": "code",
   "execution_count": 141,
   "id": "651b6f10-2682-414d-994b-f838b271c6df",
   "metadata": {},
   "outputs": [
    {
     "data": {
      "text/plain": [
       "'love'"
      ]
     },
     "execution_count": 141,
     "metadata": {},
     "output_type": "execute_result"
    }
   ],
   "source": [
    "df.someText['Row_2']"
   ]
  },
  {
   "cell_type": "code",
   "execution_count": 144,
   "id": "5f52d25d-9d53-4f49-b3b1-db80b466982c",
   "metadata": {},
   "outputs": [
    {
     "data": {
      "text/plain": [
       "'love'"
      ]
     },
     "execution_count": 144,
     "metadata": {},
     "output_type": "execute_result"
    }
   ],
   "source": [
    "df.someText.values[1]"
   ]
  },
  {
   "cell_type": "markdown",
   "id": "1e0166d0-677c-4dac-b10d-c2b9fd3bc89e",
   "metadata": {},
   "source": [
    "#### loc\n",
    "\n",
    "DataFrame.loc method is a method that takes only index labels and returns row or dataframe if the index label exists in the caller data frame."
   ]
  },
  {
   "cell_type": "code",
   "execution_count": 122,
   "id": "7a888302-0894-450a-a2d9-3bfe78fcd443",
   "metadata": {},
   "outputs": [
    {
     "data": {
      "text/plain": [
       "randomValue      0.056554\n",
       "someText             love\n",
       "aBooleanValue        True\n",
       "Name: Row_2, dtype: object"
      ]
     },
     "execution_count": 122,
     "metadata": {},
     "output_type": "execute_result"
    }
   ],
   "source": [
    "df.loc['Row_2']"
   ]
  },
  {
   "cell_type": "code",
   "execution_count": 130,
   "id": "d5154149-9dde-41f3-8a92-bef5042a7634",
   "metadata": {},
   "outputs": [
    {
     "data": {
      "text/plain": [
       "randomValue      0.056554\n",
       "someText             love\n",
       "aBooleanValue        True\n",
       "Name: Row_2, dtype: object"
      ]
     },
     "execution_count": 130,
     "metadata": {},
     "output_type": "execute_result"
    }
   ],
   "source": [
    "df.loc['Row_2', :]"
   ]
  },
  {
   "cell_type": "code",
   "execution_count": 124,
   "id": "cde2f53c-3425-42d2-9f7c-315c68ba9c57",
   "metadata": {},
   "outputs": [
    {
     "data": {
      "text/plain": [
       "'love'"
      ]
     },
     "execution_count": 124,
     "metadata": {},
     "output_type": "execute_result"
    }
   ],
   "source": [
    "df.loc['Row_2', 'someText']"
   ]
  },
  {
   "cell_type": "code",
   "execution_count": 128,
   "id": "d9cea6d3-3e8b-40f8-98c5-d0a98963c4d3",
   "metadata": {},
   "outputs": [
    {
     "data": {
      "text/plain": [
       "someText           love\n",
       "randomValue    0.056554\n",
       "Name: Row_2, dtype: object"
      ]
     },
     "execution_count": 128,
     "metadata": {},
     "output_type": "execute_result"
    }
   ],
   "source": [
    "df.loc['Row_2', ['someText', 'randomValue']]"
   ]
  },
  {
   "cell_type": "code",
   "execution_count": 129,
   "id": "134f60f1-e9a0-4e31-8a53-35ffbd70dfcd",
   "metadata": {},
   "outputs": [
    {
     "data": {
      "text/plain": [
       "array(['love', 0.056554139345924126], dtype=object)"
      ]
     },
     "execution_count": 129,
     "metadata": {},
     "output_type": "execute_result"
    }
   ],
   "source": [
    "df.loc['Row_2', ['someText', 'randomValue']].values"
   ]
  },
  {
   "cell_type": "code",
   "execution_count": 131,
   "id": "fed3961d-78c7-4265-b98c-f29748014897",
   "metadata": {},
   "outputs": [
    {
     "data": {
      "text/plain": [
       "Row_1          I\n",
       "Row_2       love\n",
       "Row_3       data\n",
       "Row_4    science\n",
       "Row_5       None\n",
       "Name: someText, dtype: object"
      ]
     },
     "execution_count": 131,
     "metadata": {},
     "output_type": "execute_result"
    }
   ],
   "source": [
    "df.loc[:, 'someText']"
   ]
  },
  {
   "cell_type": "code",
   "execution_count": 132,
   "id": "bdeb49a4-d071-4ab7-9d05-7a9de566a563",
   "metadata": {},
   "outputs": [
    {
     "data": {
      "text/html": [
       "<div>\n",
       "<style scoped>\n",
       "    .dataframe tbody tr th:only-of-type {\n",
       "        vertical-align: middle;\n",
       "    }\n",
       "\n",
       "    .dataframe tbody tr th {\n",
       "        vertical-align: top;\n",
       "    }\n",
       "\n",
       "    .dataframe thead th {\n",
       "        text-align: right;\n",
       "    }\n",
       "</style>\n",
       "<table border=\"1\" class=\"dataframe\">\n",
       "  <thead>\n",
       "    <tr style=\"text-align: right;\">\n",
       "      <th></th>\n",
       "      <th>randomValue</th>\n",
       "      <th>someText</th>\n",
       "      <th>aBooleanValue</th>\n",
       "    </tr>\n",
       "  </thead>\n",
       "  <tbody>\n",
       "    <tr>\n",
       "      <th>Row_2</th>\n",
       "      <td>0.056554</td>\n",
       "      <td>love</td>\n",
       "      <td>True</td>\n",
       "    </tr>\n",
       "    <tr>\n",
       "      <th>Row_3</th>\n",
       "      <td>0.589473</td>\n",
       "      <td>data</td>\n",
       "      <td>False</td>\n",
       "    </tr>\n",
       "    <tr>\n",
       "      <th>Row_4</th>\n",
       "      <td>0.589737</td>\n",
       "      <td>science</td>\n",
       "      <td>False</td>\n",
       "    </tr>\n",
       "  </tbody>\n",
       "</table>\n",
       "</div>"
      ],
      "text/plain": [
       "       randomValue someText  aBooleanValue\n",
       "Row_2     0.056554     love           True\n",
       "Row_3     0.589473     data          False\n",
       "Row_4     0.589737  science          False"
      ]
     },
     "execution_count": 132,
     "metadata": {},
     "output_type": "execute_result"
    }
   ],
   "source": [
    "df.loc['Row_2':'Row_4', :]"
   ]
  },
  {
   "cell_type": "code",
   "execution_count": 133,
   "id": "f9285cd2-02d4-4848-8c84-d08df473da79",
   "metadata": {},
   "outputs": [
    {
     "data": {
      "text/html": [
       "<div>\n",
       "<style scoped>\n",
       "    .dataframe tbody tr th:only-of-type {\n",
       "        vertical-align: middle;\n",
       "    }\n",
       "\n",
       "    .dataframe tbody tr th {\n",
       "        vertical-align: top;\n",
       "    }\n",
       "\n",
       "    .dataframe thead th {\n",
       "        text-align: right;\n",
       "    }\n",
       "</style>\n",
       "<table border=\"1\" class=\"dataframe\">\n",
       "  <thead>\n",
       "    <tr style=\"text-align: right;\">\n",
       "      <th></th>\n",
       "      <th>randomValue</th>\n",
       "      <th>someText</th>\n",
       "      <th>aBooleanValue</th>\n",
       "    </tr>\n",
       "  </thead>\n",
       "  <tbody>\n",
       "    <tr>\n",
       "      <th>Row_2</th>\n",
       "      <td>0.056554</td>\n",
       "      <td>love</td>\n",
       "      <td>True</td>\n",
       "    </tr>\n",
       "    <tr>\n",
       "      <th>Row_3</th>\n",
       "      <td>0.589473</td>\n",
       "      <td>data</td>\n",
       "      <td>False</td>\n",
       "    </tr>\n",
       "    <tr>\n",
       "      <th>Row_4</th>\n",
       "      <td>0.589737</td>\n",
       "      <td>science</td>\n",
       "      <td>False</td>\n",
       "    </tr>\n",
       "    <tr>\n",
       "      <th>Row_5</th>\n",
       "      <td>0.858771</td>\n",
       "      <td>None</td>\n",
       "      <td>False</td>\n",
       "    </tr>\n",
       "  </tbody>\n",
       "</table>\n",
       "</div>"
      ],
      "text/plain": [
       "       randomValue someText  aBooleanValue\n",
       "Row_2     0.056554     love           True\n",
       "Row_3     0.589473     data          False\n",
       "Row_4     0.589737  science          False\n",
       "Row_5     0.858771     None          False"
      ]
     },
     "execution_count": 133,
     "metadata": {},
     "output_type": "execute_result"
    }
   ],
   "source": [
    "df.loc['Row_2':, :]"
   ]
  },
  {
   "cell_type": "markdown",
   "id": "f4f88598-bf77-41d8-9200-2f7b1abf9d89",
   "metadata": {},
   "source": [
    "#### iloc\n",
    "\n",
    "Dataframe.iloc method is used when the index label of a data frame is something other than numeric series of 0, 1, 2, 3….n or in case the user doesn’t know the index label. Rows can be extracted using an imaginary index position which isn’t visible in the data frame."
   ]
  },
  {
   "cell_type": "code",
   "execution_count": 134,
   "id": "cbe8c4ad-4766-48b0-9dfa-5df19bd106d3",
   "metadata": {},
   "outputs": [
    {
     "data": {
      "text/html": [
       "<div>\n",
       "<style scoped>\n",
       "    .dataframe tbody tr th:only-of-type {\n",
       "        vertical-align: middle;\n",
       "    }\n",
       "\n",
       "    .dataframe tbody tr th {\n",
       "        vertical-align: top;\n",
       "    }\n",
       "\n",
       "    .dataframe thead th {\n",
       "        text-align: right;\n",
       "    }\n",
       "</style>\n",
       "<table border=\"1\" class=\"dataframe\">\n",
       "  <thead>\n",
       "    <tr style=\"text-align: right;\">\n",
       "      <th></th>\n",
       "      <th>randomValue</th>\n",
       "      <th>someText</th>\n",
       "      <th>aBooleanValue</th>\n",
       "    </tr>\n",
       "  </thead>\n",
       "  <tbody>\n",
       "    <tr>\n",
       "      <th>Row_3</th>\n",
       "      <td>0.589473</td>\n",
       "      <td>data</td>\n",
       "      <td>False</td>\n",
       "    </tr>\n",
       "    <tr>\n",
       "      <th>Row_4</th>\n",
       "      <td>0.589737</td>\n",
       "      <td>science</td>\n",
       "      <td>False</td>\n",
       "    </tr>\n",
       "  </tbody>\n",
       "</table>\n",
       "</div>"
      ],
      "text/plain": [
       "       randomValue someText  aBooleanValue\n",
       "Row_3     0.589473     data          False\n",
       "Row_4     0.589737  science          False"
      ]
     },
     "execution_count": 134,
     "metadata": {},
     "output_type": "execute_result"
    }
   ],
   "source": [
    "df.iloc[2:4]"
   ]
  },
  {
   "cell_type": "code",
   "execution_count": 136,
   "id": "39f3d7ca-6aed-4a04-9eb6-9594326b5633",
   "metadata": {},
   "outputs": [
    {
     "data": {
      "text/html": [
       "<div>\n",
       "<style scoped>\n",
       "    .dataframe tbody tr th:only-of-type {\n",
       "        vertical-align: middle;\n",
       "    }\n",
       "\n",
       "    .dataframe tbody tr th {\n",
       "        vertical-align: top;\n",
       "    }\n",
       "\n",
       "    .dataframe thead th {\n",
       "        text-align: right;\n",
       "    }\n",
       "</style>\n",
       "<table border=\"1\" class=\"dataframe\">\n",
       "  <thead>\n",
       "    <tr style=\"text-align: right;\">\n",
       "      <th></th>\n",
       "      <th>randomValue</th>\n",
       "      <th>someText</th>\n",
       "      <th>aBooleanValue</th>\n",
       "    </tr>\n",
       "  </thead>\n",
       "  <tbody>\n",
       "    <tr>\n",
       "      <th>Row_3</th>\n",
       "      <td>0.589473</td>\n",
       "      <td>data</td>\n",
       "      <td>False</td>\n",
       "    </tr>\n",
       "    <tr>\n",
       "      <th>Row_5</th>\n",
       "      <td>0.858771</td>\n",
       "      <td>None</td>\n",
       "      <td>False</td>\n",
       "    </tr>\n",
       "    <tr>\n",
       "      <th>Row_1</th>\n",
       "      <td>0.702577</td>\n",
       "      <td>I</td>\n",
       "      <td>False</td>\n",
       "    </tr>\n",
       "  </tbody>\n",
       "</table>\n",
       "</div>"
      ],
      "text/plain": [
       "       randomValue someText  aBooleanValue\n",
       "Row_3     0.589473     data          False\n",
       "Row_5     0.858771     None          False\n",
       "Row_1     0.702577        I          False"
      ]
     },
     "execution_count": 136,
     "metadata": {},
     "output_type": "execute_result"
    }
   ],
   "source": [
    "df.iloc[[2,4,0]]"
   ]
  },
  {
   "cell_type": "code",
   "execution_count": 138,
   "id": "62bcd1d2-d751-4891-a29c-35a0011c32fd",
   "metadata": {},
   "outputs": [
    {
     "data": {
      "text/plain": [
       "Row_3    data\n",
       "Row_5    None\n",
       "Row_1       I\n",
       "Name: someText, dtype: object"
      ]
     },
     "execution_count": 138,
     "metadata": {},
     "output_type": "execute_result"
    }
   ],
   "source": [
    "df.iloc[[2,4,0]]['someText']"
   ]
  },
  {
   "cell_type": "markdown",
   "id": "2d2b0cb6-7ea8-4a3a-b99a-ef34f21e4528",
   "metadata": {},
   "source": [
    "#### Boolean subsetting\n",
    "\n",
    "Another way to subset a dataframe that is very commonly used is to use a boolean vector to select the rows that should be kept."
   ]
  },
  {
   "cell_type": "code",
   "execution_count": 162,
   "id": "aab05b6a-2dc4-4e79-9991-0673b0f73af6",
   "metadata": {},
   "outputs": [
    {
     "data": {
      "text/plain": [
       "Row_1    False\n",
       "Row_2     True\n",
       "Row_3    False\n",
       "Row_4     True\n",
       "Row_5     True\n",
       "Name: randomValue, dtype: bool"
      ]
     },
     "execution_count": 162,
     "metadata": {},
     "output_type": "execute_result"
    }
   ],
   "source": [
    "df['randomValue'] > 0.3"
   ]
  },
  {
   "cell_type": "code",
   "execution_count": 163,
   "id": "86ab2ee5-169c-4f4f-b267-3499eebfea6d",
   "metadata": {},
   "outputs": [
    {
     "data": {
      "text/html": [
       "<div>\n",
       "<style scoped>\n",
       "    .dataframe tbody tr th:only-of-type {\n",
       "        vertical-align: middle;\n",
       "    }\n",
       "\n",
       "    .dataframe tbody tr th {\n",
       "        vertical-align: top;\n",
       "    }\n",
       "\n",
       "    .dataframe thead th {\n",
       "        text-align: right;\n",
       "    }\n",
       "</style>\n",
       "<table border=\"1\" class=\"dataframe\">\n",
       "  <thead>\n",
       "    <tr style=\"text-align: right;\">\n",
       "      <th></th>\n",
       "      <th>randomValue</th>\n",
       "      <th>someText</th>\n",
       "      <th>aBooleanValue</th>\n",
       "    </tr>\n",
       "  </thead>\n",
       "  <tbody>\n",
       "    <tr>\n",
       "      <th>Row_2</th>\n",
       "      <td>0.321268</td>\n",
       "      <td>love</td>\n",
       "      <td>True</td>\n",
       "    </tr>\n",
       "    <tr>\n",
       "      <th>Row_4</th>\n",
       "      <td>0.751936</td>\n",
       "      <td>science</td>\n",
       "      <td>False</td>\n",
       "    </tr>\n",
       "    <tr>\n",
       "      <th>Row_5</th>\n",
       "      <td>0.735792</td>\n",
       "      <td>None</td>\n",
       "      <td>False</td>\n",
       "    </tr>\n",
       "  </tbody>\n",
       "</table>\n",
       "</div>"
      ],
      "text/plain": [
       "       randomValue someText  aBooleanValue\n",
       "Row_2     0.321268     love           True\n",
       "Row_4     0.751936  science          False\n",
       "Row_5     0.735792     None          False"
      ]
     },
     "execution_count": 163,
     "metadata": {},
     "output_type": "execute_result"
    }
   ],
   "source": [
    "df.loc[df['randomValue'] > 0.3]"
   ]
  }
 ],
 "metadata": {
  "kernelspec": {
   "display_name": "Python 3 (ipykernel)",
   "language": "python",
   "name": "python3"
  },
  "language_info": {
   "codemirror_mode": {
    "name": "ipython",
    "version": 3
   },
   "file_extension": ".py",
   "mimetype": "text/x-python",
   "name": "python",
   "nbconvert_exporter": "python",
   "pygments_lexer": "ipython3",
   "version": "3.8.8"
  },
  "toc": {
   "base_numbering": 1,
   "nav_menu": {},
   "number_sections": true,
   "sideBar": true,
   "skip_h1_title": false,
   "title_cell": "Table of Contents",
   "title_sidebar": "Contents",
   "toc_cell": false,
   "toc_position": {},
   "toc_section_display": true,
   "toc_window_display": false
  },
  "varInspector": {
   "cols": {
    "lenName": 16,
    "lenType": 16,
    "lenVar": 40
   },
   "kernels_config": {
    "python": {
     "delete_cmd_postfix": "",
     "delete_cmd_prefix": "del ",
     "library": "var_list.py",
     "varRefreshCmd": "print(var_dic_list())"
    },
    "r": {
     "delete_cmd_postfix": ") ",
     "delete_cmd_prefix": "rm(",
     "library": "var_list.r",
     "varRefreshCmd": "cat(var_dic_list()) "
    }
   },
   "types_to_exclude": [
    "module",
    "function",
    "builtin_function_or_method",
    "instance",
    "_Feature"
   ],
   "window_display": false
  }
 },
 "nbformat": 4,
 "nbformat_minor": 5
}
