{
 "cells": [
  {
   "cell_type": "markdown",
   "id": "f1e553bf",
   "metadata": {},
   "source": [
    "<div style=\"float: right; margin: 0px 15px 15px 0px;\">\n",
    "<img src=\"https://upload.wikimedia.org/wikipedia/commons/b/b6/HULT_IBS_Logo_Outline_Black_%28cropped%29.png\" width=150/>\n",
    "</div>\n",
    "<h1 style=\"list-style-type: none\"> Python for Data Analysis: Methods & Tools </h1>\n",
    "<em> <strong>Practice Set 1: strings and prints</strong></em>\n",
    "<br><br>\n",
    "<b>Author:</b> Nicola Bini - Teaching Assistant<br>\n",
    "Hult International Business School <br>\n",
    "<br>"
   ]
  },
  {
   "cell_type": "markdown",
   "id": "21791144",
   "metadata": {},
   "source": [
    "# Strings exercises"
   ]
  },
  {
   "cell_type": "markdown",
   "id": "440a2b84",
   "metadata": {},
   "source": [
    "### Documentation\n",
    "Use the help function to print the documentation for the following functions: *input*, *print*, *str*, *lower*."
   ]
  },
  {
   "cell_type": "markdown",
   "id": "4dba7fe5",
   "metadata": {},
   "source": []
  },
  {
   "cell_type": "markdown",
   "id": "54c10c05",
   "metadata": {},
   "source": [
    "### Missing comments 1\n",
    "The comments on the next cell are missing the hashtags and therefore are interpreted by python as commands. Add the hashtag '#' at the beginning of the line when required."
   ]
  },
  {
   "cell_type": "code",
   "execution_count": 7,
   "id": "fa32f927",
   "metadata": {},
   "outputs": [
    {
     "ename": "SyntaxError",
     "evalue": "invalid syntax (2188029122.py, line 4)",
     "output_type": "error",
     "traceback": [
      "\u001b[1;36m  File \u001b[1;32m\"C:\\Users\\aronq\\AppData\\Local\\Temp\\ipykernel_19248\\2188029122.py\"\u001b[1;36m, line \u001b[1;32m4\u001b[0m\n\u001b[1;33m    import datetime package\u001b[0m\n\u001b[1;37m                    ^\u001b[0m\n\u001b[1;31mSyntaxError\u001b[0m\u001b[1;31m:\u001b[0m invalid syntax\n"
     ]
    }
   ],
   "source": [
    "#Days to christmas calculator:\n",
    "#It calculates how many days are left to Christmas?\n",
    "\n",
    "import datetime package\n",
    "import datetime\n",
    "\n",
    "#get today's date with the function now of datetime (method chaining)\n",
    "today = str(datetime.datetime.now().strftime(\"%m/%d/%Y\"))\n",
    "\n",
    "#print today's date\n",
    "print(f\"Today is {today}\")"
   ]
  },
  {
   "cell_type": "markdown",
   "id": "e12f1f3f",
   "metadata": {},
   "source": [
    "### Missing comments 2\n",
    "The following code is working, but it is hard to understand because the way it is formatted. Add empty lines and comments to improve its readability"
   ]
  },
  {
   "cell_type": "code",
   "execution_count": 8,
   "id": "04592184",
   "metadata": {},
   "outputs": [
    {
     "name": "stdout",
     "output_type": "stream",
     "text": [
      "What is your first name? - Alvaro\n",
      "What is your last name? - Ronquillo\n",
      "Alvaro Ronquillo has signed up\n"
     ]
    }
   ],
   "source": [
    "first_name = input('What is your first name? - ')\n",
    "last_name = input('What is your last name? - ')\n",
    "first_name = first_name.capitalize()\n",
    "last_name = last_name.capitalize()\n",
    "full_name = first_name + \" \" + last_name\n",
    "message = full_name + \" has signed up\"\n",
    "print(message)"
   ]
  },
  {
   "cell_type": "markdown",
   "id": "2946a918",
   "metadata": {},
   "source": [
    "### Capitalize user  response \n",
    "Ask the user to enter its travel destination. Capitalize the answer and print it in a sentence (e.g. \"The flight for BOSTON is leaving in 30 mins\")"
   ]
  },
  {
   "cell_type": "code",
   "execution_count": 10,
   "id": "b939ae93",
   "metadata": {},
   "outputs": [
    {
     "name": "stdout",
     "output_type": "stream",
     "text": [
      "What is your final destination? - Lima\n",
      "The flight for Lima is leaving in 5 min\n"
     ]
    }
   ],
   "source": [
    "destination = input(\"What is your final destination? - \")\n",
    "\n",
    "destination = destination.capitalize()\n",
    "message = \"The flight for \" + destination + \" is leaving in 5 min\"\n",
    "print(message)"
   ]
  },
  {
   "cell_type": "markdown",
   "id": "5bc1a37d",
   "metadata": {},
   "source": [
    "## Print\n",
    "\n",
    "### Words separator\n",
    "When printing 2 variables in a print statement, the print function will automatically add a space between each variable.\n",
    "\n",
    "Modify the following cell to separate each word by a comma and a space ', '  instead of a single space.\n",
    "\n",
    "**Hint**: use help(print) to find out which parameter to use"
   ]
  },
  {
   "cell_type": "code",
   "execution_count": 11,
   "id": "4dff1380",
   "metadata": {},
   "outputs": [
    {
     "name": "stdout",
     "output_type": "stream",
     "text": [
      "integer, string, float, boolean\n"
     ]
    }
   ],
   "source": [
    "# Define variables\n",
    "type1 = \"integer\"\n",
    "type2 = \"string\"\n",
    "type3 = \"float\"\n",
    "type4 = \"boolean\"\n",
    "\n",
    "# Print them in a sentence separated by \", \"\n",
    "print(type1, type2, type3, type4, sep = \", \")"
   ]
  },
  {
   "cell_type": "markdown",
   "id": "dfeb47c1",
   "metadata": {},
   "source": [
    "### New line separator\n",
    "\n",
    "Modify the \"sep\" parameter to print each verse in a new line\n",
    "\n",
    "**Hint**: You can use an escaped character"
   ]
  },
  {
   "cell_type": "code",
   "execution_count": 12,
   "id": "4933b212",
   "metadata": {},
   "outputs": [
    {
     "name": "stdout",
     "output_type": "stream",
     "text": [
      "Because I could not stop for Death\n",
      "He kindly stopped for me\n",
      "The carriage held but just ourselves\n",
      "And Immortality\n"
     ]
    }
   ],
   "source": [
    "# verses of the poem \"Because I could not stop for Death\" by Emily Dickinson\n",
    "verse1 = \"Because I could not stop for Death\"\n",
    "verse2 = \"He kindly stopped for me\"\n",
    "verse3 = \"The carriage held but just ourselves\"\n",
    "verse4 = \"And Immortality\"\n",
    "\n",
    "# Print each verse in a new line\n",
    "print(verse1,verse2,verse3,verse4, sep=\"\\n\")"
   ]
  },
  {
   "cell_type": "markdown",
   "id": "6e608a30",
   "metadata": {},
   "source": [
    "### End with full stop\n",
    "\n",
    "Use the solution from the previous exercise to print the poem, then add a full stop '.' at the end of poem using the 'end' parameter"
   ]
  },
  {
   "cell_type": "code",
   "execution_count": 13,
   "id": "2ef613e5",
   "metadata": {},
   "outputs": [
    {
     "name": "stdout",
     "output_type": "stream",
     "text": [
      "Because I could not stop for Death\n",
      "He kindly stopped for me\n",
      "The carriage held but just ourselves\n",
      "And Immortality."
     ]
    }
   ],
   "source": [
    "# Print each verse in a new line\n",
    "print(verse1,verse2,verse3,verse4, sep=\"\\n\", end=\".\")"
   ]
  },
  {
   "cell_type": "markdown",
   "id": "e60ef8e9",
   "metadata": {},
   "source": [
    "### Triple quotation marks\n",
    "Initialize a new variable called \"poem\" with the following poem:\n",
    "\n",
    "<strong>The Waste Land by T.S. Eliot</strong>\n",
    "\n",
    "*April is the cruellest month, breeding<br>Lilacs out of the dead land, mixing<br>Memory and desire, stirring<br>Dull roots with spring rain.<br>Winter kept us warm, covering<br>Earth in forgetful snow, feeding<br>A little life with dried tubers.*\n",
    "\n",
    "\n",
    "\n",
    "Use the triple quotation mark notation `\"\"\"<insert your poem here>\"\"\"` to print each verse in a new line"
   ]
  },
  {
   "cell_type": "code",
   "execution_count": 14,
   "id": "6cd5ec96",
   "metadata": {},
   "outputs": [
    {
     "name": "stdout",
     "output_type": "stream",
     "text": [
      "\n",
      "The Waste Land by T.S. Eliot\n",
      "\n",
      "April is the cruellest month, breeding\n",
      "Lilacs out of the dead land, mixing\n",
      "Memory and desire, stirring\n",
      "Dull roots with spring rain.\n",
      "Winter kept us warm, covering\n",
      "Earth in forgetful snow, feeding\n",
      "A little life with dried tubers.\n",
      "\n"
     ]
    }
   ],
   "source": [
    "print(\"\"\"\n",
    "The Waste Land by T.S. Eliot\n",
    "\n",
    "April is the cruellest month, breeding\n",
    "Lilacs out of the dead land, mixing\n",
    "Memory and desire, stirring\n",
    "Dull roots with spring rain.\n",
    "Winter kept us warm, covering\n",
    "Earth in forgetful snow, feeding\n",
    "A little life with dried tubers.\n",
    "\"\"\")"
   ]
  },
  {
   "cell_type": "markdown",
   "id": "20d06bd4",
   "metadata": {},
   "source": [
    "### Escape quotations marks\n",
    "\n",
    "Add backslashes \"\\\\\" to escape the quotations marks in the following cells to print the string without errors"
   ]
  },
  {
   "cell_type": "code",
   "execution_count": 16,
   "id": "576a71aa",
   "metadata": {},
   "outputs": [
    {
     "name": "stdout",
     "output_type": "stream",
     "text": [
      "Prof. Dominguez: \"Let's not forget to escape the quotes!\"\n"
     ]
    }
   ],
   "source": [
    "conversation = \"Prof. Dominguez: \\\"Let's not forget to escape the quotes!\\\"\"\n",
    "\n",
    "print(conversation)"
   ]
  },
  {
   "cell_type": "markdown",
   "id": "5ac32b8c",
   "metadata": {},
   "source": [
    "### Escape single quotation marks\n",
    "\n",
    "Add backslashes \"\\\\\" to escape the quotations marks in the following cells to print the string without errors. "
   ]
  },
  {
   "cell_type": "markdown",
   "id": "eb327bc5",
   "metadata": {},
   "source": []
  },
  {
   "cell_type": "code",
   "execution_count": 17,
   "id": "fa7377c1",
   "metadata": {},
   "outputs": [
    {
     "name": "stdout",
     "output_type": "stream",
     "text": [
      "Fred: \"This print doesn't work if I don't escape all the single quotation marks\"\n"
     ]
    }
   ],
   "source": [
    "print('Fred: \\\"This print doesn\\'t work if I don\\'t escape all the single quotation marks\\\"')"
   ]
  },
  {
   "cell_type": "markdown",
   "id": "ea6f2e49",
   "metadata": {},
   "source": [
    "## Dynamic strings\n",
    "\n",
    "### Dynamic Story\n",
    "\n",
    "Create a variable for each **bold** section in the sentence below (e.g. **first_name** for **Erin**). Ask the user to input the content of such variables, and use a dynamic string to dynamically update the result\n",
    "\n",
    "\"**Erin** was happy to hear about the **new release of her favorite phone brand**. **Erin** decided to **buy the new right one right away** because **she really likes the brand**.\""
   ]
  },
  {
   "cell_type": "code",
   "execution_count": 18,
   "id": "6fe76775",
   "metadata": {},
   "outputs": [
    {
     "name": "stdout",
     "output_type": "stream",
     "text": [
      "\n",
      "<b>Erin</b> was happy to hear about the <b>new release of her favorite phone brand. Erin</b> decided to <b>buy the new right one right away</b> because <b>she really likes \n",
      "<b>the brand.</b>\n",
      "\n"
     ]
    }
   ],
   "source": []
  },
  {
   "cell_type": "markdown",
   "id": "c822c34d",
   "metadata": {},
   "source": [
    "### Table-like output\n",
    "Ask for 2 users' the following info (first name, last name, age, city of birth). Print the results in a table with headers.\n",
    "\n",
    "Hint: use f-string (dynamic string) with \"\\t\" to space the words in a tabluar format."
   ]
  },
  {
   "cell_type": "code",
   "execution_count": null,
   "id": "ccc51f5a",
   "metadata": {},
   "outputs": [],
   "source": []
  },
  {
   "cell_type": "markdown",
   "id": "246533a1",
   "metadata": {},
   "source": [
    "### Capitalize\n",
    "Ask for the user's first name, last name, and hometown. Turn the first letter of each word uppercase and print it in a greeting message. Use a dynamic string."
   ]
  },
  {
   "cell_type": "code",
   "execution_count": null,
   "id": "481cac5e",
   "metadata": {},
   "outputs": [],
   "source": []
  },
  {
   "cell_type": "markdown",
   "id": "3822be03",
   "metadata": {},
   "source": [
    "### Calculate age of graduation\n",
    "Ask the user for the year of birth. Print the expected year of their undergrad graduation, considering that the average of graduates is 22 years old"
   ]
  },
  {
   "cell_type": "code",
   "execution_count": null,
   "id": "b038c46d",
   "metadata": {},
   "outputs": [],
   "source": []
  },
  {
   "cell_type": "markdown",
   "id": "bfdb86f9",
   "metadata": {},
   "source": [
    "### Debugging\n",
    "Debug the following cell to correctly print the result"
   ]
  },
  {
   "cell_type": "code",
   "execution_count": 12,
   "id": "94e6022a",
   "metadata": {},
   "outputs": [],
   "source": [
    "# Initialize variables with equal weight in kgs and pounds\n",
    "weight_kg = \"60\"\n",
    "weight_pounds = weight_kg * 2.205\n",
    "\n",
    "print(f\"\"\"To convert kilograms into pounds, you can multiply kg by 2.205\n",
    "For example, {weight_kg}kg correspond to {weight_pounds}lb\"\"\")"
   ]
  }
 ],
 "metadata": {
  "kernelspec": {
   "display_name": "Python 3 (ipykernel)",
   "language": "python",
   "name": "python3"
  },
  "language_info": {
   "codemirror_mode": {
    "name": "ipython",
    "version": 3
   },
   "file_extension": ".py",
   "mimetype": "text/x-python",
   "name": "python",
   "nbconvert_exporter": "python",
   "pygments_lexer": "ipython3",
   "version": "3.9.13"
  },
  "toc": {
   "base_numbering": 1,
   "nav_menu": {},
   "number_sections": true,
   "sideBar": true,
   "skip_h1_title": false,
   "title_cell": "Table of Contents",
   "title_sidebar": "Contents",
   "toc_cell": false,
   "toc_position": {},
   "toc_section_display": true,
   "toc_window_display": false
  },
  "varInspector": {
   "cols": {
    "lenName": 16,
    "lenType": 16,
    "lenVar": 40
   },
   "kernels_config": {
    "python": {
     "delete_cmd_postfix": "",
     "delete_cmd_prefix": "del ",
     "library": "var_list.py",
     "varRefreshCmd": "print(var_dic_list())"
    },
    "r": {
     "delete_cmd_postfix": ") ",
     "delete_cmd_prefix": "rm(",
     "library": "var_list.r",
     "varRefreshCmd": "cat(var_dic_list()) "
    }
   },
   "types_to_exclude": [
    "module",
    "function",
    "builtin_function_or_method",
    "instance",
    "_Feature"
   ],
   "window_display": false
  }
 },
 "nbformat": 4,
 "nbformat_minor": 5
}
