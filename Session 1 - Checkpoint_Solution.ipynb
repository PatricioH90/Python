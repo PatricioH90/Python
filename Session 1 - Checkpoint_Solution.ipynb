{
 "cells": [
  {
   "cell_type": "code",
   "execution_count": 66,
   "id": "d9892e3b",
   "metadata": {},
   "outputs": [
    {
     "name": "stdout",
     "output_type": "stream",
     "text": [
      "0     dress\n",
      "1    jacket\n",
      "2    blouse\n",
      "3     scarf\n",
      "4    gloves\n",
      "5     pants\n",
      "Name: clothes, dtype: object\n",
      "red        dress\n",
      "blue      jacket\n",
      "yellow    blouse\n",
      "purple     scarf\n",
      "white     gloves\n",
      "black      pants\n",
      "Name: clothes, dtype: object\n",
      "I love my scarf and it match with my yellow blouse\n",
      "dress     75\n",
      "jacket    60\n",
      "blouse    35\n",
      "scarf     25\n",
      "gloves    18\n",
      "pants     30\n",
      "Name: price, dtype: int64\n"
     ]
    }
   ],
   "source": [
    "# Checkpoint - Session 1\n",
    "# Fill in the blank on the following piece of code so it runs properly.\n",
    "\n",
    "import pandas as pd\n",
    "import numpy as np\n",
    "\n",
    "# Let's make a series with some of your wardrobe's elements and named it \"clothes\" and print the results\n",
    "\n",
    "clothes_s = pd.Series(['dress','jacket','blouse','scarf','gloves','jeans'],\n",
    "                        name = 'clothes')\n",
    "\n",
    "#Print the result\n",
    "print(clothes_s)\n",
    "\n",
    "\n",
    "# Add a color code as an index to each clothing and print the result\n",
    "clothes_s = pd.Series(['dress','jacket','blouse','scarf','gloves','jeans'],\n",
    "                        name = 'clothes',\n",
    "                         index = ['red','blue','yellow','purple','white','black'])\n",
    "\n",
    "print(clothes_s)\n",
    "\n",
    "# Find the index of the scarf and the yellow clothing\n",
    "print(f\"I love my {clothes_s[3]} and it match with my yellow {clothes_s['yellow']}\")\n",
    "\n",
    "\n",
    "# Create a price list for each object of your weardrobe\n",
    "price_s = pd.Series([75,60,35,25,18,30],\n",
    "                   name = 'price',\n",
    "                   index = ['dress','jacket','blouse','scarf','gloves','jeans'])\n",
    "\n",
    "print(price_s)"
   ]
  },
  {
   "cell_type": "code",
   "execution_count": 123,
   "id": "ce29b3c9",
   "metadata": {},
   "outputs": [
    {
     "data": {
      "text/plain": [
       "dress     75\n",
       "jacket    60\n",
       "blouse    35\n",
       "pants     30\n",
       "scarf     25\n",
       "gloves    18\n",
       "Name: price, dtype: int64"
      ]
     },
     "execution_count": 123,
     "metadata": {},
     "output_type": "execute_result"
    }
   ],
   "source": [
    "# Sort the price list in descending order\n",
    "\n",
    "price_s.sort_values(ascending=False)\n"
   ]
  },
  {
   "cell_type": "code",
   "execution_count": 139,
   "id": "62a620ad",
   "metadata": {},
   "outputs": [
    {
     "name": "stdout",
     "output_type": "stream",
     "text": [
      "The dress is the most expensive, costing $75 USD.\n"
     ]
    }
   ],
   "source": [
    "Which is the most expensive piece of clothing?. Fill the blanks and print the results.\n",
    "\n",
    "print(f\"The {clothes_s[0]} is the most expensive piece of clothing, costing ${price_s.max()} USD.\")\n"
   ]
  },
  {
   "cell_type": "code",
   "execution_count": 140,
   "id": "afc95585",
   "metadata": {
    "scrolled": true
   },
   "outputs": [
    {
     "data": {
      "text/plain": [
       "40.5"
      ]
     },
     "execution_count": 140,
     "metadata": {},
     "output_type": "execute_result"
    }
   ],
   "source": [
    "# How much does the wardrobe cost on average?\n",
    "price_s.mean()\n"
   ]
  },
  {
   "cell_type": "code",
   "execution_count": 90,
   "id": "300a5e40",
   "metadata": {},
   "outputs": [
    {
     "name": "stdout",
     "output_type": "stream",
     "text": [
      "dress     200\n",
      "jacket    190\n",
      "blouse    176\n",
      "scarf      95\n",
      "gloves    100\n",
      "pants     135\n",
      "Name: budget, dtype: int64\n"
     ]
    }
   ],
   "source": [
    "# To better prepare for the winter season, you should add more items to your wardrobe. \n",
    "# Firts, let's set a budget for each piece of clothing before we go shopping and print the result.\n",
    "\n",
    "budget_s = pd.Series([200,190,176,95,100,135],\n",
    "                   name = 'budget',\n",
    "                   index = ['dress','jacket','blouse','scarf','gloves','jeans'])\n",
    "\n",
    "print(budget_s)\n"
   ]
  },
  {
   "cell_type": "code",
   "execution_count": 91,
   "id": "8373c9af",
   "metadata": {},
   "outputs": [
    {
     "data": {
      "text/plain": [
       "dress     2.67\n",
       "jacket    3.17\n",
       "blouse    5.03\n",
       "scarf     3.80\n",
       "gloves    5.56\n",
       "pants     4.50\n",
       "dtype: float64"
      ]
     },
     "execution_count": 91,
     "metadata": {},
     "output_type": "execute_result"
    }
   ],
   "source": [
    "# How many of each type of clothing can I buy? Round your answer to two decimals and print the result. \n",
    "\n",
    "budget_s.div(price_s).round(2)\n",
    "\n"
   ]
  },
  {
   "cell_type": "code",
   "execution_count": 59,
   "id": "8895369c",
   "metadata": {},
   "outputs": [
    {
     "name": "stdout",
     "output_type": "stream",
     "text": [
      "dress     125\n",
      "jacket    130\n",
      "blouse    141\n",
      "scarf      70\n",
      "gloves     82\n",
      "pants     105\n",
      "dtype: int64\n"
     ]
    }
   ],
   "source": [
    "\n",
    "# How much will it cost to buy two jeans and three jackets?\n",
    "price_s['jeans']*2+price_s['jacket']*3\n",
    "\n",
    "# How much money will I have left after purchasing one item of each type of clothing?\n",
    "# Save your new budget in a new serie name \"new_budget_s\"\n",
    "# Print your result.\n",
    "\n",
    "new_budget_s = budget_s.sub(price_s).round(2)\n",
    "\n",
    "print(new_budget_s)"
   ]
  },
  {
   "cell_type": "code",
   "execution_count": 60,
   "id": "19974cb3",
   "metadata": {},
   "outputs": [
    {
     "data": {
      "image/png": "[encoded data removed]",
      "text/plain": [
       "<Figure size 432x288 with 1 Axes>"
      ]
     },
     "metadata": {
      "needs_background": "light"
     },
     "output_type": "display_data"
    }
   ],
   "source": [
    "# Let's plot your new budget.\n",
    "plt = new_budget_s.sort_index(ascending=True).plot(title = \"Budget\")\n",
    "\n",
    "# Play around with various plot types. Do some research on your own."
   ]
  },
  {
   "cell_type": "code",
   "execution_count": 61,
   "id": "8c8b0c2b",
   "metadata": {},
   "outputs": [
    {
     "name": "stdout",
     "output_type": "stream",
     "text": [
      "dress        red\n",
      "jacket      blue\n",
      "blouse    yellow\n",
      "scarf     purple\n",
      "gloves     white\n",
      "pants      black\n",
      "Name: color_code, dtype: object\n"
     ]
    }
   ],
   "source": [
    "\n",
    "# Assign a color code to each item of clothing in your wardrobe.\n",
    "\n",
    "color_s = pd.Series(['red','blue','yellow','purple','white','black'],\n",
    "                   name = 'color_code',\n",
    "                   index = ['dress','jacket','blouse','scarf','gloves','jeans'])\n",
    "print(color_s)"
   ]
  },
  {
   "cell_type": "code",
   "execution_count": 148,
   "id": "0859ea2a",
   "metadata": {},
   "outputs": [
    {
     "data": {
      "text/html": [
       "<div>\n",
       "<style scoped>\n",
       "    .dataframe tbody tr th:only-of-type {\n",
       "        vertical-align: middle;\n",
       "    }\n",
       "\n",
       "    .dataframe tbody tr th {\n",
       "        vertical-align: top;\n",
       "    }\n",
       "\n",
       "    .dataframe thead th {\n",
       "        text-align: right;\n",
       "    }\n",
       "</style>\n",
       "<table border=\"1\" class=\"dataframe\">\n",
       "  <thead>\n",
       "    <tr style=\"text-align: right;\">\n",
       "      <th></th>\n",
       "      <th>color_code</th>\n",
       "      <th>price</th>\n",
       "      <th>budget</th>\n",
       "    </tr>\n",
       "  </thead>\n",
       "  <tbody>\n",
       "    <tr>\n",
       "      <th>gloves</th>\n",
       "      <td>white</td>\n",
       "      <td>18</td>\n",
       "      <td>100</td>\n",
       "    </tr>\n",
       "    <tr>\n",
       "      <th>scarf</th>\n",
       "      <td>purple</td>\n",
       "      <td>25</td>\n",
       "      <td>95</td>\n",
       "    </tr>\n",
       "    <tr>\n",
       "      <th>pants</th>\n",
       "      <td>black</td>\n",
       "      <td>30</td>\n",
       "      <td>135</td>\n",
       "    </tr>\n",
       "    <tr>\n",
       "      <th>blouse</th>\n",
       "      <td>yellow</td>\n",
       "      <td>35</td>\n",
       "      <td>176</td>\n",
       "    </tr>\n",
       "    <tr>\n",
       "      <th>jacket</th>\n",
       "      <td>blue</td>\n",
       "      <td>60</td>\n",
       "      <td>190</td>\n",
       "    </tr>\n",
       "    <tr>\n",
       "      <th>dress</th>\n",
       "      <td>red</td>\n",
       "      <td>75</td>\n",
       "      <td>200</td>\n",
       "    </tr>\n",
       "  </tbody>\n",
       "</table>\n",
       "</div>"
      ],
      "text/plain": [
       "       color_code price budget\n",
       "gloves      white    18    100\n",
       "scarf      purple    25     95\n",
       "pants       black    30    135\n",
       "blouse     yellow    35    176\n",
       "jacket       blue    60    190\n",
       "dress         red    75    200"
      ]
     },
     "execution_count": 148,
     "metadata": {},
     "output_type": "execute_result"
    }
   ],
   "source": [
    "# Create a Dataframe with all of the information we have so far, in the following \n",
    "# order: clothes, color code, price, budget.\n",
    "# Sort your result by price\n",
    "wardrobe_df = pd.DataFrame([color_s, price_s, budget_s]).T\n",
    "\n",
    "wardrobe_df.sort_values(['price'])\n"
   ]
  },
  {
   "cell_type": "code",
   "execution_count": 149,
   "id": "5ed090b3",
   "metadata": {},
   "outputs": [
    {
     "data": {
      "text/html": [
       "<div>\n",
       "<style scoped>\n",
       "    .dataframe tbody tr th:only-of-type {\n",
       "        vertical-align: middle;\n",
       "    }\n",
       "\n",
       "    .dataframe tbody tr th {\n",
       "        vertical-align: top;\n",
       "    }\n",
       "\n",
       "    .dataframe thead th {\n",
       "        text-align: right;\n",
       "    }\n",
       "</style>\n",
       "<table border=\"1\" class=\"dataframe\">\n",
       "  <thead>\n",
       "    <tr style=\"text-align: right;\">\n",
       "      <th></th>\n",
       "      <th>color_code</th>\n",
       "      <th>price</th>\n",
       "      <th>budget</th>\n",
       "    </tr>\n",
       "  </thead>\n",
       "  <tbody>\n",
       "    <tr>\n",
       "      <th>blouse</th>\n",
       "      <td>yellow</td>\n",
       "      <td>35</td>\n",
       "      <td>176</td>\n",
       "    </tr>\n",
       "    <tr>\n",
       "      <th>scarf</th>\n",
       "      <td>purple</td>\n",
       "      <td>25</td>\n",
       "      <td>95</td>\n",
       "    </tr>\n",
       "    <tr>\n",
       "      <th>gloves</th>\n",
       "      <td>white</td>\n",
       "      <td>18</td>\n",
       "      <td>100</td>\n",
       "    </tr>\n",
       "    <tr>\n",
       "      <th>pants</th>\n",
       "      <td>black</td>\n",
       "      <td>30</td>\n",
       "      <td>135</td>\n",
       "    </tr>\n",
       "  </tbody>\n",
       "</table>\n",
       "</div>"
      ],
      "text/plain": [
       "       color_code price budget\n",
       "blouse     yellow    35    176\n",
       "scarf      purple    25     95\n",
       "gloves      white    18    100\n",
       "pants       black    30    135"
      ]
     },
     "execution_count": 149,
     "metadata": {},
     "output_type": "execute_result"
    }
   ],
   "source": [
    "# Display clothing that costs less than $40 USD.\n",
    "\n",
    "wardrobe_df.loc[wardrobe_df['price'] < 40]\n",
    "\n"
   ]
  },
  {
   "cell_type": "code",
   "execution_count": 158,
   "id": "a5fcfd1d",
   "metadata": {},
   "outputs": [
    {
     "data": {
      "text/plain": [
       "dress       red\n",
       "scarf    purple\n",
       "Name: color_code, dtype: object"
      ]
     },
     "execution_count": 158,
     "metadata": {},
     "output_type": "execute_result"
    }
   ],
   "source": [
    "# Subset dress color and scarf\n",
    "\n",
    "wardrobe_df.iloc[[0,3]]['color_code']\n",
    "\n"
   ]
  }
 ],
 "metadata": {
  "kernelspec": {
   "display_name": "Python 3 (ipykernel)",
   "language": "python",
   "name": "python3"
  },
  "language_info": {
   "codemirror_mode": {
    "name": "ipython",
    "version": 3
   },
   "file_extension": ".py",
   "mimetype": "text/x-python",
   "name": "python",
   "nbconvert_exporter": "python",
   "pygments_lexer": "ipython3",
   "version": "3.9.13"
  },
  "toc": {
   "base_numbering": 1,
   "nav_menu": {},
   "number_sections": true,
   "sideBar": true,
   "skip_h1_title": false,
   "title_cell": "Table of Contents",
   "title_sidebar": "Contents",
   "toc_cell": false,
   "toc_position": {},
   "toc_section_display": true,
   "toc_window_display": false
  },
  "varInspector": {
   "cols": {
    "lenName": 16,
    "lenType": 16,
    "lenVar": 40
   },
   "kernels_config": {
    "python": {
     "delete_cmd_postfix": "",
     "delete_cmd_prefix": "del ",
     "library": "var_list.py",
     "varRefreshCmd": "print(var_dic_list())"
    },
    "r": {
     "delete_cmd_postfix": ") ",
     "delete_cmd_prefix": "rm(",
     "library": "var_list.r",
     "varRefreshCmd": "cat(var_dic_list()) "
    }
   },
   "types_to_exclude": [
    "module",
    "function",
    "builtin_function_or_method",
    "instance",
    "_Feature"
   ],
   "window_display": false
  }
 },
 "nbformat": 4,
 "nbformat_minor": 5
}
