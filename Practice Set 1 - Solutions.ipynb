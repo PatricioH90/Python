{
 "cells": [
  {
   "cell_type": "markdown",
   "id": "f1e553bf",
   "metadata": {},
   "source": [
    "<div style=\"float: right; margin: 0px 15px 15px 0px;\">\n",
    "<img src=\"https://upload.wikimedia.org/wikipedia/commons/b/b6/HULT_IBS_Logo_Outline_Black_%28cropped%29.png\" width=150/>\n",
    "</div>\n",
    "<h1 style=\"list-style-type: none\"> Python for Data Analysis: Methods & Tools </h1>\n",
    "<em> <strong>Practice Set 1: strings and prints</strong></em>\n",
    "<br><br>\n",
    "<b>Author:</b> Nicola Bini - Teaching Assistant<br>\n",
    "Hult International Business School <br>\n",
    "<br>"
   ]
  },
  {
   "cell_type": "markdown",
   "id": "21791144",
   "metadata": {},
   "source": [
    "# Strings exercises"
   ]
  },
  {
   "cell_type": "markdown",
   "id": "440a2b84",
   "metadata": {},
   "source": [
    "### Documentation\n",
    "Use the help function to print the documentation for the following functions: *input*, *print*, *str*, *lower*."
   ]
  },
  {
   "cell_type": "code",
   "execution_count": 6,
   "id": "82fda956",
   "metadata": {},
   "outputs": [
    {
     "name": "stdout",
     "output_type": "stream",
     "text": [
      "Help on _Helper in module _sitebuiltins object:\n",
      "\n",
      "class _Helper(builtins.object)\n",
      " |  Define the builtin 'help'.\n",
      " |  \n",
      " |  This is a wrapper around pydoc.help that provides a helpful message\n",
      " |  when 'help' is typed at the Python interactive prompt.\n",
      " |  \n",
      " |  Calling help() at the Python prompt starts an interactive help session.\n",
      " |  Calling help(thing) prints help for the python object 'thing'.\n",
      " |  \n",
      " |  Methods defined here:\n",
      " |  \n",
      " |  __call__(self, *args, **kwds)\n",
      " |      Call self as a function.\n",
      " |  \n",
      " |  __repr__(self)\n",
      " |      Return repr(self).\n",
      " |  \n",
      " |  ----------------------------------------------------------------------\n",
      " |  Data descriptors defined here:\n",
      " |  \n",
      " |  __dict__\n",
      " |      dictionary for instance variables (if defined)\n",
      " |  \n",
      " |  __weakref__\n",
      " |      list of weak references to the object (if defined)\n",
      "\n"
     ]
    }
   ],
   "source": [
    "help(help)"
   ]
  },
  {
   "cell_type": "markdown",
   "id": "54c10c05",
   "metadata": {},
   "source": [
    "### Missing comments 1\n",
    "The comments on the next cell are missing the hashtags and therefore are interpreted by python as commands. Add the hashtag '#' at the beginning of the line when required."
   ]
  },
  {
   "cell_type": "code",
   "execution_count": 8,
   "id": "fa32f927",
   "metadata": {},
   "outputs": [
    {
     "name": "stdout",
     "output_type": "stream",
     "text": [
      "Today is 01/13/2023\n"
     ]
    }
   ],
   "source": [
    "# Days to christmas calculator:\n",
    "# It calculates how many days are left to Christmas?\n",
    "\n",
    "# import datetime package\n",
    "import datetime\n",
    "\n",
    "# get today's date with the function now of datetime (method chaining)\n",
    "today = str(datetime.datetime.now().strftime(\"%m/%d/%Y\"))\n",
    "\n",
    "# print today's date\n",
    "print(f\"Today is {today}\")"
   ]
  },
  {
   "cell_type": "markdown",
   "id": "e12f1f3f",
   "metadata": {},
   "source": [
    "### Missing comments 2\n",
    "The following code is working, but it is hard to understand because the way it is formatted. Add empty lines and comments to improve its readability"
   ]
  },
  {
   "cell_type": "code",
   "execution_count": 7,
   "id": "04592184",
   "metadata": {},
   "outputs": [
    {
     "name": "stdout",
     "output_type": "stream",
     "text": [
      "What is your first name? nicola\n",
      "What is your last name? bini\n",
      "Nicola Bini has signed up\n"
     ]
    }
   ],
   "source": [
    "first_name = input('What is your first name? ')\n",
    "last_name = input('What is your last name? ')\n",
    "first_name = first_name.capitalize()\n",
    "last_name = last_name.capitalize()\n",
    "full_name = first_name + \" \" + last_name\n",
    "message = full_name + \" has signed up\"\n",
    "print(message)"
   ]
  },
  {
   "cell_type": "markdown",
   "id": "2946a918",
   "metadata": {},
   "source": [
    "### Capitalize user  response \n",
    "Ask the user to enter its travel destination. Capitalize the answer and print it in a sentence (e.g. \"The flight for BOSTON is leaving in 30 mins\")"
   ]
  },
  {
   "cell_type": "code",
   "execution_count": 13,
   "id": "b939ae93",
   "metadata": {},
   "outputs": [
    {
     "name": "stdout",
     "output_type": "stream",
     "text": [
      "enter your travel destinationboston\n",
      "your destination is BOSTON\n"
     ]
    }
   ],
   "source": [
    "destination = input(prompt=\"enter your travel destination\")\n",
    "\n",
    "destination = destination.upper()\n",
    "\n",
    "print(f\"your destination is {destination}\")"
   ]
  },
  {
   "cell_type": "code",
   "execution_count": 14,
   "id": "6f6e91d7",
   "metadata": {},
   "outputs": [
    {
     "name": "stdout",
     "output_type": "stream",
     "text": [
      "Help on built-in function upper:\n",
      "\n",
      "upper() method of builtins.str instance\n",
      "    Return a copy of the string converted to uppercase.\n",
      "\n"
     ]
    }
   ],
   "source": [
    "help(\"\".upper )"
   ]
  },
  {
   "cell_type": "markdown",
   "id": "5bc1a37d",
   "metadata": {},
   "source": [
    "## Print\n",
    "\n",
    "### Words separator\n",
    "When printing 2 variables in a print statement, the print function will automatically add a space between each variable.\n",
    "\n",
    "Modify the following cell to separate each word by a comma and a space ', '  instead of a single space.\n",
    "\n",
    "**Hint**: use help(print) to find out which parameter to use"
   ]
  },
  {
   "cell_type": "code",
   "execution_count": 17,
   "id": "4dff1380",
   "metadata": {},
   "outputs": [
    {
     "name": "stdout",
     "output_type": "stream",
     "text": [
      "integer, string, float, boolean\n"
     ]
    }
   ],
   "source": [
    "# Define variables\n",
    "type1 = \"integer\"\n",
    "type2 = \"string\"\n",
    "type3 = \"float\"\n",
    "type4 = \"boolean\"\n",
    "\n",
    "# Print them in a sentence separated by \", \"\n",
    "print(type1, type2, type3, type4, sep=\", \")"
   ]
  },
  {
   "cell_type": "code",
   "execution_count": 16,
   "id": "f9647da9",
   "metadata": {},
   "outputs": [
    {
     "name": "stdout",
     "output_type": "stream",
     "text": [
      "Help on built-in function print in module builtins:\n",
      "\n",
      "print(...)\n",
      "    print(value, ..., sep=' ', end='\\n', file=sys.stdout, flush=False)\n",
      "    \n",
      "    Prints the values to a stream, or to sys.stdout by default.\n",
      "    Optional keyword arguments:\n",
      "    file:  a file-like object (stream); defaults to the current sys.stdout.\n",
      "    sep:   string inserted between values, default a space.\n",
      "    end:   string appended after the last value, default a newline.\n",
      "    flush: whether to forcibly flush the stream.\n",
      "\n"
     ]
    }
   ],
   "source": []
  },
  {
   "cell_type": "markdown",
   "id": "dfeb47c1",
   "metadata": {},
   "source": [
    "### New line separator\n",
    "\n",
    "Modify the \"sep\" parameter to print each verse in a new line\n",
    "\n",
    "**Hint**: You can use an escaped character"
   ]
  },
  {
   "cell_type": "code",
   "execution_count": 19,
   "id": "4933b212",
   "metadata": {},
   "outputs": [
    {
     "name": "stdout",
     "output_type": "stream",
     "text": [
      "Because I could not stop for Death\n",
      "He kindly stopped for me\n",
      "The carriage held but just ourselves\n",
      "And Immortality\n"
     ]
    }
   ],
   "source": [
    "# verses of the poem \"Because I could not stop for Death\" by Emily Dickinson\n",
    "verse1 = \"Because I could not stop for Death\"\n",
    "verse2 = \"He kindly stopped for me\"\n",
    "verse3 = \"The carriage held but just ourselves\"\n",
    "verse4 = \"And Immortality\"\n",
    "\n",
    "# Print each verse in a new line\n",
    "print(verse1,verse2,verse3,verse4, sep=\"\\n\")"
   ]
  },
  {
   "cell_type": "markdown",
   "id": "6e608a30",
   "metadata": {},
   "source": [
    "### End with full stop\n",
    "\n",
    "Use the solution from the previous exercise to print the poem, then add a full stop '.' at the end of poem using the 'end' parameter"
   ]
  },
  {
   "cell_type": "code",
   "execution_count": 22,
   "id": "2ef613e5",
   "metadata": {},
   "outputs": [
    {
     "name": "stdout",
     "output_type": "stream",
     "text": [
      "Because I could not stop for Death.\n",
      "He kindly stopped for me.\n",
      "The carriage held but just ourselves.\n",
      "And Immortality."
     ]
    }
   ],
   "source": [
    "# verses of the poem \"Because I could not stop for Death\" by Emily Dickinson\n",
    "verse1 = \"Because I could not stop for Death\"\n",
    "verse2 = \"He kindly stopped for me\"\n",
    "verse3 = \"The carriage held but just ourselves\"\n",
    "verse4 = \"And Immortality\"\n",
    "\n",
    "# Print each verse in a new line\n",
    "print(verse1,verse2,verse3,verse4, sep=\".\\n\", end=\".\")"
   ]
  },
  {
   "cell_type": "markdown",
   "id": "e60ef8e9",
   "metadata": {},
   "source": [
    "### Triple quotation marks\n",
    "Initialize a new variable called \"poem\" with the following poem:\n",
    "\n",
    "<strong>The Waste Land by T.S. Eliot</strong>\n",
    "\n",
    "*April is the cruellest month, breeding<br>Lilacs out of the dead land, mixing<br>Memory and desire, stirring<br>Dull roots with spring rain.<br>Winter kept us warm, covering<br>Earth in forgetful snow, feeding<br>A little life with dried tubers.*\n",
    "\n",
    "\n",
    "\n",
    "Use the triple quotation mark notation `\"\"\"<insert your poem here>\"\"\"` to print each verse in a new line"
   ]
  },
  {
   "cell_type": "code",
   "execution_count": 28,
   "id": "6cd5ec96",
   "metadata": {},
   "outputs": [
    {
     "name": "stdout",
     "output_type": "stream",
     "text": [
      "April is the cruellest month, breeding\n",
      "     Lilacs out of the dead land, mixing\n",
      "   Memory and desire, stirring\n",
      "Dull roots with sp nicola ring rain.\n",
      "Winter kept us warm, covering\n",
      "Earth in forgetful snow, feeding\n",
      "A little life with dried tubers.\n"
     ]
    }
   ],
   "source": [
    "name = 'nicola'\n",
    "poem = f\"\"\"April is the cruellest month, breeding\n",
    "Lilacs out of the dead land, mixing\n",
    "Memory and desire, stirring\n",
    "Dull roots with sp {name} ring rain.\n",
    "Winter kept us warm, covering\n",
    "Earth in forgetful snow, feeding\n",
    "A little life with dried tubers.\"\"\"\n",
    "print(poem)"
   ]
  },
  {
   "cell_type": "markdown",
   "id": "20d06bd4",
   "metadata": {},
   "source": [
    "### Escape quotations marks\n",
    "\n",
    "Add backslashes \"\\\\\" to escape the quotations marks in the following cells to print the string without errors"
   ]
  },
  {
   "cell_type": "code",
   "execution_count": 31,
   "id": "576a71aa",
   "metadata": {},
   "outputs": [
    {
     "name": "stdout",
     "output_type": "stream",
     "text": [
      "Prof. Dominguez: \"Let's not forget to escape the quotes!\"\n"
     ]
    }
   ],
   "source": [
    "conversation = \"Prof. Dominguez: \\\"Let's not forget to escape the quotes!\\\"\"\n",
    "\n",
    "print(conversation)"
   ]
  },
  {
   "cell_type": "markdown",
   "id": "5ac32b8c",
   "metadata": {},
   "source": [
    "### Escape single quotation marks\n",
    "\n",
    "Add backslashes \"\\\\\" to escape the quotations marks in the following cells to print the string without errors. "
   ]
  },
  {
   "cell_type": "markdown",
   "id": "eb327bc5",
   "metadata": {},
   "source": []
  },
  {
   "cell_type": "code",
   "execution_count": 32,
   "id": "fa7377c1",
   "metadata": {},
   "outputs": [
    {
     "name": "stdout",
     "output_type": "stream",
     "text": [
      "Fred: \"This print doesn't work if I don't escape all the single quotation marks\"\n"
     ]
    }
   ],
   "source": [
    "print('Fred: \"This print doesn\\'t work if I don\\'t escape all the single quotation marks\"')"
   ]
  },
  {
   "cell_type": "markdown",
   "id": "ea6f2e49",
   "metadata": {},
   "source": [
    "## Dynamic strings\n",
    "\n",
    "### Dynamic Story\n",
    "\n",
    "Create a variable for each **bold** section in the sentence below (e.g. **first_name** for **Erin**). Ask the user to input the content of such variables, and use a dynamic string to dynamically update the result\n",
    "\n",
    "\"**Erin** was happy to hear about the **new release of her favorite phone brand**. **Erin** decided to **buy the new right one right away** because **she really likes the brand**.\""
   ]
  },
  {
   "cell_type": "code",
   "execution_count": 44,
   "id": "6fe76775",
   "metadata": {},
   "outputs": [
    {
     "name": "stdout",
     "output_type": "stream",
     "text": [
      "name:a\n",
      "event:a\n",
      "decision:a\n",
      "reason:a\n",
      "a a a a a a a a a a a a a\n",
      "a was happy to hear about the a. a decided to a because a. hear about the a. a decided to a because hear about the a. a decided to a because \n"
     ]
    }
   ],
   "source": [
    "name = input('name:')\n",
    "event = input('event:')\n",
    "decision = input('decision:')\n",
    "reason = input('reason:')\n",
    "\n",
    "\n",
    "sentence = f\"{name} was happy to hear about the {event}. {name} decided to {decision} because {reason}. hear about the {event}. {name} decided to {decision} because hear about the {event}. {name} decided to {decision} because \"\n",
    "print(sentence)"
   ]
  },
  {
   "cell_type": "code",
   "execution_count": 34,
   "id": "0d85c5b8",
   "metadata": {},
   "outputs": [
    {
     "name": "stdout",
     "output_type": "stream",
     "text": [
      "alena was happy to hear about the new concern. alena decided to buy the ticket because she loves the band.\n"
     ]
    }
   ],
   "source": [
    "print(sentence)"
   ]
  },
  {
   "cell_type": "markdown",
   "id": "c822c34d",
   "metadata": {},
   "source": [
    "### Table-like output\n",
    "Ask for 2 users' the following info (first name, last name, age, city of birth). Print the results in a table with headers.\n",
    "\n",
    "Hint: use f-string (dynamic string) with \"\\t\" to space the words in a tabluar format."
   ]
  },
  {
   "cell_type": "code",
   "execution_count": 47,
   "id": "ccc51f5a",
   "metadata": {},
   "outputs": [
    {
     "name": "stdout",
     "output_type": "stream",
     "text": [
      "########### user #1 ###########\n",
      "What is your first name?a\n",
      "What is your last name?Dominguezzzzzz\n",
      "What is your age?a\n",
      "What is your city of birth?a\n",
      "########### user #2 ###########\n",
      "What is your first name?a\n",
      "What is your last name?a\n",
      "What is your age?a\n",
      "What is your city of birth?a\n",
      "\n",
      "\n",
      "First name\t %Last name\t\t Age\t City of birth\n",
      "--------------------------------------------------------\n",
      "a\t\t Dominguezzzzzz\t\t a\t a\n",
      "a\t\t a\t\t\t a\t a\n",
      "\n",
      "\n",
      "\n"
     ]
    }
   ],
   "source": [
    "# Ask info to user #1\n",
    "print('########### user #1 ###########')\n",
    "u1_first_name = input('What is your first name?')\n",
    "u1_last_name = input('What is your last name?')\n",
    "u1_age = input('What is your age?')\n",
    "u1_city = input('What is your city of birth?')\n",
    "\n",
    "# Ask info to user #2\n",
    "print('########### user #2 ###########')\n",
    "u2_first_name = input('What is your first name?')\n",
    "u2_last_name = input('What is your last name?')\n",
    "u2_age = input('What is your age?')\n",
    "u2_city = input('What is your city of birth?')\n",
    "\n",
    "print(f\"\"\"\n",
    "\n",
    "First name\\t %Last name\\t\\t Age\\t City of birth\n",
    "--------------------------------------------------------\n",
    "{u1_first_name}\\t\\t {u1_last_name}\\t\\t {u1_age}\\t {u1_city}\n",
    "{u2_first_name}\\t\\t {u2_last_name}\\t\\t\\t {u2_age}\\t {u2_city}\n",
    "\n",
    "\n",
    "\"\"\")"
   ]
  },
  {
   "cell_type": "code",
   "execution_count": 51,
   "id": "668a69bc",
   "metadata": {},
   "outputs": [
    {
     "name": "stdout",
     "output_type": "stream",
     "text": [
      "message\n",
      "my message\n"
     ]
    }
   ],
   "source": [
    "print(\"message\")\n",
    "message = \"my message\"\n",
    "\n",
    "print(message)"
   ]
  },
  {
   "cell_type": "markdown",
   "id": "246533a1",
   "metadata": {},
   "source": [
    "### Capitalize\n",
    "Ask for the user's first name, last name, and hometown. Turn the first letter of each word uppercase and print it in a greeting message. Use a dynamic string."
   ]
  },
  {
   "cell_type": "code",
   "execution_count": 55,
   "id": "481cac5e",
   "metadata": {},
   "outputs": [
    {
     "name": "stdout",
     "output_type": "stream",
     "text": [
      "what's your first name?nic\n",
      "what's your last name?bi\n",
      "what's your hometown?cas\n",
      "Nic\n",
      "Bi\n",
      ", Cas\n"
     ]
    }
   ],
   "source": [
    "firstname = input('what\\'s your first name?')\n",
    "firstname = firstname.capitalize()\n",
    "\n",
    "lastname = input('what\\'s your last name?')\n",
    "lastname = lastname.capitalize()\n",
    "\n",
    "hometown = input('what\\'s your hometown?')\n",
    "hometown = hometown.capitalize()\n",
    "\n",
    "print(f\"{firstname}\\n{lastname}\\n, {hometown}\")"
   ]
  },
  {
   "cell_type": "markdown",
   "id": "3822be03",
   "metadata": {},
   "source": [
    "### Calculate age of graduation\n",
    "Ask the user for the year of birth. Print the expected year of their undergrad graduation, considering that the average of graduates is 22 years old"
   ]
  },
  {
   "cell_type": "code",
   "execution_count": 57,
   "id": "b038c46d",
   "metadata": {},
   "outputs": [
    {
     "name": "stdout",
     "output_type": "stream",
     "text": [
      "Year you were born:1995\n",
      "2017\n"
     ]
    }
   ],
   "source": [
    "dob = int(input(prompt='Year you were born:'))\n",
    "print(dob + 22)"
   ]
  },
  {
   "cell_type": "code",
   "execution_count": 62,
   "id": "ec7a8199",
   "metadata": {},
   "outputs": [
    {
     "name": "stdout",
     "output_type": "stream",
     "text": [
      "Year you were born:1996\n",
      "199622\n"
     ]
    }
   ],
   "source": [
    "dob = input(prompt='Year you were born:')\n",
    "print(dob + \"22\")\n"
   ]
  },
  {
   "cell_type": "markdown",
   "id": "bfdb86f9",
   "metadata": {},
   "source": [
    "### Debugging\n",
    "Debug the following cell to correctly print the result"
   ]
  },
  {
   "cell_type": "code",
   "execution_count": 73,
   "id": "94e6022a",
   "metadata": {
    "cell_style": "center",
    "scrolled": true
   },
   "outputs": [
    {
     "name": "stdout",
     "output_type": "stream",
     "text": [
      "To convert kilograms into pounds, you can multiply kg by 2.205\n",
      "For example, 60kg correspond to 132.3lb\n"
     ]
    }
   ],
   "source": [
    "# Initialize variables with equal weight in kgs and pounds\n",
    "weight_kg = int(\"60\")\n",
    "weight_pounds = weight_kg * 2.205\n",
    "\n",
    "print(f\"\"\"To convert kilograms into pounds, you can multiply kg by 2.205\n",
    "For example, {weight_kg}kg correspond to {weight_pounds}lb\"\"\")"
   ]
  },
  {
   "cell_type": "code",
   "execution_count": 71,
   "id": "61dafea8",
   "metadata": {
    "cell_style": "center"
   },
   "outputs": [
    {
     "data": {
      "text/plain": [
       "float"
      ]
     },
     "execution_count": 71,
     "metadata": {},
     "output_type": "execute_result"
    }
   ],
   "source": [
    "string_variable = \"\"\n",
    "int_variable = 234\n",
    "float_variable = 332.12\n",
    "bool_variable = True # False"
   ]
  }
 ],
 "metadata": {
  "kernelspec": {
   "display_name": "Python 3 (ipykernel)",
   "language": "python",
   "name": "python3"
  },
  "language_info": {
   "codemirror_mode": {
    "name": "ipython",
    "version": 3
   },
   "file_extension": ".py",
   "mimetype": "text/x-python",
   "name": "python",
   "nbconvert_exporter": "python",
   "pygments_lexer": "ipython3",
   "version": "3.9.13"
  },
  "toc": {
   "base_numbering": 1,
   "nav_menu": {},
   "number_sections": true,
   "sideBar": true,
   "skip_h1_title": false,
   "title_cell": "Table of Contents",
   "title_sidebar": "Contents",
   "toc_cell": false,
   "toc_position": {},
   "toc_section_display": true,
   "toc_window_display": false
  },
  "varInspector": {
   "cols": {
    "lenName": 16,
    "lenType": 16,
    "lenVar": 40
   },
   "kernels_config": {
    "python": {
     "delete_cmd_postfix": "",
     "delete_cmd_prefix": "del ",
     "library": "var_list.py",
     "varRefreshCmd": "print(var_dic_list())"
    },
    "r": {
     "delete_cmd_postfix": ") ",
     "delete_cmd_prefix": "rm(",
     "library": "var_list.r",
     "varRefreshCmd": "cat(var_dic_list()) "
    }
   },
   "types_to_exclude": [
    "module",
    "function",
    "builtin_function_or_method",
    "instance",
    "_Feature"
   ],
   "window_display": false
  }
 },
 "nbformat": 4,
 "nbformat_minor": 5
}
