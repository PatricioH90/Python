{
 "cells": [
  {
   "cell_type": "markdown",
   "id": "5042688e",
   "metadata": {},
   "source": [
    "<div style=\"float: right; margin: 0px 15px 15px 0px;\">\n",
    "<img src=\"https://upload.wikimedia.org/wikipedia/commons/b/b6/HULT_IBS_Logo_Outline_Black_%28cropped%29.png\" width=150/>\n",
    "</div>\n",
    "<h1> Python for Data Analysis: Methods & Tools </h1>\n",
    "<em> <strong>Python for everyday people </strong></em>\n",
    "<br><br>\n",
    "Written by Felipe Dominguez - Professor Adjunct <br>\n",
    "Hult International Business School <br>\n",
    "<br>\n",
    "<h1><u> Chapter 03 & 04 - Conditional & Loop Statements</u></h1>\n",
    "<em> Exercise workbook - Class 04</em>"
   ]
  },
  {
   "cell_type": "markdown",
   "id": "53c3bf33",
   "metadata": {},
   "source": [
    "<h3>1. Conditional Statements</h3>"
   ]
  },
  {
   "cell_type": "markdown",
   "id": "ad07cfd6",
   "metadata": {},
   "source": [
    "<h4>1.1. The structure of conditional statements</h4>\n",
    "<h5>a. Develop an if statement that evaluates True when profit > 0.</h5><br>\n",
    "<div align = 'justify'>\n",
    "Declare a profit variable with a positive integer value.\n",
    "    The program must returned the following statement if True:<br>\n",
    "    \n",
    "    \"Awesome! Your business is profitable.\"\n",
    "</div>\n"
   ]
  },
  {
   "cell_type": "code",
   "execution_count": 3,
   "id": "5e89ecce",
   "metadata": {},
   "outputs": [
    {
     "name": "stdout",
     "output_type": "stream",
     "text": [
      "Awsome! Your business is profitable.\n"
     ]
    }
   ],
   "source": [
    "# Exercise 1.1.a.\n",
    "\n",
    "# Declare profit variable\n",
    "profit = 1000\n",
    "\n",
    "# Declare if statement\n",
    "if profit > 0:\n",
    "    print (\"Awsome! Your business is profitable.\")"
   ]
  },
  {
   "cell_type": "markdown",
   "id": "26fc6bba",
   "metadata": {},
   "source": [
    "<h4>b. Add an else clause</h4><br>\n",
    "<div align = 'justify'>\n",
    "    Change the value of the variable profit to a negative number. The program must run the following statement if the condition (profit > 0) is False.\n",
    "    \n",
    "    \"Mmm... you may want to take a look at your finances\"\n",
    "</div>"
   ]
  },
  {
   "cell_type": "code",
   "execution_count": 5,
   "id": "e0404f63",
   "metadata": {},
   "outputs": [
    {
     "name": "stdout",
     "output_type": "stream",
     "text": [
      "Mmm... you may want to take a look at your finances\n"
     ]
    }
   ],
   "source": [
    "# Exercise 1.1.b.\n",
    "\n",
    "# Declare profit variable\n",
    "profit = -100\n",
    "\n",
    "# Declare if statement\n",
    "if profit > 0:\n",
    "    print(\"Awesome! Your business is profitable.\")\n",
    "\n",
    "# else statement\n",
    "else:\n",
    "    print(\"Mmm... you may want to take a look at your finances\")"
   ]
  },
  {
   "cell_type": "markdown",
   "id": "bdf918f6",
   "metadata": {},
   "source": [
    "<h4>c. Add an elif clause</h4>\n",
    "<div align = 'justify'>\n",
    "      Add an elif clause when the profit value is between -1000 and -1. The program must print the following statement:\n",
    "    \n",
    "    \"Even your numbers are red, chances are you'll recover\"\n",
    "</div>"
   ]
  },
  {
   "cell_type": "code",
   "execution_count": 8,
   "id": "be364548",
   "metadata": {},
   "outputs": [
    {
     "name": "stdout",
     "output_type": "stream",
     "text": [
      "Even your numbers are red, chances are you'll recover\n"
     ]
    }
   ],
   "source": [
    "# Exercise 1.1.\n",
    "\n",
    "# Declare profit variable\n",
    "profit = -1\n",
    "\n",
    "# Declare if statement\n",
    "if profit > 0:\n",
    "    print(\"Awesome! Your business is profitable.\")\n",
    "\n",
    "# elif statement\n",
    "elif profit <= -1 and profit >= -1000:\n",
    "    print(\"Even your numbers are red, chances are you'll recover\")\n",
    "    \n",
    "# else statement\n",
    "else:\n",
    "    print(\"Mmm... you may want to take a look at your finances\")"
   ]
  },
  {
   "cell_type": "markdown",
   "id": "17616f72",
   "metadata": {},
   "source": [
    "<h4>d. Remember the order matters in if, elif, and else statements</h4><br>\n",
    "<div align = 'justify'>\n",
    "    Change the profit variable to 10000. Add an elif clause. If the profit variable is greater than 1000, the program must return the following statement:\n",
    "    \n",
    "    \"Wow that's amazing! You are on fire!\"\n",
    "</div>"
   ]
  },
  {
   "cell_type": "code",
   "execution_count": 9,
   "id": "cbb0b742",
   "metadata": {},
   "outputs": [
    {
     "name": "stdout",
     "output_type": "stream",
     "text": [
      "Awesome! Your business is profitable.\n"
     ]
    }
   ],
   "source": [
    "# Exercise 1.1.c.\n",
    "\n",
    "# Declare profit variable\n",
    "profit = 10000\n",
    "\n",
    "# Declare if statement\n",
    "if profit > 0:\n",
    "    print(\"Awesome! Your business is profitable.\")\n",
    "\n",
    "# elif statement\n",
    "elif profit >= 10000:\n",
    "    print(\"Wow that's amazing! You are on fire!\")\n",
    "\n",
    "# elif statement\n",
    "elif profit > -1000:\n",
    "    print(\"Even your numbers are red, chances are you'll recover\")\n",
    "    \n",
    "# else statement\n",
    "else:\n",
    "    print(\"Mmm... you may want to take a look at your finances\")"
   ]
  },
  {
   "cell_type": "markdown",
   "id": "436a30df",
   "metadata": {},
   "source": [
    "<div align = justify>\n",
    "The program didn't print the expected output because the order of the if and elif clauses was incorrect. In Python, when a condition is evaluated as True, the corresponding block of code is executed and no further conditions are checked. In this case, the first condition (profit > 0) evaluated to True, so the first print statement was executed and the program stopped there. To print the desired output, you should rearrange the order of the clauses so that the desired condition is checked first\n",
    "</div>"
   ]
  },
  {
   "cell_type": "code",
   "execution_count": 11,
   "id": "b4e17aae",
   "metadata": {},
   "outputs": [
    {
     "name": "stdout",
     "output_type": "stream",
     "text": [
      "Wow that's amazing! You are on fire!\n"
     ]
    }
   ],
   "source": [
    "# Exercise 1.1.d. \n",
    "\n",
    "# Declare profit variable\n",
    "profit = 10000\n",
    "\n",
    "# Declare if statement\n",
    "if profit >= 10000:\n",
    "    print(\"Wow that's amazing! You are on fire!\")\n",
    "\n",
    "# elif statement   \n",
    "elif profit > 0:\n",
    "    print(\"Awesome! Your business is profitable.\")\n",
    "    \n",
    "# elif statement\n",
    "elif profit > -1000:\n",
    "    print(\"Even your numbers are red, chances are you'll recover\")\n",
    "    \n",
    "# else statement\n",
    "else:\n",
    "    print(\"Mmm... you may want to take a look at your finances\")"
   ]
  },
  {
   "cell_type": "markdown",
   "id": "af2ecbb9",
   "metadata": {},
   "source": [
    "<h4>1.2. Conditional sum</h4><br>\n",
    "<div align = 'justify'>\n",
    "Create a Python code that prompt the user for two numbers between 1 and 10. The program will then calculate and display the result of the first number raised to the power of the second number. However, if the sum of the two numbers is 10, the program will instead return the result of the second number divided by the first, rounded up to two decimal places.</div>"
   ]
  },
  {
   "cell_type": "code",
   "execution_count": 16,
   "id": "cb28e949",
   "metadata": {},
   "outputs": [
    {
     "name": "stdout",
     "output_type": "stream",
     "text": [
      "Please enter a number between 1 and 10: x = 2\n",
      "Please enter a number between 1 and 10: y = 6\n",
      "64\n"
     ]
    }
   ],
   "source": [
    "# Exercise 1.2.\n",
    "\n",
    "# Declare and store the two input user variables. Transform them into integer\n",
    "x = int(input(prompt = \"Please enter a number between 1 and 10: x = \"))\n",
    "y = int(input(prompt = \"Please enter a number between 1 and 10: y = \"))\n",
    "\n",
    "# Declare conditional statement\n",
    "\n",
    "# Control if one of the variables does not meet the requirements\n",
    "if x < 1 or x > 10 or y < 1 or y > 10:\n",
    "# or (x or y) not in range (1,11)\n",
    "    print(\"Please try again, remember to enter a number between 1 and 10\")\n",
    "\n",
    "# Check if x + y = 10    \n",
    "elif x + y == 10:\n",
    "    result = round(y/x,2)\n",
    "    print(result)\n",
    "\n",
    "# Check if x+y not equals 10\n",
    "elif x + y != 10:\n",
    "    result = x**y\n",
    "    print(result)\n",
    "\n",
    "else:\n",
    "    print(\"Something went wrong, please try again.\")"
   ]
  },
  {
   "cell_type": "markdown",
   "id": "b429e093",
   "metadata": {},
   "source": [
    "<h4>1.3. A dog's life</h4><br>\n",
    "<div align = 'justify'>\n",
    "Create a Python program that calculate a dog's age in human years. For the first 3 human years, a human year is equal to 10.5 dog years. Between the year 4 and 7, each human year equals to 5 dog years. After 7 years, each human year equals to 4 dog years.\n",
    "Prompt the user to introduce the human years of a dog\n",
    "</div>"
   ]
  },
  {
   "cell_type": "code",
   "execution_count": null,
   "id": "c912f0d8",
   "metadata": {},
   "outputs": [],
   "source": [
    "# Exercise 1.3.\n",
    "# Store user input\n",
    "human_years = ____(____(____=\"How old is your dog in human years? \"))\n",
    "\n",
    "# Declare a dog_years variable, starting in 0\n",
    "____ = 0\n",
    "\n",
    "# Declare conditional statemnt with the conditions given\n",
    "if dog_years < ____:\n",
    "    print(\"Number must be positive\")\n",
    "\n",
    "elif ____ <= 3:\n",
    "    dog_years += ____*10.5\n",
    "\n",
    "elif ____ > ____ and ____ <= ____:\n",
    "    dog_years += 3*10.5 + (____-3)*5\n",
    "\n",
    "elif human_years > 7:\n",
    "    ____ += 3*10.5 + 4*5 + (____ - 7)*____\n",
    "\n",
    "else:\n",
    "    print(\"Something went wrong, please try again.\")\n",
    "\n",
    "# print the outcome\n",
    "print(f\"\"\"\n",
    "Your dog has:\n",
    "{dog_years} dog years\"\"\")"
   ]
  },
  {
   "cell_type": "markdown",
   "id": "bc113f5c",
   "metadata": {},
   "source": [
    "<h4>1.4. Control user input</h4><br>\n",
    "<div align = 'justify'>\n",
    "    Create a program that prompts the user to select a movie. Based on the selection, Python will describe the main plot of the movie in two phrases. User input must be correctly interpreted by Python, independently of how the user input the words.<br>\n",
    "    <ol>\n",
    "        <li>The wolf of wall street</li>\n",
    "        <li>Don't look up</li>\n",
    "        <li>Titanic</li>\n",
    "    </ol>\n",
    "</div>"
   ]
  },
  {
   "cell_type": "code",
   "execution_count": 20,
   "id": "ea5c704a",
   "metadata": {},
   "outputs": [
    {
     "name": "stdout",
     "output_type": "stream",
     "text": [
      "\n",
      "What's your favorite movie? \n",
      "    1. The wolf of wall street\n",
      "    2. Catch me if you can\n",
      "    3. Titanic\n",
      "Titanic\n",
      "\n",
      "Titanic is a 1997 American epic romance and disaster film directed \n",
      "by James Cameron. The film follows the story of Jack and Rose, two young people \n",
      "from different social classes who fall in love aboard the ill-fated RMS Titanic \n",
      "during its maiden voyage. The film is based on the real-life sinking of the \n",
      "ship in 1912 and features an ensemble cast including Leonardo DiCaprio and \n",
      "Kate Winslet.\n"
     ]
    }
   ],
   "source": [
    "# Exercise 1.4.\n",
    "\n",
    "# store user input\n",
    "user_input = input(prompt = \"\"\"\n",
    "What's your favorite movie? \n",
    "    1. The wolf of wall street\n",
    "    2. Catch me if you can\n",
    "    3. Titanic\n",
    "\"\"\")\n",
    "\n",
    "# Declare if statement\n",
    "if \"1\" in user_input or \"wolf\" in user_input.casefold():\n",
    "    print(\"\"\"\n",
    "The Wolf of Wall Street is a 2013 American biographical black \n",
    "comedy film directed by Martin Scorsese. The film is based on the true story of \n",
    "Jordan Belfort, a New York stockbroker who ran a penny stock boiler room and \n",
    "defrauded investors out of millions of dollars.\"\"\")\n",
    "\n",
    "elif \"2\" in user_input or \"catch\" in user_input.casefold():\n",
    "    print(\"\"\"\n",
    "Catch Me If You Can is a 2002 American biographical crime film \n",
    "directed by Steven Spielberg. The film stars Leonardo DiCaprio as Frank \n",
    "Abagnale Jr., a young con artist who successfully posed as a pilot, a \n",
    "lawyer, and a doctor while on the run from the FBI. The film is based on \n",
    "the true story of Abagnale's life as a prolific imposter.\"\"\")\n",
    "    \n",
    "elif \"3\" in user_input or \"titanic\" in user_input.casefold():\n",
    "    print(\"\"\"\n",
    "Titanic is a 1997 American epic romance and disaster film directed \n",
    "by James Cameron. The film follows the story of Jack and Rose, two young people \n",
    "from different social classes who fall in love aboard the ill-fated RMS Titanic \n",
    "during its maiden voyage. The film is based on the real-life sinking of the \n",
    "ship in 1912 and features an ensemble cast including Leonardo DiCaprio and \n",
    "Kate Winslet.\"\"\")\n",
    "    \n",
    "else:\n",
    "    print(\"invalid entry\")"
   ]
  },
  {
   "cell_type": "markdown",
   "id": "892968ef",
   "metadata": {},
   "source": [
    "<div align = justify>\n",
    "    The <b>.casefold()</b> method can be powerful in handling different variations of user input. For example, if a user enters 'Titanic', 'titanic', or 'The WOLF of...\" Python will not recognize these as the correct answer. o ensure that Python can accurately identify a correct answer regardless of the capitalization or case of the user's input, you can use string formatting functions such as .casefold().\n",
    "</div>"
   ]
  },
  {
   "cell_type": "markdown",
   "id": "aa527cb2",
   "metadata": {},
   "source": [
    "<h3>2. For Loops</h3>"
   ]
  },
  {
   "cell_type": "markdown",
   "id": "7a8197e9",
   "metadata": {},
   "source": [
    "<h4>2.1. For Basics</h4>"
   ]
  },
  {
   "cell_type": "markdown",
   "id": "28f0be8a",
   "metadata": {},
   "source": [
    "<h5>2.1.a. Loop over a list</h5>"
   ]
  },
  {
   "cell_type": "code",
   "execution_count": 22,
   "id": "dc25daf4",
   "metadata": {},
   "outputs": [
    {
     "name": "stdout",
     "output_type": "stream",
     "text": [
      "['Round 1', 'Argentina', 'Saudi Arabia', '1-2']\n",
      "['Round 2', 'Argentina', 'Mexico', '2-0']\n",
      "['Round 3', 'Poland', 'Argentina', '0-2']\n",
      "['Round of 16', 'Argentina', 'Australia', '2-1']\n",
      "['Quarter Finals', 'Netherlands', 'Argentina', '2-2']\n",
      "['Semi Finals', 'Argentina', 'Croatia', '3-0']\n",
      "['Final', 'Argentina', 'France', '3-3']\n"
     ]
    }
   ],
   "source": [
    "# Exercise 2.1.a.\n",
    "argentina_list = [['Round 1', 'Argentina', 'Saudi Arabia', '1-2'],\n",
    "                  ['Round 2', 'Argentina', 'Mexico', '2-0'],\n",
    "                  ['Round 3', 'Poland', 'Argentina', '0-2'],\n",
    "                  ['Round of 16', 'Argentina', 'Australia', '2-1'],\n",
    "                  ['Quarter Finals', 'Netherlands', 'Argentina', '2-2'],\n",
    "                  ['Semi Finals', 'Argentina', 'Croatia', '3-0'],\n",
    "                  ['Final', 'Argentina', 'France', '3-3']\n",
    "                 ]\n",
    "\n",
    "# Declare for loop\n",
    "for game in argentina_list:\n",
    "    print(game)"
   ]
  },
  {
   "cell_type": "markdown",
   "id": "74d09847",
   "metadata": {},
   "source": [
    "<h4>2.1.b. Transform each inner list into a variable and print a table with the full information</h4><br>\n",
    "print each game in the following format:<br>\n",
    "    \n",
    "    Stage:\n",
    "    Home Team:\n",
    "    Visit Team:\n",
    "    Score:\n"
   ]
  },
  {
   "cell_type": "code",
   "execution_count": 34,
   "id": "107b94df",
   "metadata": {},
   "outputs": [
    {
     "name": "stdout",
     "output_type": "stream",
     "text": [
      "\n",
      "    Stage:      Round 1\n",
      "    Home Team:  Argentina\n",
      "    Visit Team: Saudi Arabia\n",
      "    Score:      1-2\n",
      "    \n",
      "\n",
      "    Stage:      Round 2\n",
      "    Home Team:  Argentina\n",
      "    Visit Team: Mexico\n",
      "    Score:      2-0\n",
      "    \n",
      "\n",
      "    Stage:      Round 3\n",
      "    Home Team:  Poland\n",
      "    Visit Team: Argentina\n",
      "    Score:      0-2\n",
      "    \n",
      "\n",
      "    Stage:      Round of 16\n",
      "    Home Team:  Argentina\n",
      "    Visit Team: Australia\n",
      "    Score:      2-1\n",
      "    \n",
      "\n",
      "    Stage:      Quarter Finals\n",
      "    Home Team:  Netherlands\n",
      "    Visit Team: Argentina\n",
      "    Score:      2-2\n",
      "    \n",
      "\n",
      "    Stage:      Semi Finals\n",
      "    Home Team:  Argentina\n",
      "    Visit Team: Croatia\n",
      "    Score:      3-0\n",
      "    \n",
      "\n",
      "    Stage:      Final\n",
      "    Home Team:  Argentina\n",
      "    Visit Team: France\n",
      "    Score:      3-3\n",
      "    \n",
      "Round 1\n",
      "Round 2\n",
      "Round 3\n",
      "Round of 16\n",
      "Quarter Finals\n",
      "Semi Finals\n",
      "Final\n"
     ]
    }
   ],
   "source": [
    "# Exercise 2.1.b.\n",
    "\n",
    "# Declare for loop\n",
    "for game in argentina_list:\n",
    "    print(f\"\"\"\n",
    "    Stage:      {game[0]}\n",
    "    Home Team:  {game[1]}\n",
    "    Visit Team: {game[2]}\n",
    "    Score:      {game[3]}\n",
    "    \"\"\"\n",
    "                     )\n",
    "    \n",
    "# Another way to do it\n",
    "for stage, home, visit, score in argentina_list:\n",
    "    print(stage)\n"
   ]
  },
  {
   "cell_type": "code",
   "execution_count": 35,
   "id": "ec9d2058",
   "metadata": {},
   "outputs": [
    {
     "name": "stdout",
     "output_type": "stream",
     "text": [
      "\n",
      "    Stage:      Round 1\n",
      "    Home Team:  Argentina\n",
      "    Visit Team: Saudi Arabia\n",
      "    Score:      1-2\n",
      "    \n",
      "\n",
      "    Stage:      Round 2\n",
      "    Home Team:  Argentina\n",
      "    Visit Team: Mexico\n",
      "    Score:      2-0\n",
      "    \n",
      "\n",
      "    Stage:      Round 3\n",
      "    Home Team:  Poland\n",
      "    Visit Team: Argentina\n",
      "    Score:      0-2\n",
      "    \n",
      "\n",
      "    Stage:      Round of 16\n",
      "    Home Team:  Argentina\n",
      "    Visit Team: Australia\n",
      "    Score:      2-1\n",
      "    \n",
      "\n",
      "    Stage:      Quarter Finals\n",
      "    Home Team:  Netherlands\n",
      "    Visit Team: Argentina\n",
      "    Score:      2-2\n",
      "    \n",
      "\n",
      "    Stage:      Semi Finals\n",
      "    Home Team:  Argentina\n",
      "    Visit Team: Croatia\n",
      "    Score:      3-0\n",
      "    \n",
      "\n",
      "    Stage:      Final\n",
      "    Home Team:  Argentina\n",
      "    Visit Team: France\n",
      "    Score:      3-3\n",
      "    \n"
     ]
    }
   ],
   "source": [
    "for stage, home, visit, score in argentina_list:\n",
    "    print(f\"\"\"\n",
    "    Stage:      {stage}\n",
    "    Home Team:  {home}\n",
    "    Visit Team: {visit}\n",
    "    Score:      {score}\n",
    "    \"\"\"\n",
    "                     )"
   ]
  },
  {
   "cell_type": "markdown",
   "id": "c693f91b",
   "metadata": {},
   "source": [
    "<h4>2.1.c. print only the semifinal and final games</h4><br>\n",
    "<div align = justify>\n",
    "Add a new row that declares the winner. If the score is \"tie\", write \"Tie\".\n",
    "</div>\n",
    "\n",
    "    Stage:\n",
    "    Home Team:\n",
    "    Visit Team:\n",
    "    Score:\n",
    "    Winner: \n",
    "    "
   ]
  },
  {
   "cell_type": "code",
   "execution_count": 42,
   "id": "1b04414f",
   "metadata": {},
   "outputs": [
    {
     "name": "stdout",
     "output_type": "stream",
     "text": [
      "\n",
      "    Stage:      Semi Finals\n",
      "    Home Team:  Argentina\n",
      "    Visit Team: Croatia\n",
      "    Score:      3-0\n",
      "    Winner:     Argentina\n",
      "    \n",
      "\n",
      "    Stage:      Final\n",
      "    Home Team:  Argentina\n",
      "    Visit Team: France\n",
      "    Score:      3-3\n",
      "    Winner:     Tie\n",
      "    \n"
     ]
    }
   ],
   "source": [
    "# Exercise 2.1.c. \n",
    "\n",
    "# Declare for loop\n",
    "for stage, home, visit, score in argentina_list:\n",
    "    sep_score = score.split(\"-\")\n",
    "    if sep_score[0] > sep_score [1]:\n",
    "        winner = home\n",
    "    elif sep_score[0] < sep_score[1]:\n",
    "        winner = visit\n",
    "    elif sep_score[0] == sep_score[1]:\n",
    "        winner = \"Tie\"\n",
    "    else:\n",
    "        print(\"Something went wrong\")\n",
    "        \n",
    "    if stage == \"Final\" or stage == \"Semi Finals\":\n",
    "        print(f\"\"\"\n",
    "    Stage:      {stage}\n",
    "    Home Team:  {home}\n",
    "    Visit Team: {visit}\n",
    "    Score:      {score}\n",
    "    Winner:     {winner}\n",
    "    \"\"\"\n",
    "                     )"
   ]
  },
  {
   "cell_type": "markdown",
   "id": "2294c2ae",
   "metadata": {},
   "source": [
    "<h3>2.2. Create a program to swap lowercase letter into uppercase and viceversa</h3><br>\n",
    "Prompt the user for the initial string\n",
    "    "
   ]
  },
  {
   "cell_type": "code",
   "execution_count": null,
   "id": "48f19a91",
   "metadata": {},
   "outputs": [],
   "source": [
    "# Exercise 2.2. \n",
    "\n",
    "# Store user input\n",
    "user_input = input(prompt = \"Escribe algo rctm \")\n",
    "\n",
    "# Declare an empty list\n",
    "swap_letter = []\n",
    "\n",
    "# Declare a for that goes over each letter from user's input\n",
    "____\n",
    "    \n",
    "    # Check if the original letter is lower\n",
    "    ____\n",
    "        \n",
    "        # if true, transform it into upper and append it to swap_letter list\n",
    "        ____\n",
    "    \n",
    "    # if the original letter is not lower (i.e, is upper)\n",
    "    ____\n",
    "        \n",
    "        # transform the upper letter into a lower letter\n",
    "        ____\n",
    "\n",
    "# transform the list of letters into a string\n",
    "user_input_swapped = ____\n",
    "\n",
    "# print outcome\n",
    "print(f\"\"\"\n",
    "The original text is:         ____\n",
    "The original text swapped is: ____\"\"\")\n"
   ]
  },
  {
   "cell_type": "markdown",
   "id": "bfbe0e87",
   "metadata": {},
   "source": [
    "Write a Python program to find those numbers which are divisible by 7 and multiple of 5, between 1500 and 2700 (both included)"
   ]
  },
  {
   "cell_type": "markdown",
   "id": "c6456f73",
   "metadata": {},
   "source": [
    "<h3>3. While Loops</h3>"
   ]
  },
  {
   "cell_type": "markdown",
   "id": "fae33936",
   "metadata": {},
   "source": [
    "<h4> 3.1. While basics</h4><br>\n",
    "<h5>a. Create a while program that counts from 10 to 0.</h5>"
   ]
  },
  {
   "cell_type": "code",
   "execution_count": null,
   "id": "b53a6243",
   "metadata": {},
   "outputs": [],
   "source": [
    "# Exercise 3.1.a.\n",
    "\n",
    "# Declare number iterator\n",
    "i = ___\n",
    "\n",
    "# Declare while statement\n",
    "while ____:\n",
    "    \n",
    "    print(____)\n",
    "    \n",
    "    ____"
   ]
  },
  {
   "cell_type": "markdown",
   "id": "902c50c2",
   "metadata": {},
   "source": [
    "<h4>b. print the text \"Happy New Year\" instead of 0</h4>"
   ]
  },
  {
   "cell_type": "code",
   "execution_count": null,
   "id": "0b9411b8",
   "metadata": {},
   "outputs": [],
   "source": [
    "# Exercise 3.1.b\n",
    "\n",
    "i = 10\n",
    "\n",
    "while i >= 0:\n",
    "    \n",
    "    # Declare if statement\n",
    "    ____\n",
    "    \n",
    "    i -= 1"
   ]
  },
  {
   "cell_type": "markdown",
   "id": "56ac5d07",
   "metadata": {},
   "source": [
    "<h4>3.2. Create a program to calculate the factorial value of a number </h4>\n",
    "Reminder: Factorial (n!) represents the multiplication between the n elements (n*(n-1)*...*2*1)"
   ]
  },
  {
   "cell_type": "code",
   "execution_count": null,
   "id": "9930634d",
   "metadata": {},
   "outputs": [],
   "source": [
    "# Exercise 3.2.\n",
    "\n",
    "# Store user input\n",
    "user_input = ____\n",
    "\n",
    "# first factorial\n",
    "factorial = 1\n",
    "\n",
    "# Declare if statement to consider only numbers > 0\n",
    "if____:\n",
    "    \n",
    "    # Declare while statement\n",
    "    ____\n",
    "        \n",
    "        # store the new value of the factorial\n",
    "        ____\n",
    "        \n",
    "        # reduce user input number by 1\n",
    "        ____\n",
    "    \n",
    "    # Once out of the loop, print the result    \n",
    "    print(f\"\"\"The value is {factorial}\"\"\")\n",
    "\n",
    "# Declare else statement if the number is < 0    \n",
    "else:\n",
    "    print(\"Please select a number greater than 0.\")"
   ]
  },
  {
   "cell_type": "markdown",
   "id": "b50e749d",
   "metadata": {},
   "source": [
    "<h4>3.3. Create a password validator</h4><br>\n",
    "Provide the user 3 opportunities to input a password that has:\n",
    "    <ul>\n",
    "        <li>At least 5 characters</li>\n",
    "        <li>At most 10 characters</li>\n",
    "        <li>Only numbers</li>\n",
    "    </ul>\n",
    "    \n",
    "<em>Hint: The string function .isdigit() returns True if a string is numeric and False any other case</em>\n",
    "<ul>\n",
    "    <li>'AsDh12' = False</li>\n",
    "    <li>'12' = True</li>\n",
    "    <li>'AsDh' = False</li>\n",
    "</ul>"
   ]
  },
  {
   "cell_type": "code",
   "execution_count": null,
   "id": "d22dec29",
   "metadata": {},
   "outputs": [],
   "source": [
    "# Exercise 3.3.\n",
    "\n",
    "# Declare number of opportunities\n",
    "x = ____\n",
    "\n",
    "# Declare while statement\n",
    "____\n",
    "    \n",
    "    # Store user input\n",
    "    user_input = input(prompt = \"Input your password: \")\n",
    "    \n",
    "    # Create if statement\n",
    "    ____\n",
    "        \n",
    "        # print statement if the conditions are met\n",
    "        print(\"Awesome! Your new password was created.\\n\")\n",
    "        ____\n",
    "    \n",
    "    # condition 1 not met\n",
    "    ____\n",
    "        print(\"Your password is too short\\n\")\n",
    "    \n",
    "    # condition 2 not met\n",
    "    ____\n",
    "        print(\"Your password is too long\\n\")\n",
    "    \n",
    "    # condition 3 not met\n",
    "    ____\n",
    "        print(\"Your password must have only numbers\\n\")\n",
    "    \n",
    "    # control unexpected errors\n",
    "    else:\n",
    "        print(\"Unexpected error\\n\")\n",
    "    \n",
    "    # reduce number iterator\n",
    "    x -= 1\n",
    "\n",
    "# if user is out of tries\n",
    "____\n",
    "    print(\"You are out of chances\")"
   ]
  }
 ],
 "metadata": {
  "kernelspec": {
   "display_name": "Python 3 (ipykernel)",
   "language": "python",
   "name": "python3"
  },
  "language_info": {
   "codemirror_mode": {
    "name": "ipython",
    "version": 3
   },
   "file_extension": ".py",
   "mimetype": "text/x-python",
   "name": "python",
   "nbconvert_exporter": "python",
   "pygments_lexer": "ipython3",
   "version": "3.9.13"
  },
  "toc": {
   "base_numbering": 1,
   "nav_menu": {},
   "number_sections": false,
   "sideBar": true,
   "skip_h1_title": false,
   "title_cell": "Table of Contents",
   "title_sidebar": "Contents",
   "toc_cell": false,
   "toc_position": {},
   "toc_section_display": true,
   "toc_window_display": false
  },
  "varInspector": {
   "cols": {
    "lenName": 16,
    "lenType": 16,
    "lenVar": 40
   },
   "kernels_config": {
    "python": {
     "delete_cmd_postfix": "",
     "delete_cmd_prefix": "del ",
     "library": "var_list.py",
     "varRefreshCmd": "print(var_dic_list())"
    },
    "r": {
     "delete_cmd_postfix": ") ",
     "delete_cmd_prefix": "rm(",
     "library": "var_list.r",
     "varRefreshCmd": "cat(var_dic_list()) "
    }
   },
   "types_to_exclude": [
    "module",
    "function",
    "builtin_function_or_method",
    "instance",
    "_Feature"
   ],
   "window_display": false
  }
 },
 "nbformat": 4,
 "nbformat_minor": 5
}
