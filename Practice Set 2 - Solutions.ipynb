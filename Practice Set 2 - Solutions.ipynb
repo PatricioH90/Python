{
 "cells": [
  {
   "cell_type": "markdown",
   "id": "6651210e",
   "metadata": {},
   "source": [
    "<div style=\"float: right; margin: 0px 15px 15px 0px;\">\n",
    "<img src=\"https://upload.wikimedia.org/wikipedia/commons/b/b6/HULT_IBS_Logo_Outline_Black_%28cropped%29.png\" width=150/>\n",
    "</div>\n",
    "<h1 style=\"list-style-type: none\"> Python for Data Analysis: Methods & Tools </h1>\n",
    "<em> <strong>Practice Set 2: Data types</strong></em>\n",
    "<br><br>\n",
    "<b>Author:</b> Nicola Bini - Teaching Assistant<br>\n",
    "Hult International Business School <br>\n",
    "<br>"
   ]
  },
  {
   "cell_type": "markdown",
   "id": "161bd8f9",
   "metadata": {},
   "source": [
    "## Types of Data\n",
    "### Initialize variables\n",
    "Initialize a new variable for each of the following data types:\n",
    "- String\n",
    "- Int\n",
    "- Float\n",
    "- Boolean\n",
    "- List\n",
    "- Dictionary\n",
    "- Set\n",
    "- Sequence (range)"
   ]
  },
  {
   "cell_type": "code",
   "execution_count": 4,
   "id": "f88c08dd",
   "metadata": {},
   "outputs": [
    {
     "data": {
      "text/plain": [
       "range(1, 5)"
      ]
     },
     "execution_count": 4,
     "metadata": {},
     "output_type": "execute_result"
    }
   ],
   "source": [
    "name = ''\n",
    "age = 18\n",
    "rev = 10.5\n",
    "decision = True\n",
    "lst = [18, 28, 30]\n",
    "dictionary = {\"hello\":\"ciao\", \"name\":\"nome\"}\n",
    "players = set(['value1','value2'])\n",
    "range(1,5)"
   ]
  },
  {
   "cell_type": "code",
   "execution_count": 16,
   "id": "495ef16e",
   "metadata": {},
   "outputs": [
    {
     "name": "stdout",
     "output_type": "stream",
     "text": [
      "sartak 3\n"
     ]
    }
   ],
   "source": [
    "students = ['amit', 'sartak', 'cherease']\n",
    "grades = ['4', '3', '4']\n",
    "print(f'{students[1]} {grades[1]}')"
   ]
  },
  {
   "cell_type": "code",
   "execution_count": 25,
   "id": "998124de",
   "metadata": {},
   "outputs": [],
   "source": [
    "grades = {\n",
    "    \"amit\": {'python':4, 'data viz': 3},\n",
    "    \"sartak\": 3,\n",
    "    \"cherease\": 4\n",
    "}"
   ]
  },
  {
   "cell_type": "markdown",
   "id": "37e81a04",
   "metadata": {},
   "source": [
    "## Numbers & Strings\n",
    "### Convert user input\n",
    "Since the user input saved using the function **input()** is always stored as string, you need to convert it to the appropriate data type.\n",
    "\n",
    "Ask the user for his favorite number and save it in an **Integer variable**. Then use the function **type()** to make sure the variable type is **int**"
   ]
  },
  {
   "cell_type": "code",
   "execution_count": 28,
   "id": "6112eec8",
   "metadata": {},
   "outputs": [
    {
     "name": "stdout",
     "output_type": "stream",
     "text": [
      "number:18\n",
      "<class 'int'>\n"
     ]
    }
   ],
   "source": [
    "number = input('number:')\n",
    "\n",
    "number = int(number)\n",
    "\n",
    "print(type(number))"
   ]
  },
  {
   "cell_type": "markdown",
   "id": "a4c47d4f",
   "metadata": {},
   "source": [
    "### Exponentiation\n",
    "Creat a script that takes 2 input from the user: *base* and *exponent*, and calculate the *base* to the power of *exponent*. Print the result in a sentence. Do not use the math library."
   ]
  },
  {
   "cell_type": "code",
   "execution_count": 37,
   "id": "7f149013",
   "metadata": {},
   "outputs": [
    {
     "name": "stdout",
     "output_type": "stream",
     "text": [
      "exponent: 3\n",
      "base: 3\n",
      "27\n"
     ]
    }
   ],
   "source": [
    "exponent = input(\"exponent: \")\n",
    "base = int(input(\"base: \"))\n",
    "\n",
    "exponent = int(exponent)\n",
    "\n",
    "result = base**exponent\n",
    "\n",
    "print(result)"
   ]
  },
  {
   "cell_type": "markdown",
   "id": "106d6d05",
   "metadata": {},
   "source": [
    "### Exponentiation with Math library\n",
    "Similarly to the previous exercise, create a script that takes as input an whole number and calculate the *cube* of that number. Use the **math library**, and print the result."
   ]
  },
  {
   "cell_type": "code",
   "execution_count": 43,
   "id": "7fe9101b",
   "metadata": {},
   "outputs": [
    {
     "name": "stdout",
     "output_type": "stream",
     "text": [
      "exponent: 2\n",
      "base: 3\n",
      "9.0\n"
     ]
    }
   ],
   "source": [
    "import math\n",
    "\n",
    "exponent = input(\"exponent: \")\n",
    "base = int(input(\"base: \"))\n",
    "\n",
    "exponent = int(exponent)\n",
    "\n",
    "result = math.pow(base, exponent)\n",
    "\n",
    "print(result)\n"
   ]
  },
  {
   "cell_type": "markdown",
   "id": "42e1ed3a",
   "metadata": {},
   "source": [
    "### Counter + 1\n",
    "Run the cell below to initialize a variable called counter. Then, create a script that everytime it runs it prints the previous number + 1. For example, print 1 the first time it runs, print 2 the second time it runs, and so on."
   ]
  },
  {
   "cell_type": "code",
   "execution_count": 46,
   "id": "7c67aba8",
   "metadata": {},
   "outputs": [],
   "source": [
    "# Do not change this cell\n",
    "counter = 0"
   ]
  },
  {
   "cell_type": "code",
   "execution_count": 80,
   "id": "c212588e",
   "metadata": {},
   "outputs": [
    {
     "name": "stdout",
     "output_type": "stream",
     "text": [
      "34\n"
     ]
    }
   ],
   "source": [
    "# Write your code here\n",
    "counter += 1\n",
    "print(counter)"
   ]
  },
  {
   "cell_type": "code",
   "execution_count": null,
   "id": "fbf22f46",
   "metadata": {},
   "outputs": [],
   "source": [
    "# 2 different notations to achieve the same\n",
    "counter += 1\n",
    "counter = counter + 1"
   ]
  },
  {
   "cell_type": "markdown",
   "id": "1b82bb9b",
   "metadata": {},
   "source": [
    "### Counter -1 \n",
    "Run the cell below to initialize a variable called countdown. Then, create a script that everytime it runs it prints the previous number - 1. For example, print 100 the first time it runs, print 99 the second time it runs, and so on."
   ]
  },
  {
   "cell_type": "code",
   "execution_count": 87,
   "id": "1cb4853b",
   "metadata": {},
   "outputs": [
    {
     "name": "stdout",
     "output_type": "stream",
     "text": [
      "95\n"
     ]
    }
   ],
   "source": [
    "# Write your code here\n",
    "countdown -= 1\n",
    "print(countdown)"
   ]
  },
  {
   "cell_type": "code",
   "execution_count": 82,
   "id": "d1f531ff",
   "metadata": {},
   "outputs": [],
   "source": [
    "# Do not change this cell\n",
    "countdown = 100"
   ]
  },
  {
   "cell_type": "markdown",
   "id": "3eecb865",
   "metadata": {},
   "source": [
    "## Strings\n",
    "### Concatena input strings\n",
    "Ask the user to input his/her **first and last name** in 2 different variables. Then concatenate them and save the result in a third variable. Finally print the third variable that contains the full name, before the variable below. Use only one print()\n",
    "\n"
   ]
  },
  {
   "cell_type": "code",
   "execution_count": null,
   "id": "662e3269",
   "metadata": {},
   "outputs": [],
   "source": [
    "### Solution ###\n",
    "introduction = 'is a very friendly user'\n",
    "\n",
    "first_name = input('first name: ')\n",
    "last_name = input('last name: ')\n",
    "\n",
    "full_name = first_name + ' ' + last_name\n",
    "\n",
    "print(full_name, introduction)"
   ]
  },
  {
   "cell_type": "markdown",
   "id": "71614dee",
   "metadata": {},
   "source": [
    "### Concatenate input strings and ints\n",
    "Ask the user to input they **name and age** and save them in 2 different variables. Then, concatenate them in a single variable and print the result. You don't need to convert the age to string to concatenate the 2 variables, why?"
   ]
  },
  {
   "cell_type": "code",
   "execution_count": null,
   "id": "3692a0c2",
   "metadata": {},
   "outputs": [],
   "source": [
    "### Solution ###\n",
    "first_name = input('first name: ')\n",
    "age = input('Age: ')\n",
    "\n",
    "intro = first_name + age\n",
    "\n",
    "print(intro)"
   ]
  },
  {
   "cell_type": "markdown",
   "id": "171c4bcc",
   "metadata": {},
   "source": [
    "## Booleans\n",
    "### Return True \n",
    "Create a logical statement using the variables **a** and **b** that computes to True"
   ]
  },
  {
   "cell_type": "code",
   "execution_count": null,
   "id": "3ff7ccfc",
   "metadata": {},
   "outputs": [],
   "source": [
    "### Solution ###\n",
    "a = False\n",
    "b = True\n",
    "\n",
    "# Logical statement\n",
    "result = (a == b)\n",
    "\n",
    "print(result)"
   ]
  },
  {
   "cell_type": "markdown",
   "id": "a9ec1f4d",
   "metadata": {},
   "source": [
    "### Stock market and revenue\n",
    "Given the 2 following statements:\n",
    "\n",
    "- a = **The stock market has grown**\n",
    "- b = **Coca Cola company stock price has grown**\n",
    "\n",
    "Supposing a=True and b=False, create logical statements that matches the following situations:\n",
    "\n",
    "1. *Both the stock market and Coca Cola stock price has dropped* \n",
    "2. *Coca Cola stock price has increased*\n",
    "3. *Either the stock market or the Coca Cola stock price has dropped*\n",
    "4. *The Stock market has dropped*\n",
    "\n",
    "Give *a* and *b* meaningful names. Print the results."
   ]
  },
  {
   "cell_type": "code",
   "execution_count": null,
   "id": "53e444c0",
   "metadata": {},
   "outputs": [],
   "source": [
    "### Solution ###\n",
    "\n",
    "a = True\n",
    "b = False\n",
    "\n",
    "situation1 = (a and b)\n",
    "situation2 = (b)\n",
    "situation3 = (not a) or (not b)\n",
    "situation4 = (not a)\n",
    "\n",
    "print('situation1:', situation1)\n",
    "print('situation2:', situation2)\n",
    "print('situation3:', situation3)\n",
    "print('situation4:', situation4)\n",
    "\n",
    "# alternative \n",
    "stock_market_grown = True\n",
    "coca_cola_price_grown = False\n",
    "\n",
    "print(stock_market_grown and coca_cola_price_grown)\n",
    "print(coca_cola_price_grown)\n",
    "print((not stock_market_grown) or (not coca_cola_price_grown))\n",
    "print(not stock_market_grown)"
   ]
  },
  {
   "cell_type": "markdown",
   "id": "fda8c57e",
   "metadata": {},
   "source": [
    "### Company revenues and costs\n",
    "Given the 2 following statements:\n",
    "\n",
    "- a = **Revenues has increased**\n",
    "- b = **Production cost has decreased**\n",
    "\n",
    "Supposing a=False and b=True, create logical statements that matches the following situations:\n",
    "\n",
    "1. *Production costs has increased and Revenues has decreased*\n",
    "2. *Both production cost and revenues have decreased*\n",
    "3. *Revenues have increased and production cost has either increased or decreased*\n",
    "4. *Either revenues or producion cost have increased*\n",
    "\n",
    "Write conditions (e.g. **a and b**) that return the truth value of the statements. Assume that both revenue and production cost can either increase or decrease, but cannot stay the same."
   ]
  },
  {
   "cell_type": "code",
   "execution_count": null,
   "id": "7bcf51a8",
   "metadata": {},
   "outputs": [],
   "source": [
    "### Solution ###\n",
    "\n",
    "# statement a = Revenues has increased\n",
    "revenue_increase = False\n",
    "\n",
    "# statement b = Production cost has decreased\n",
    "cost_decrease = True\n",
    "\n",
    "# Production cost has increased and Revenues has decreased\n",
    "situation1 = (not cost_decrease) and (not revenue_increase)\n",
    "\n",
    "# Both production cost and revenues have decreased\n",
    "situation2 = (cost_decrease) and (not revenue_increase)\n",
    "\n",
    "# Revenues have increased and production cost has either increased or decreased\n",
    "situation3 = (revenue_increase) and (cost_decrease or (not cost_decrease))\n",
    "\n",
    "# Profits have decreased (assuming total cost = production cost)\n",
    "situation4 = (not revenue_increase) and cost_decrease\n",
    "\n",
    "print('situation1:', situation1)\n",
    "print('situation2:', situation2)\n",
    "print('situation3:', situation3)\n",
    "print('situation4:', situation4)\n",
    "\n",
    "revenue_increased = False # revenue have decreased\n",
    "cost_decreased = True # cost decreased\n",
    "\n",
    "print((not cost_decreased) and (not revenue_increased))\n",
    "print(cost_decreased and (not revenue_increased))\n",
    "print(revenue_increased)\n",
    "print((revenue_increased) or (not cost_decreased))"
   ]
  },
  {
   "cell_type": "markdown",
   "id": "996feecf",
   "metadata": {},
   "source": [
    "### Company's profits\n",
    "\n",
    "A SaaS company makes all his profits by selling a software with a subscription model. They have 23 thousand subscribers and each of them pay the company 300 dollars a year. The total cost for the company is 3.5 milion dollars a year.\n",
    "\n",
    "Create logical statements that match the following situations:\n",
    "\n",
    "1. The company made a profit\n",
    "2. Revenues are 30% higher than the total cost\n",
    "3. By increasing the revenue per subscriber by 7.5%, the company would increase its profits by less or equal to 15%\n",
    "4. The company would have a loss bigger than 1 milion if the subscribers drop by 50%"
   ]
  },
  {
   "cell_type": "code",
   "execution_count": null,
   "id": "e5a789c1",
   "metadata": {},
   "outputs": [],
   "source": [
    "###### Solution ###\n",
    "\n",
    "\n",
    "subscribers = 23000\n",
    "revenue_per_sub = 300\n",
    "total_cost = 3500000\n",
    "\n",
    "\n",
    "total_revenue = subscribers * revenue_per_sub\n",
    "profit = total_revenue - total_cost\n",
    "print('total_revenue: ' + str(total_revenue))\n",
    "print('profit:', profit)\n",
    "\n",
    "\n",
    "# The company made a profit\n",
    "situation1 = total_revenue > total_cost\n",
    "\n",
    "# Revenues are 30% higher than the total cost\n",
    "situation2 = total_revenue > total_cost * 1.30\n",
    "\n",
    "# By increasing the revenue per subscriber by 7.5%, the company would increase its profits by less or equal to 15%\n",
    "situation3 = (((subscribers * revenue_per_sub * 1.075) - total_cost) / (total_revenue - total_cost)) - 1 <= 0.15\n",
    "\n",
    "# The company would have a loss bigger than 1 milion if the subscribers drop by 50%\n",
    "situation4 = (((subscribers * 0.5 * revenue_per_sub) - total_cost) < -1000000)\n",
    "\n",
    "\n",
    "print('situation1:', situation1)\n",
    "print('situation2:', situation2)\n",
    "print('situation3:', situation3)\n",
    "print('situation4:', situation4)"
   ]
  },
  {
   "cell_type": "markdown",
   "id": "0961b402",
   "metadata": {},
   "source": [
    "## Sets\n",
    "### Dinner's food preference\n",
    "A restaurant wants to collect the food preference of the invitees. They already know that they want some meat and vegetarian options. Create a set with \"meat\" and \"vegetarian\". Ask the user's food preferences and adds it to the set **options**, if it's not already there. Then, print the resulting set."
   ]
  },
  {
   "cell_type": "code",
   "execution_count": null,
   "id": "25249cc1",
   "metadata": {},
   "outputs": [],
   "source": [
    "### Solution ###\n",
    "\n",
    "# Initialize set with current food preferences\n",
    "options = set(['meat', 'vegetarian'])\n",
    "\n",
    "# Ask for user preference\n",
    "user_preference = input(\"what food preference do you have? \")\n",
    "\n",
    "# Add preference to the options list, if it is not already there\n",
    "options.add(user_preference)\n",
    "\n",
    "print(options)"
   ]
  },
  {
   "cell_type": "markdown",
   "id": "3cb8bc18",
   "metadata": {},
   "source": [
    "## Sequences\n",
    "### Create and access lists\n",
    "Create a list with the following names: **Andrea, Raafi, Rodrigo, Marcello, Elisa, Isabella, Rosabel, Zhuomin,** and **Nabeel**. Then perform the following actions:\n",
    "\n",
    "1. Print the first name on the list\n",
    "2. Print the last name on the list\n",
    "3. Print the second and 5th name on the list\n",
    "4. Print the first 3 names on the list\n",
    "5. Print the last 4 names on the list\n",
    "6. Print all the names between the 2nd name (included) and 6th name (included) on the list\n",
    "7. Print all the names between the 2nd name (excluded) and 6th name (excluded) on the list \n",
    "8. Print the length of the list\n",
    "\n",
    "Remember: the first element of python list have index 0!"
   ]
  },
  {
   "cell_type": "code",
   "execution_count": null,
   "id": "ddaeb30b",
   "metadata": {},
   "outputs": [],
   "source": [
    "### Solution ###\n",
    "\n",
    "# Initialize list\n",
    "names = ['Andrea', 'Raafi', 'Rodrigo', 'Marcello', 'Elisa', 'Isabella', \n",
    "         'Rosabel', 'Zhuomin', 'Nabeel']\n",
    "\n",
    "# 1. Print the first name on the list\n",
    "print(names[0])\n",
    "\n",
    "# 2. Print the last name on the list\n",
    "print(names[-1])\n",
    "\n",
    "# 3. Print the second and fifth name on the list\n",
    "print(names[1], names[4])\n",
    "\n",
    "# 4. Print the first 3 names on the list\n",
    "print(names[:3])\n",
    "\n",
    "# 5. Print the last 4 names on the list\n",
    "print(names[-4:])\n",
    "\n",
    "# 6. Print all the names between the second and sixth name on the list (included)\n",
    "print(names[1:6])\n",
    "\n",
    "# 7. Print all the names between the second and sixth name on the list (excluded)\n",
    "print(names[2:5])\n",
    "\n",
    "# 8. Print the length of the list\n",
    "print(len(names))"
   ]
  },
  {
   "cell_type": "markdown",
   "id": "160f1191",
   "metadata": {},
   "source": [
    "### Create and access lists 2\n",
    "Create a list with a 10 values of your choice. Then print the following information:\n",
    "\n",
    "1. Every element in the list\n",
    "2. The first 2 elements of the list\n",
    "3. The last 5 elements\n",
    "4. The 4th and 6th element\n",
    "5. From the 2nd element (included) to the 9th (excluded) element \n",
    "6. Everything except the 4th element\n",
    "7. The length of the list\n",
    "8. True if the 8th element is \"Hult\"\n",
    "9. From the 2nd element (excluded) to the 9th (included) element "
   ]
  },
  {
   "cell_type": "code",
   "execution_count": null,
   "id": "7a165e3c",
   "metadata": {},
   "outputs": [],
   "source": [
    "#1. Create a range from 5 (included) to 505 (included) with steps of 25\n",
    "big_range = range(5,530,25)\n",
    "#2. Create a range from 2 (excluded) to 10 (included) with steps of 1]\n",
    "small_range = range(3, 10, 1)\n",
    "#3. Print the first and last element created in step 1\n",
    "print(big_range[0])\n",
    "print(big_range[-1])\n",
    "#4. Print the first and last element created in step 2\n",
    "print(small_range[0])\n",
    "print(small_range[-1])"
   ]
  },
  {
   "cell_type": "markdown",
   "id": "7f28ec6e",
   "metadata": {},
   "source": [
    "### Operations on lists\n",
    "Initialize a list with at least 5 elements and perform the following actions in order:\n",
    "\n",
    "1. Append one element the number 42 at the end of the list\n",
    "2. Remove the element 42 from the list\n",
    "3. Create a second list and extend the first list with it\n",
    "4. Remove the last element of the list and print it using pop\n",
    "5. Reverse the list\n",
    "6. Create a variable with a copy of your list. What is the difference between using .copy() and the assignment operator (e.g. list1 = list2)? "
   ]
  },
  {
   "cell_type": "code",
   "execution_count": 94,
   "id": "00caaa27",
   "metadata": {},
   "outputs": [
    {
     "name": "stdout",
     "output_type": "stream",
     "text": [
      "-4\n",
      "[-3, -2, -1, 105, 4, 3, 5, 1]\n"
     ]
    }
   ],
   "source": [
    "# Initialize list\n",
    "nums = [1, 5, 3, 4, 105]\n",
    "\n",
    "\n",
    "# 1. Append one element the number 42 at the end of the list\n",
    "nums.append(42)\n",
    "\n",
    "# 2. Remove the element 42 from the list\n",
    "nums.remove(42)\n",
    "\n",
    "# 3. Create a second list and extend the first list with it\n",
    "nums_2 = [-1, -2, -3, -4]\n",
    "nums.extend(nums_2)\n",
    "\n",
    "# 4. Remove the last element of the list and print it using pop\n",
    "print(nums.pop(-1))\n",
    "\n",
    "# 5. Reverse the list\n",
    "nums.reverse()\n",
    "\n",
    "# 6. Create a variable with a copy of your list. What is the difference between using .copy() and the assignment operator (e.g. list1 = list2)?\n",
    "nums_copy = nums.copy()\n"
   ]
  },
  {
   "cell_type": "markdown",
   "id": "a15ea0e4",
   "metadata": {},
   "source": [
    "### Create and access ranges\n",
    "Execute the following statements:\n",
    "\n",
    "1. Create a range from 5 (included) to 505 (included) with steps of 25\n",
    "2. Create a range from 2 (excluded) to 10 (included) with steps of 1\n",
    "3. Print the first and last element created in step 1\n",
    "4. Print the first and last element created in step 2"
   ]
  },
  {
   "cell_type": "code",
   "execution_count": 100,
   "id": "bc5843da",
   "metadata": {},
   "outputs": [
    {
     "name": "stdout",
     "output_type": "stream",
     "text": [
      "5 505\n",
      "3 10\n"
     ]
    }
   ],
   "source": [
    "# 1. Create a range from 5 (included) to 505 (included) with steps of 25\n",
    "range505 = range(5, 530, 25)\n",
    "\n",
    "# 2. Create a range from 2 (excluded) to 10 (included) with steps of 1\n",
    "range10 = range(3, 11)\n",
    "\n",
    "# 3. Print the first and last element created in step 1\n",
    "print(range505[0], range505[-1])\n",
    "\n",
    "# 4. Print the first and last element created in step 2\n",
    "print(range10[0], range10[-1])"
   ]
  },
  {
   "cell_type": "markdown",
   "id": "e6cc6fd8",
   "metadata": {},
   "source": [
    "## Dictionaries\n",
    "### Create dictionary for car prices\n",
    "Create a dictionary that contains the name of 5 cars you like and their prices. Use the car names for the keys and their prices as values"
   ]
  },
  {
   "cell_type": "code",
   "execution_count": null,
   "id": "773e5829",
   "metadata": {},
   "outputs": [],
   "source": [
    "cars = {\n",
    "    \"model 3\" : 34000,\n",
    "    \"modelY\" : 35532,\n",
    "    \"modelX\" : 150150,\n",
    "    \"Ferrari\" : 250150,\n",
    "    \"Maserati\" : 150150,\n",
    "}"
   ]
  },
  {
   "cell_type": "markdown",
   "id": "4aec3ebb",
   "metadata": {},
   "source": [
    "### Insert translation in a dictionary\n",
    "Create a dictionary with 5 english words and their translation in your native language (or a language of your choice)\n",
    "Then, ask the user to add a new word and its translation. save the result in the dictionary you created."
   ]
  },
  {
   "cell_type": "code",
   "execution_count": null,
   "id": "bc584af8",
   "metadata": {},
   "outputs": [],
   "source": [
    "italian_translations = {\n",
    "    'book' : 'libro',\n",
    "    'obsessed' : 'ossessionato',\n",
    "    'commitment' : 'commitment',\n",
    "    'dictionary' : 'dizionario',\n",
    "    'final' : 'finale',\n",
    "}\n",
    "\n",
    "english_word = input('Insert an English word: ')\n",
    "italian_translation = input(f'How do you say {english_word} in italian? ')\n",
    "\n",
    "italian_translations[english_word] = italian_translation\n",
    "\n",
    "print(italian_translations)"
   ]
  },
  {
   "cell_type": "markdown",
   "id": "64bfada3",
   "metadata": {},
   "source": [
    "### Create a dictionary from lists\n",
    "Create a list that contains city names and a list that contains the population number for those cities. Then, use the *zip* function to combine the 2 lists to create a dictionary"
   ]
  },
  {
   "cell_type": "code",
   "execution_count": 101,
   "id": "e0d938eb",
   "metadata": {},
   "outputs": [
    {
     "name": "stdout",
     "output_type": "stream",
     "text": [
      "{'Boston': 654776, 'San Francisco': 13960000, 'Tokyo': 815201}\n"
     ]
    }
   ],
   "source": [
    "# Initialize lists\n",
    "cities = ['Boston', 'San Francisco', 'Tokyo']\n",
    "populations = [654776, 13960000, 815201]\n",
    "\n",
    "# Combine lists to create a dictionary\n",
    "cities_populations = dict(zip(cities, populations))\n",
    "\n",
    "# Print resulting dictionary\n",
    "print(cities_populations)"
   ]
  }
 ],
 "metadata": {
  "kernelspec": {
   "display_name": "Python 3 (ipykernel)",
   "language": "python",
   "name": "python3"
  },
  "language_info": {
   "codemirror_mode": {
    "name": "ipython",
    "version": 3
   },
   "file_extension": ".py",
   "mimetype": "text/x-python",
   "name": "python",
   "nbconvert_exporter": "python",
   "pygments_lexer": "ipython3",
   "version": "3.9.13"
  },
  "toc": {
   "base_numbering": 1,
   "nav_menu": {},
   "number_sections": true,
   "sideBar": true,
   "skip_h1_title": false,
   "title_cell": "Table of Contents",
   "title_sidebar": "Contents",
   "toc_cell": false,
   "toc_position": {},
   "toc_section_display": true,
   "toc_window_display": false
  },
  "varInspector": {
   "cols": {
    "lenName": 16,
    "lenType": 16,
    "lenVar": 40
   },
   "kernels_config": {
    "python": {
     "delete_cmd_postfix": "",
     "delete_cmd_prefix": "del ",
     "library": "var_list.py",
     "varRefreshCmd": "print(var_dic_list())"
    },
    "r": {
     "delete_cmd_postfix": ") ",
     "delete_cmd_prefix": "rm(",
     "library": "var_list.r",
     "varRefreshCmd": "cat(var_dic_list()) "
    }
   },
   "types_to_exclude": [
    "module",
    "function",
    "builtin_function_or_method",
    "instance",
    "_Feature"
   ],
   "window_display": false
  }
 },
 "nbformat": 4,
 "nbformat_minor": 5
}
