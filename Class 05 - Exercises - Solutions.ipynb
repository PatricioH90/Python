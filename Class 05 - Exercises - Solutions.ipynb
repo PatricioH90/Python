{
 "cells": [
  {
   "cell_type": "markdown",
   "id": "794a5a6e",
   "metadata": {},
   "source": [
    "<div style=\"float: right; margin: 0px 15px 15px 0px;\">\n",
    "<img src=\"https://upload.wikimedia.org/wikipedia/commons/b/b6/HULT_IBS_Logo_Outline_Black_%28cropped%29.png\" width=150/>\n",
    "</div>\n",
    "<h1> Python for Data Analysis: Methods & Tools </h1>\n",
    "<em> <strong>Python for everyday people </strong></em>\n",
    "<br><br>\n",
    "Written by Felipe Dominguez - Professor Adjunct <br>\n",
    "Hult International Business School <br>\n",
    "<br>\n",
    "<h1><u> Chapter 05 - User defined functions</u></h1>\n",
    "<em> Exercise workbook - Class 05</em>"
   ]
  },
  {
   "cell_type": "markdown",
   "id": "00952531",
   "metadata": {},
   "source": [
    "<h3>1. Basic User-defined functions</h3><br>\n",
    "<div align = justify>\n",
    "    The most basic form of user_defined function follow the following structure:\n",
    "</div>\n",
    "\n",
    "~~~\n",
    "def function_name():\n",
    "    \"\"\"DocString\"\"\"\n",
    "    function_body\n",
    "~~~\n"
   ]
  },
  {
   "cell_type": "markdown",
   "id": "9c5f6102",
   "metadata": {},
   "source": [
    "<h4>1.1 Let's create a basic function</h4><br>\n",
    "<div align = justify>\n",
    "    Create a function that prints: \n",
    "</div>\n",
    "\n",
    "~~~\n",
    "\"This year the number 7 is the lucky number!\"\n",
    "~~~"
   ]
  },
  {
   "cell_type": "code",
   "execution_count": null,
   "id": "7eae1b10",
   "metadata": {},
   "outputs": [],
   "source": []
  },
  {
   "cell_type": "code",
   "execution_count": null,
   "id": "b4373f89",
   "metadata": {},
   "outputs": [],
   "source": [
    "def lucky_number():\n",
    "    \"\"\"This functions prints the lucky number\"\"\"\n",
    "    \n",
    "    print(\"This year the number 7 is the lucky number!\")"
   ]
  },
  {
   "cell_type": "markdown",
   "id": "a5e38a0c",
   "metadata": {},
   "source": [
    "<h5>a. Calling a function</h5><br>\n",
    "Python won't show any output if the function is not called. To call a function:\n",
    "\n",
    "~~~\n",
    "function_name()\n",
    "~~~"
   ]
  },
  {
   "cell_type": "code",
   "execution_count": 5,
   "id": "ecb6f2c2",
   "metadata": {},
   "outputs": [
    {
     "name": "stdout",
     "output_type": "stream",
     "text": [
      "This year the number 7 is the lucky number!\n"
     ]
    }
   ],
   "source": [
    "lucky_number()"
   ]
  },
  {
   "cell_type": "markdown",
   "id": "63c82a19",
   "metadata": {},
   "source": [
    "<h3>2. Create a user defined function - Step by Step</h3><br>\n",
    "<div align = justify>\n",
    "As you know, the .remove() method of lists, removes the first matching element (which is passed as an argument) from the list. Let's create a function that removes all elements from a list that match the argument passed.\n",
    "</div>\n"
   ]
  },
  {
   "cell_type": "markdown",
   "id": "ef5937e5",
   "metadata": {},
   "source": [
    "<h4>2.1. Define the function and it's arguments</h4><br>\n",
    "<div align = justify>\n",
    "Create a function that received a list and the element to be removed from that list. Additionally, include an optional argument to decide if the element match is case sensitive or not.\n",
    "</div>"
   ]
  },
  {
   "cell_type": "code",
   "execution_count": null,
   "id": "8efc7efe",
   "metadata": {},
   "outputs": [],
   "source": [
    "\n",
    "    "
   ]
  },
  {
   "cell_type": "code",
   "execution_count": null,
   "id": "411b83fb",
   "metadata": {},
   "outputs": [],
   "source": [
    "def remove_element(my_list, element_remove, case_sensitive = \"yes\"):"
   ]
  },
  {
   "cell_type": "markdown",
   "id": "aebfba08",
   "metadata": {},
   "source": [
    "<h4>2.2. Define the function structure</h4><br>\n",
    "<div align = justify>\n",
    "The optional argument (case_sensitive) will trigger different functionalities of this function. Therefore, it make sense to start by building the conditional statement that triggers a code based on the case_sensitive value.\n",
    "</div>"
   ]
  },
  {
   "cell_type": "code",
   "execution_count": null,
   "id": "aa093403",
   "metadata": {},
   "outputs": [],
   "source": []
  },
  {
   "cell_type": "code",
   "execution_count": null,
   "id": "16b82498",
   "metadata": {},
   "outputs": [],
   "source": [
    "def remove_element(my_list, element_remove, case_sensitive = \"yes\"):\n",
    "    \n",
    "    if case_sensitive.lower() = 'yes':\n",
    "        \n",
    "    elif case_sensitive.lower() = 'no':\n",
    "        \n",
    "        "
   ]
  },
  {
   "cell_type": "markdown",
   "id": "6d55741f",
   "metadata": {},
   "source": [
    "<h5>2.2.a Add an exception</h5><br>\n",
    "<div align = justify>\n",
    "If someone inputs a case_sensitive value different than yes and no, it must return an error and indicate the user that the only acceptable values are 'yes' and 'no' for this argument.\n",
    "</div>"
   ]
  },
  {
   "cell_type": "code",
   "execution_count": null,
   "id": "aeb9b07b",
   "metadata": {},
   "outputs": [],
   "source": [
    "def remove_element(my_list, element_remove, case_sensitive = \"yes\"):\n",
    "    \n",
    "    if case_sensitive.lower() = 'yes':\n",
    "        \n",
    "    elif case_sensitive.lower() = 'no':\n",
    "        \n",
    "    else:\n",
    "        print(\"case_sensitive must be 'yes' or 'no'\")"
   ]
  },
  {
   "cell_type": "markdown",
   "id": "50cf6263",
   "metadata": {},
   "source": [
    "<h4>2.3. Loop over the list</h4><br>\n",
    "<div align = justify>\n",
    "In both scenarios (case_sensitive = 'yes' or 'no'), you must loop over the passed list and check if each element of it match with the element to be removed.\n",
    "</div>"
   ]
  },
  {
   "cell_type": "code",
   "execution_count": null,
   "id": "d5a76d29",
   "metadata": {},
   "outputs": [],
   "source": []
  },
  {
   "cell_type": "code",
   "execution_count": null,
   "id": "109ee85a",
   "metadata": {},
   "outputs": [],
   "source": [
    "def remove_element(my_list, element_remove, case_sensitive = \"yes\"):\n",
    "    \n",
    "    if case_sensitive.lower() = 'yes':\n",
    "        for i in range(0, len(my_list) - 1):\n",
    "        \n",
    "    elif case_sensitive.lower() = 'no':\n",
    "        for i in range(0, len(my_list) - 1):\n",
    "            \n",
    "    else:\n",
    "        print(\"case_sensitive must be 'yes' or 'no'\")"
   ]
  },
  {
   "cell_type": "markdown",
   "id": "b3a9dbdb",
   "metadata": {},
   "source": [
    "<h4>2.4. Add conditional statements</h4><br>\n",
    "<div align = justify>\n",
    "Now, you need to check if the element to be removed match the list element or not. Your code will trigger different actions depending on this condition. Additionally, this condition will be slightly different for case_sensitive = 'yes' and case_sensitive = 'no'.\n",
    "</div>"
   ]
  },
  {
   "cell_type": "code",
   "execution_count": null,
   "id": "3f3d4f30",
   "metadata": {},
   "outputs": [],
   "source": []
  },
  {
   "cell_type": "code",
   "execution_count": null,
   "id": "12034be3",
   "metadata": {},
   "outputs": [],
   "source": [
    "def remove_element(my_list, element_remove, case_sensitive = \"yes\"):\n",
    "    \n",
    "    if case_sensitive.lower() = 'yes':\n",
    "        for i in range(0, len(my_list) - 1):\n",
    "            if element_remove != my_list[i]:\n",
    "        \n",
    "    elif case_sensitive.lower() = 'no':\n",
    "        for i in range(0, len(my_list) - 1):\n",
    "            if str(element_remove.lower()) != str(my_list[i]).lower():\n",
    "\n",
    "            else:\n",
    "            \n",
    "    else:\n",
    "        print(\"case_sensitive must be 'yes' or 'no'\")"
   ]
  },
  {
   "cell_type": "markdown",
   "id": "03a4b8a1",
   "metadata": {},
   "source": [
    "<h4>2.5. Create a new list</h4><br>\n",
    "<div align = justify>\n",
    "To complete this function, you can create a new list and append only those values that are not equal to the matching element. Finally, return the new list which contains only the values not equal to the element to be removed.\n",
    "</div>"
   ]
  },
  {
   "cell_type": "code",
   "execution_count": null,
   "id": "f5b30e29",
   "metadata": {},
   "outputs": [],
   "source": []
  },
  {
   "cell_type": "code",
   "execution_count": 50,
   "id": "fa5129d6",
   "metadata": {},
   "outputs": [],
   "source": [
    "def remove_element(my_list, element_remove, case_sensitive = \"yes\"):\n",
    "    \n",
    "    list_1 = []\n",
    "    if case_sensitive.lower() == \"yes\":\n",
    "        for i in range(0, len(my_list) - 1):\n",
    "            if element_remove != my_list[i]:\n",
    "                list_1.append(my_list[i])\n",
    "            \n",
    "    elif case_sensitive.lower() == \"no\":\n",
    "        for i in range(0, len(my_list) - 1):\n",
    "            if str(element_remove).lower() != str(my_list[i]).lower():\n",
    "                list_1.append(my_list[i])\n",
    "    \n",
    "    else:\n",
    "        print(\"case_sensitive must be 'yes' or 'no'\")\n",
    "    \n",
    "    return list_1"
   ]
  },
  {
   "cell_type": "markdown",
   "id": "d747bee7",
   "metadata": {},
   "source": [
    "<h4>2.6. Document your function</h4>"
   ]
  },
  {
   "cell_type": "code",
   "execution_count": null,
   "id": "54100b33",
   "metadata": {},
   "outputs": [],
   "source": []
  },
  {
   "cell_type": "code",
   "execution_count": 50,
   "id": "30feaffb",
   "metadata": {},
   "outputs": [],
   "source": [
    "def remove_element(my_list, element_remove, case_sensitive = \"yes\"):\n",
    "    \"\"\"\n",
    "    remove_element() removes all elements from a list that match the argument passed\n",
    "    \n",
    "    Parameters\n",
    "    ----------\n",
    "    my_list        |mand, list| Original list passed by the user.  \n",
    "    element_remove |mand, any | Element to be removed from original list.\n",
    "    case_sensitive |opt , str | User input. If no, treats upper and lower case as different.\n",
    "    \n",
    "    Example\n",
    "    -------\n",
    "    list = [1, 1, 1, 2, 3, 4, 4]\n",
    "    new_list = remove_element(list, 1)\n",
    "    print(new_list)\n",
    "    >>> [2, 3, 4, 4]\n",
    "    \"\"\"\n",
    "    \n",
    "    # Create an empty list, that will append the new list (with the values removed)\n",
    "    list_1 = []\n",
    "    \n",
    "    # Declare conditional statement based on case_sensitive value\n",
    "    if case_sensitive.lower() == \"yes\":\n",
    "        \n",
    "        # Declare loop statement\n",
    "        for i in range(0, len(my_list) - 1):\n",
    "            \n",
    "            # if list element != to the element to be removed, append it to the new list\n",
    "            if element_remove != my_list[i]:\n",
    "                list_1.append(my_list[i])\n",
    "            \n",
    "    elif case_sensitive.lower() == \"no\":\n",
    "        \n",
    "        # Declare loop statement\n",
    "        for i in range(0, len(my_list) - 1):\n",
    "            \n",
    "            # if list element != to the element to be removed, append it to the new list\n",
    "            if str(element_remove).lower() != str(my_list[i]).lower():\n",
    "                list_1.append(my_list[i])\n",
    "    \n",
    "    # Control any input != to yes or no\n",
    "    else:\n",
    "        print(\"case_sensitive must be 'yes' or 'no'\")\n",
    "    \n",
    "    \n",
    "    # return the new list\n",
    "    return list_1"
   ]
  },
  {
   "cell_type": "code",
   "execution_count": 51,
   "id": "9c8d387c",
   "metadata": {},
   "outputs": [
    {
     "name": "stdout",
     "output_type": "stream",
     "text": [
      "Help on function remove_element in module __main__:\n",
      "\n",
      "remove_element(my_list, element_remove, case_sensitive='yes')\n",
      "    remove_element() removes all elements from a list that match the argument passed\n",
      "    \n",
      "    Parameters\n",
      "    ----------\n",
      "    my_list        |mand, list| Original list passed by the user.  \n",
      "    element_remove |mand, any | Element to be removed from original list.\n",
      "    case_sensitive |opt , str | User input. If no, treats upper and lower case as different.\n",
      "    \n",
      "    Example\n",
      "    -------\n",
      "    list = [1, 1, 1, 2, 3, 4, 4]\n",
      "    new_list = remove_element(list, 1)\n",
      "    print(new_list)\n",
      "    >>> [2, 3, 4, 4]\n",
      "\n"
     ]
    }
   ],
   "source": [
    "# Calling help on remove_element.\n",
    "help(remove_element)"
   ]
  },
  {
   "cell_type": "markdown",
   "id": "547f5e70",
   "metadata": {},
   "source": [
    "<h4>2.7 Let's try remove_element</h4>"
   ]
  },
  {
   "cell_type": "code",
   "execution_count": 52,
   "id": "0efe0223",
   "metadata": {},
   "outputs": [
    {
     "name": "stdout",
     "output_type": "stream",
     "text": [
      "\n",
      "my_list: [1, 3, 4, 2, 1, 6, 74, 3, 2, 7, 'Hello', 'This', 'This', 'is a ', 'list', 'This']\n",
      "my_list2: [1, 3, 4, 2, 1, 6, 74, 3, 2, 7, 'Hello', 'is a ', 'list']\n",
      "\n"
     ]
    }
   ],
   "source": [
    "my_list = [1,3,4,2,1,6,74,3,2,7, \"Hello\", \"This\", \"This\", \"is a \", \"list\", \"This\"]\n",
    "\n",
    "my_list2 = remove_element(my_list, \"this\", case_sensitive='no')\n",
    "\n",
    "print(f\"\"\"\n",
    "my_list: {my_list}\n",
    "my_list2: {my_list2}\n",
    "\"\"\")"
   ]
  },
  {
   "cell_type": "markdown",
   "id": "594f97d8",
   "metadata": {},
   "source": [
    "<h3>3. Create a function from scratch</h3>"
   ]
  },
  {
   "cell_type": "markdown",
   "id": "71b7b0c9",
   "metadata": {},
   "source": [
    "<h4>3.1. Rolling the dice(s)</h4><br>\n",
    "<div align = justify>\n",
    "Create a function to roll one or more dices. The function at least requires the number of sides of the dice and how many dices to roll. It must return a list with the results of each round.\n",
    "</div>"
   ]
  },
  {
   "cell_type": "code",
   "execution_count": 56,
   "id": "82f2800e",
   "metadata": {},
   "outputs": [
    {
     "ename": "TypeError",
     "evalue": "roll_dice() missing 1 required positional argument: 'rounds'",
     "output_type": "error",
     "traceback": [
      "\u001b[0;31m---------------------------------------------------------------------------\u001b[0m",
      "\u001b[0;31mTypeError\u001b[0m                                 Traceback (most recent call last)",
      "Input \u001b[0;32mIn [56]\u001b[0m, in \u001b[0;36m<cell line: 1>\u001b[0;34m()\u001b[0m\n\u001b[0;32m----> 1\u001b[0m \u001b[43mroll_dice\u001b[49m\u001b[43m(\u001b[49m\u001b[38;5;241;43m6\u001b[39;49m\u001b[43m,\u001b[49m\u001b[43m \u001b[49m\u001b[38;5;241;43m2\u001b[39;49m\u001b[43m)\u001b[49m\n",
      "\u001b[0;31mTypeError\u001b[0m: roll_dice() missing 1 required positional argument: 'rounds'"
     ]
    }
   ],
   "source": [
    "roll_dice(6, 2)"
   ]
  },
  {
   "cell_type": "code",
   "execution_count": 57,
   "id": "f601a561",
   "metadata": {},
   "outputs": [
    {
     "data": {
      "text/plain": [
       "[(3, 6),\n",
       " (3, 6),\n",
       " (2, 1),\n",
       " (4, 6),\n",
       " (3, 3),\n",
       " (3, 6),\n",
       " (4, 4),\n",
       " (1, 1),\n",
       " (3, 5),\n",
       " (3, 4)]"
      ]
     },
     "execution_count": 57,
     "metadata": {},
     "output_type": "execute_result"
    }
   ],
   "source": [
    "def roll_dice(n_sides, n_dices, rounds = 1):\n",
    "    \"\"\"\n",
    "    Returns the result of rolling a certain number of dices with certain number of sides\n",
    "    and a certain number of rounds.\n",
    "    \n",
    "    Parameters\n",
    "    ----------\n",
    "    n_sides   |mand, int | Original list passed by the user.  \n",
    "    n_dices   |mand, int | Element to be removed from original list.\n",
    "    rounds    |opt , int | User input. If no, treats upper and lower case as same.\n",
    "    \n",
    "    Example\n",
    "    -------\n",
    "    list = [1, 1, 1, 2, 3, 4, 4]\n",
    "    new_list = remove_element(list, 1)\n",
    "    print(new_list)\n",
    "    >>> [2,\n",
    "    \"\"\"\n",
    "    \n",
    "    if (isinstance(n_sides, int)) and (isinstance(n_dices, int)) and (isinstance(rounds, int)):\n",
    "    \n",
    "        # Create a new empty list\n",
    "        results_list = []\n",
    "\n",
    "        # Check if the argument are positive and greater than 1\n",
    "        if rounds >= 1 or n_sides >=1 or n_dices >= 1:\n",
    "\n",
    "            # Declare loop statement based on the number of rounds passed\n",
    "            for i in range(0, rounds):\n",
    "\n",
    "                # Declare a list that store the random results\n",
    "                random_list = []\n",
    "\n",
    "                # Declare a loop based on the number of dices\n",
    "                for j in range(0, n_dices):\n",
    "\n",
    "                    # Select a random number between 1 and the n_sides\n",
    "                    random_number = random.randint(1, n_sides)\n",
    "\n",
    "                    # append the random number to the empty list\n",
    "                    random_list.append(random_number)\n",
    "\n",
    "                # transform the random list into a tuple, and store the tuple in the result list\n",
    "                results_tuple = tuple(random_list)\n",
    "                results_list.append(results_tuple)\n",
    "            \n",
    "            return results_list\n",
    "        \n",
    "        # Control user input \n",
    "        else:\n",
    "            print(\"Provide a positive whole number for the number of sides, dices, and rounds\")\n",
    "    \n",
    "    else:\n",
    "        print(\"Provide a positive whole number for the number of sides, dices, and rounds\")\n"
   ]
  },
  {
   "cell_type": "code",
   "execution_count": 49,
   "id": "71528843",
   "metadata": {},
   "outputs": [
    {
     "ename": "IndexError",
     "evalue": "list index out of range",
     "output_type": "error",
     "traceback": [
      "\u001b[0;31m---------------------------------------------------------------------------\u001b[0m",
      "\u001b[0;31mIndexError\u001b[0m                                Traceback (most recent call last)",
      "Input \u001b[0;32mIn [49]\u001b[0m, in \u001b[0;36m<cell line: 2>\u001b[0;34m()\u001b[0m\n\u001b[1;32m      1\u001b[0m my_list \u001b[38;5;241m=\u001b[39m [\u001b[38;5;241m1\u001b[39m, \u001b[38;5;241m2\u001b[39m, \u001b[38;5;241m3\u001b[39m, \u001b[38;5;241m4\u001b[39m, \u001b[38;5;241m5\u001b[39m]\n\u001b[1;32m      2\u001b[0m \u001b[38;5;28;01mfor\u001b[39;00m i \u001b[38;5;129;01min\u001b[39;00m \u001b[38;5;28mrange\u001b[39m(\u001b[38;5;241m0\u001b[39m, \u001b[38;5;28mlen\u001b[39m(my_list)):\n\u001b[0;32m----> 3\u001b[0m     \u001b[38;5;28;01mif\u001b[39;00m \u001b[43mmy_list\u001b[49m\u001b[43m[\u001b[49m\u001b[43mi\u001b[49m\u001b[43m]\u001b[49m \u001b[38;5;241m==\u001b[39m \u001b[38;5;241m2\u001b[39m:\n\u001b[1;32m      4\u001b[0m         my_list\u001b[38;5;241m.\u001b[39mremove(\u001b[38;5;241m2\u001b[39m)\n\u001b[1;32m      5\u001b[0m my_list\n",
      "\u001b[0;31mIndexError\u001b[0m: list index out of range"
     ]
    }
   ],
   "source": [
    "my_list = [1, 2, 3, 4, 5]\n",
    "for i in range(0, len(my_list)):\n",
    "    if my_list[i] == 2:\n",
    "        my_list.remove(2)\n",
    "my_list"
   ]
  },
  {
   "cell_type": "code",
   "execution_count": 38,
   "id": "ca6fa9de",
   "metadata": {},
   "outputs": [
    {
     "data": {
      "text/plain": [
       "[(6, 4, 5, 1, 1),\n",
       " (4, 2, 5, 5, 4),\n",
       " (5, 4, 3, 1, 5),\n",
       " (6, 4, 4, 4, 3),\n",
       " (6, 2, 3, 2, 1),\n",
       " (2, 2, 2, 1, 5),\n",
       " (5, 1, 5, 5, 5),\n",
       " (2, 6, 4, 3, 5),\n",
       " (2, 4, 6, 3, 3),\n",
       " (2, 2, 6, 4, 6),\n",
       " (3, 1, 2, 5, 4),\n",
       " (2, 5, 1, 5, 4),\n",
       " (6, 2, 4, 5, 5),\n",
       " (5, 1, 2, 1, 4),\n",
       " (3, 1, 3, 3, 2),\n",
       " (4, 1, 5, 5, 4),\n",
       " (5, 5, 5, 1, 5),\n",
       " (5, 5, 3, 2, 5),\n",
       " (2, 6, 3, 5, 4),\n",
       " (6, 3, 2, 4, 4),\n",
       " (2, 4, 3, 4, 2),\n",
       " (3, 1, 3, 1, 6),\n",
       " (2, 2, 4, 3, 1),\n",
       " (6, 3, 2, 3, 3),\n",
       " (3, 3, 1, 3, 2),\n",
       " (6, 2, 2, 2, 1),\n",
       " (2, 4, 1, 6, 1),\n",
       " (4, 1, 3, 1, 3),\n",
       " (3, 4, 6, 6, 2),\n",
       " (4, 4, 6, 6, 3),\n",
       " (4, 2, 1, 1, 6),\n",
       " (4, 4, 6, 1, 3),\n",
       " (2, 4, 4, 4, 1),\n",
       " (1, 6, 1, 1, 3),\n",
       " (3, 6, 2, 5, 6),\n",
       " (2, 4, 1, 6, 6),\n",
       " (1, 5, 4, 1, 2),\n",
       " (2, 6, 1, 1, 2),\n",
       " (2, 4, 5, 3, 2),\n",
       " (2, 4, 6, 4, 4),\n",
       " (4, 1, 3, 4, 4),\n",
       " (2, 6, 2, 6, 3),\n",
       " (3, 6, 3, 4, 4),\n",
       " (2, 5, 4, 2, 6),\n",
       " (2, 6, 3, 6, 6),\n",
       " (2, 6, 2, 5, 1),\n",
       " (1, 5, 2, 3, 6),\n",
       " (1, 6, 6, 5, 3),\n",
       " (6, 3, 3, 3, 1),\n",
       " (5, 6, 6, 1, 2),\n",
       " (3, 5, 4, 2, 2),\n",
       " (3, 1, 5, 2, 5),\n",
       " (2, 6, 5, 4, 4),\n",
       " (4, 4, 4, 1, 6),\n",
       " (4, 5, 6, 1, 6),\n",
       " (4, 3, 1, 6, 1),\n",
       " (1, 5, 6, 6, 2),\n",
       " (4, 2, 2, 3, 3),\n",
       " (6, 2, 6, 4, 3),\n",
       " (4, 1, 3, 5, 3),\n",
       " (2, 2, 5, 5, 4),\n",
       " (3, 4, 5, 1, 2),\n",
       " (5, 3, 5, 3, 2),\n",
       " (1, 3, 3, 3, 3),\n",
       " (6, 1, 3, 6, 1),\n",
       " (5, 4, 1, 2, 2),\n",
       " (1, 6, 2, 3, 3),\n",
       " (4, 3, 6, 3, 3),\n",
       " (2, 6, 1, 4, 1),\n",
       " (5, 5, 1, 5, 6),\n",
       " (1, 6, 4, 3, 5),\n",
       " (4, 5, 5, 3, 5),\n",
       " (1, 5, 3, 1, 6),\n",
       " (5, 1, 3, 1, 1),\n",
       " (2, 5, 4, 5, 5),\n",
       " (4, 3, 1, 2, 6),\n",
       " (2, 1, 5, 6, 2),\n",
       " (1, 3, 5, 6, 4),\n",
       " (2, 5, 5, 5, 2),\n",
       " (6, 5, 3, 6, 3),\n",
       " (4, 2, 5, 5, 2),\n",
       " (3, 2, 3, 5, 4),\n",
       " (4, 3, 1, 1, 5),\n",
       " (6, 5, 6, 2, 6),\n",
       " (6, 6, 1, 6, 1),\n",
       " (4, 6, 3, 1, 5),\n",
       " (2, 2, 3, 5, 4),\n",
       " (3, 1, 3, 3, 1),\n",
       " (2, 4, 4, 4, 3),\n",
       " (6, 3, 3, 3, 5),\n",
       " (5, 6, 5, 3, 6),\n",
       " (6, 4, 5, 4, 3),\n",
       " (3, 1, 5, 6, 4),\n",
       " (4, 2, 4, 3, 4),\n",
       " (1, 5, 3, 3, 5),\n",
       " (2, 5, 3, 6, 5),\n",
       " (2, 2, 1, 1, 1),\n",
       " (6, 2, 3, 6, 4),\n",
       " (4, 6, 1, 1, 3),\n",
       " (2, 2, 5, 5, 3)]"
      ]
     },
     "execution_count": 38,
     "metadata": {},
     "output_type": "execute_result"
    }
   ],
   "source": [
    "import random\n",
    "\n",
    "dice_ = roll_dice(6, 5, 100)\n",
    "dice_"
   ]
  },
  {
   "cell_type": "code",
   "execution_count": 36,
   "id": "d8c3a105",
   "metadata": {},
   "outputs": [
    {
     "name": "stdout",
     "output_type": "stream",
     "text": [
      "0.16889\n"
     ]
    }
   ],
   "source": [
    "print(dice_.count((1,)) / len(dice_))"
   ]
  },
  {
   "cell_type": "code",
   "execution_count": 97,
   "id": "c2a6574e",
   "metadata": {},
   "outputs": [
    {
     "data": {
      "text/plain": [
       "(int, False)"
      ]
     },
     "execution_count": 97,
     "metadata": {},
     "output_type": "execute_result"
    }
   ],
   "source": [
    "type(1)\n",
    "\n",
    "int == type(1)"
   ]
  }
 ],
 "metadata": {
  "kernelspec": {
   "display_name": "Python 3 (ipykernel)",
   "language": "python",
   "name": "python3"
  },
  "language_info": {
   "codemirror_mode": {
    "name": "ipython",
    "version": 3
   },
   "file_extension": ".py",
   "mimetype": "text/x-python",
   "name": "python",
   "nbconvert_exporter": "python",
   "pygments_lexer": "ipython3",
   "version": "3.9.12"
  },
  "toc": {
   "base_numbering": 1,
   "nav_menu": {},
   "number_sections": false,
   "sideBar": true,
   "skip_h1_title": false,
   "title_cell": "Table of Contents",
   "title_sidebar": "Contents",
   "toc_cell": false,
   "toc_position": {},
   "toc_section_display": true,
   "toc_window_display": false
  },
  "varInspector": {
   "cols": {
    "lenName": 16,
    "lenType": 16,
    "lenVar": 40
   },
   "kernels_config": {
    "python": {
     "delete_cmd_postfix": "",
     "delete_cmd_prefix": "del ",
     "library": "var_list.py",
     "varRefreshCmd": "print(var_dic_list())"
    },
    "r": {
     "delete_cmd_postfix": ") ",
     "delete_cmd_prefix": "rm(",
     "library": "var_list.r",
     "varRefreshCmd": "cat(var_dic_list()) "
    }
   },
   "types_to_exclude": [
    "module",
    "function",
    "builtin_function_or_method",
    "instance",
    "_Feature"
   ],
   "window_display": false
  }
 },
 "nbformat": 4,
 "nbformat_minor": 5
}
