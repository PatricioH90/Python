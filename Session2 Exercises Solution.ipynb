{
 "cells": [
  {
   "cell_type": "markdown",
   "id": "09b5ef22-17c1-4cf2-adea-5f47c6ccb15c",
   "metadata": {},
   "source": [
    "# Session2 Exercises"
   ]
  },
  {
   "cell_type": "code",
   "execution_count": 2,
   "id": "860417b2-9185-4ddc-b835-e6cb3baf44fe",
   "metadata": {},
   "outputs": [],
   "source": [
    "import pandas as pd"
   ]
  },
  {
   "cell_type": "markdown",
   "id": "8ff0f664-7ba9-49bb-9908-fd45e134668b",
   "metadata": {},
   "source": [
    "## 1.0\n",
    "\n",
    "Load the coaster_db.csv dataset"
   ]
  },
  {
   "cell_type": "code",
   "execution_count": 122,
   "id": "ea9bcc6d-5355-4b83-995e-dd16dcf89ce9",
   "metadata": {},
   "outputs": [],
   "source": [
    "coaster = pd.read_csv('coaster_db.csv')"
   ]
  },
  {
   "cell_type": "markdown",
   "id": "4412eaac-a154-41b4-9a55-3e535c36b13f",
   "metadata": {},
   "source": [
    "## 1.1\n",
    "Store the coaster dataset in a new database"
   ]
  },
  {
   "cell_type": "code",
   "execution_count": 18,
   "id": "d2b6f680-0c95-4902-9d24-78f9945ca455",
   "metadata": {},
   "outputs": [],
   "source": [
    "import sqlite3\n",
    "\n",
    "# drop duplicate column names\n",
    "coaster = coaster.loc[:,~coaster.columns.str.lower().duplicated()]\n",
    "\n",
    "with sqlite3.connect('coaster.db') as connection:\n",
    "    coaster.to_sql(\n",
    "        name = 't',\n",
    "        con = connection,\n",
    "        index = False,\n",
    "        if_exists = 'replace')"
   ]
  },
  {
   "cell_type": "markdown",
   "id": "d0908fb1-42e7-48b8-9139-37befbf641cc",
   "metadata": {},
   "source": [
    "## 2\n",
    "\n",
    "Clean the dataset"
   ]
  },
  {
   "cell_type": "code",
   "execution_count": 57,
   "id": "f635ff86-047d-4755-801e-bd173ca07f9f",
   "metadata": {},
   "outputs": [
    {
     "data": {
      "text/plain": [
       "Index(['coaster_name', 'Length', 'Speed', 'Location', 'Status', 'Opening date',\n",
       "       'Type', 'Manufacturer', 'Height restriction', 'Model', 'Height',\n",
       "       'Inversions', 'Lift/launch system', 'Cost', 'Trains', 'Park section',\n",
       "       'Duration', 'Capacity', 'G-force', 'Designer', 'Max vertical angle',\n",
       "       'Drop', 'Soft opening date', 'Fast Lane available', 'Replaced',\n",
       "       'Track layout', 'Fastrack available', 'Soft opening date.1',\n",
       "       'Closing date', 'Opened', 'Replaced by', 'Website',\n",
       "       'Flash Pass Available', 'Must transfer from wheelchair', 'Theme',\n",
       "       'Single rider line available', 'Restraint Style',\n",
       "       'Flash Pass available', 'Acceleration', 'Restraints', 'Name',\n",
       "       'year_introduced', 'latitude', 'longitude', 'Type_Main',\n",
       "       'opening_date_clean', 'speed1', 'speed2', 'speed1_value', 'speed1_unit',\n",
       "       'speed_mph', 'height_value', 'height_unit', 'height_ft',\n",
       "       'Inversions_clean', 'Gforce_clean'],\n",
       "      dtype='object')"
      ]
     },
     "execution_count": 57,
     "metadata": {},
     "output_type": "execute_result"
    }
   ],
   "source": [
    "coaster.columns"
   ]
  },
  {
   "cell_type": "code",
   "execution_count": 123,
   "id": "2efeacb0-c776-42f8-8b40-789937416cdc",
   "metadata": {},
   "outputs": [],
   "source": [
    "coaster = coaster[['coaster_name',\n",
    "                  'Length',\n",
    "                  #'Speed',\n",
    "                  'Location',\n",
    "                  'Status',\n",
    "                  #'Opening date',\n",
    "                  #'Type',\n",
    "                  'Manufacturer',\n",
    "                  #'Height restriction',\n",
    "                  #'Model',\n",
    "                  'Height',\n",
    "       #'Inversions', 'Lift/launch system', 'Cost', 'Trains', 'Park section',\n",
    "                  #'Duration', 'Capacity', 'G-force',\n",
    "                  'Designer', #'Max vertical angle',\n",
    "       #'Drop', 'Soft opening date', 'Fast Lane available', 'Replaced',\n",
    "                  'Track layout', #'Fastrack available', 'Soft opening date.1',\n",
    "       #'Closing date', 'Opened', 'Replaced by', 'Website',\n",
    "       #'Flash Pass Available', 'Must transfer from wheelchair', 'Theme',\n",
    "       #'Single rider line available', 'Restraint Style', 'Acceleration',\n",
    "       #'Restraints', 'Name', 'year_introduced',\n",
    "                  'latitude',\n",
    "                  'longitude',\n",
    "       #'Type_Main', \n",
    "                   'opening_date_clean', #'speed1', 'speed2', 'speed1_value',\n",
    "                  \n",
    "                  #'speed1_unit',\n",
    "                   'speed_mph', 'height_value', 'height_unit',# 'height_ft',\n",
    "       #'Inversions_clean', 'Gforce_clean'\n",
    "                 ]]"
   ]
  },
  {
   "cell_type": "code",
   "execution_count": 59,
   "id": "0ba6483e-81b4-485d-b43b-236f2d809353",
   "metadata": {},
   "outputs": [
    {
     "data": {
      "text/html": [
       "<div>\n",
       "<style scoped>\n",
       "    .dataframe tbody tr th:only-of-type {\n",
       "        vertical-align: middle;\n",
       "    }\n",
       "\n",
       "    .dataframe tbody tr th {\n",
       "        vertical-align: top;\n",
       "    }\n",
       "\n",
       "    .dataframe thead th {\n",
       "        text-align: right;\n",
       "    }\n",
       "</style>\n",
       "<table border=\"1\" class=\"dataframe\">\n",
       "  <thead>\n",
       "    <tr style=\"text-align: right;\">\n",
       "      <th></th>\n",
       "      <th>coaster_name</th>\n",
       "      <th>Length</th>\n",
       "      <th>Location</th>\n",
       "      <th>Status</th>\n",
       "      <th>Manufacturer</th>\n",
       "      <th>Height</th>\n",
       "      <th>Designer</th>\n",
       "      <th>Track layout</th>\n",
       "      <th>latitude</th>\n",
       "      <th>longitude</th>\n",
       "      <th>opening_date_clean</th>\n",
       "      <th>speed_mph</th>\n",
       "      <th>height_value</th>\n",
       "      <th>height_unit</th>\n",
       "    </tr>\n",
       "  </thead>\n",
       "  <tbody>\n",
       "    <tr>\n",
       "      <th>0</th>\n",
       "      <td>Switchback Railway</td>\n",
       "      <td>600 ft (180 m)</td>\n",
       "      <td>Coney Island</td>\n",
       "      <td>Removed</td>\n",
       "      <td>LaMarcus Adna Thompson</td>\n",
       "      <td>50 ft (15 m)</td>\n",
       "      <td>LaMarcus Adna Thompson</td>\n",
       "      <td>Gravity pulled coaster</td>\n",
       "      <td>40.5740</td>\n",
       "      <td>-73.9780</td>\n",
       "      <td>1884-06-16</td>\n",
       "      <td>6.0</td>\n",
       "      <td>50.0</td>\n",
       "      <td>ft</td>\n",
       "    </tr>\n",
       "    <tr>\n",
       "      <th>1</th>\n",
       "      <td>Flip Flap Railway</td>\n",
       "      <td>NaN</td>\n",
       "      <td>Sea Lion Park</td>\n",
       "      <td>Removed</td>\n",
       "      <td>Lina Beecher</td>\n",
       "      <td>NaN</td>\n",
       "      <td>Lina Beecher</td>\n",
       "      <td>NaN</td>\n",
       "      <td>40.5780</td>\n",
       "      <td>-73.9790</td>\n",
       "      <td>1895-01-01</td>\n",
       "      <td>NaN</td>\n",
       "      <td>NaN</td>\n",
       "      <td>NaN</td>\n",
       "    </tr>\n",
       "    <tr>\n",
       "      <th>2</th>\n",
       "      <td>Switchback Railway (Euclid Beach Park)</td>\n",
       "      <td>NaN</td>\n",
       "      <td>Cleveland, Ohio, United States</td>\n",
       "      <td>Closed</td>\n",
       "      <td>NaN</td>\n",
       "      <td>NaN</td>\n",
       "      <td>NaN</td>\n",
       "      <td>NaN</td>\n",
       "      <td>41.5800</td>\n",
       "      <td>-81.5700</td>\n",
       "      <td>NaN</td>\n",
       "      <td>NaN</td>\n",
       "      <td>NaN</td>\n",
       "      <td>NaN</td>\n",
       "    </tr>\n",
       "    <tr>\n",
       "      <th>3</th>\n",
       "      <td>Loop the Loop (Coney Island)</td>\n",
       "      <td>NaN</td>\n",
       "      <td>Other</td>\n",
       "      <td>Removed</td>\n",
       "      <td>Edwin Prescott</td>\n",
       "      <td>NaN</td>\n",
       "      <td>Edward A. Green</td>\n",
       "      <td>NaN</td>\n",
       "      <td>40.5745</td>\n",
       "      <td>-73.9780</td>\n",
       "      <td>1901-01-01</td>\n",
       "      <td>NaN</td>\n",
       "      <td>NaN</td>\n",
       "      <td>NaN</td>\n",
       "    </tr>\n",
       "    <tr>\n",
       "      <th>4</th>\n",
       "      <td>Loop the Loop (Young's Pier)</td>\n",
       "      <td>NaN</td>\n",
       "      <td>Other</td>\n",
       "      <td>Removed</td>\n",
       "      <td>Edwin Prescott</td>\n",
       "      <td>NaN</td>\n",
       "      <td>Edward A. Green</td>\n",
       "      <td>NaN</td>\n",
       "      <td>39.3538</td>\n",
       "      <td>-74.4342</td>\n",
       "      <td>1901-01-01</td>\n",
       "      <td>NaN</td>\n",
       "      <td>NaN</td>\n",
       "      <td>NaN</td>\n",
       "    </tr>\n",
       "  </tbody>\n",
       "</table>\n",
       "</div>"
      ],
      "text/plain": [
       "                             coaster_name          Length  \\\n",
       "0                      Switchback Railway  600 ft (180 m)   \n",
       "1                       Flip Flap Railway             NaN   \n",
       "2  Switchback Railway (Euclid Beach Park)             NaN   \n",
       "3            Loop the Loop (Coney Island)             NaN   \n",
       "4            Loop the Loop (Young's Pier)             NaN   \n",
       "\n",
       "                         Location   Status            Manufacturer  \\\n",
       "0                    Coney Island  Removed  LaMarcus Adna Thompson   \n",
       "1                   Sea Lion Park  Removed            Lina Beecher   \n",
       "2  Cleveland, Ohio, United States   Closed                     NaN   \n",
       "3                           Other  Removed          Edwin Prescott   \n",
       "4                           Other  Removed          Edwin Prescott   \n",
       "\n",
       "         Height                Designer            Track layout  latitude  \\\n",
       "0  50 ft (15 m)  LaMarcus Adna Thompson  Gravity pulled coaster   40.5740   \n",
       "1           NaN            Lina Beecher                     NaN   40.5780   \n",
       "2           NaN                     NaN                     NaN   41.5800   \n",
       "3           NaN         Edward A. Green                     NaN   40.5745   \n",
       "4           NaN         Edward A. Green                     NaN   39.3538   \n",
       "\n",
       "   longitude opening_date_clean  speed_mph  height_value height_unit  \n",
       "0   -73.9780         1884-06-16        6.0          50.0          ft  \n",
       "1   -73.9790         1895-01-01        NaN           NaN         NaN  \n",
       "2   -81.5700                NaN        NaN           NaN         NaN  \n",
       "3   -73.9780         1901-01-01        NaN           NaN         NaN  \n",
       "4   -74.4342         1901-01-01        NaN           NaN         NaN  "
      ]
     },
     "execution_count": 59,
     "metadata": {},
     "output_type": "execute_result"
    }
   ],
   "source": [
    "coaster.head()"
   ]
  },
  {
   "cell_type": "code",
   "execution_count": 60,
   "id": "cd0b7e7d-e20a-4f24-8886-d3c3054b40ef",
   "metadata": {},
   "outputs": [
    {
     "name": "stdout",
     "output_type": "stream",
     "text": [
      "<class 'pandas.core.frame.DataFrame'>\n",
      "RangeIndex: 1087 entries, 0 to 1086\n",
      "Data columns (total 14 columns):\n",
      " #   Column              Non-Null Count  Dtype  \n",
      "---  ------              --------------  -----  \n",
      " 0   coaster_name        1087 non-null   object \n",
      " 1   Length              953 non-null    object \n",
      " 2   Location            1087 non-null   object \n",
      " 3   Status              874 non-null    object \n",
      " 4   Manufacturer        1028 non-null   object \n",
      " 5   Height              965 non-null    object \n",
      " 6   Designer            578 non-null    object \n",
      " 7   Track layout        335 non-null    object \n",
      " 8   latitude            812 non-null    float64\n",
      " 9   longitude           812 non-null    float64\n",
      " 10  opening_date_clean  837 non-null    object \n",
      " 11  speed_mph           937 non-null    float64\n",
      " 12  height_value        965 non-null    float64\n",
      " 13  height_unit         965 non-null    object \n",
      "dtypes: float64(4), object(10)\n",
      "memory usage: 119.0+ KB\n"
     ]
    }
   ],
   "source": [
    "coaster.info()"
   ]
  },
  {
   "cell_type": "code",
   "execution_count": 124,
   "id": "473a3f04-e1c6-4cd3-9172-27c8d32e91cb",
   "metadata": {},
   "outputs": [],
   "source": [
    "#convert all heights to feet\n",
    "coaster.loc[coaster['height_unit'] == 'm', 'height_value'] *= 3.28084\n",
    "coaster.drop(columns='height_unit', inplace = True)"
   ]
  },
  {
   "cell_type": "code",
   "execution_count": 125,
   "id": "5df19ad3-3235-4e52-8a59-7e34ff6e7f01",
   "metadata": {},
   "outputs": [],
   "source": [
    "#convert opening date\n",
    "coaster['date'] = pd.to_datetime(coaster['opening_date_clean'], format='%Y-%m-%d')\n",
    "coaster.drop(columns='opening_date_clean', inplace = True)"
   ]
  },
  {
   "cell_type": "code",
   "execution_count": 131,
   "id": "6f54ebcb-11c3-489b-80fc-c236d8e2a6ad",
   "metadata": {},
   "outputs": [],
   "source": [
    "# Cleaning the length\n",
    "coaster['Len_ft'] = coaster['Length'].str.extract(r\"(\\d*,?\\d+)\\sft\")\n",
    "coaster['Len_ft'] = pd.to_numeric(coaster['Len_ft'], errors='coerce')\n",
    "coaster.drop(columns='Length', inplace = True)"
   ]
  },
  {
   "cell_type": "markdown",
   "id": "f7c2f0fd-4f10-4e23-9498-66ba549432dc",
   "metadata": {},
   "source": [
    "## 2.1\n",
    "\n",
    "Add a column giving the average speed per height"
   ]
  },
  {
   "cell_type": "code",
   "execution_count": 63,
   "id": "b4501d9e-97e4-4dd5-b8e8-49c59fac0687",
   "metadata": {},
   "outputs": [],
   "source": [
    "coaster['avg_s_h'] = coaster['speed_mph'] / coaster['height_value']"
   ]
  },
  {
   "cell_type": "markdown",
   "id": "55561090-f805-4c8a-913c-a94737d6e13d",
   "metadata": {},
   "source": [
    "## 2.2\n",
    "Find the number of empty values"
   ]
  },
  {
   "cell_type": "code",
   "execution_count": 64,
   "id": "5dc3eece-93f1-41fe-a9fb-3590aa262408",
   "metadata": {},
   "outputs": [
    {
     "data": {
      "text/plain": [
       "3044"
      ]
     },
     "execution_count": 64,
     "metadata": {},
     "output_type": "execute_result"
    }
   ],
   "source": [
    "coaster.isna().sum().sum()"
   ]
  },
  {
   "cell_type": "markdown",
   "id": "fe68b20a-2c3f-422d-9321-c5e69554b135",
   "metadata": {},
   "source": [
    "## 2.3\n",
    "Find the duplicated coasters and remove them"
   ]
  },
  {
   "cell_type": "code",
   "execution_count": 71,
   "id": "9574a438-654e-47d2-b011-8a2fbcf81091",
   "metadata": {},
   "outputs": [],
   "source": [
    "coaster.drop_duplicates(subset='coaster_name', inplace=True)"
   ]
  },
  {
   "cell_type": "code",
   "execution_count": 73,
   "id": "dfd8cb91-0a90-4f94-928d-7fed2322084b",
   "metadata": {},
   "outputs": [
    {
     "name": "stdout",
     "output_type": "stream",
     "text": [
      "<class 'pandas.core.frame.DataFrame'>\n",
      "Int64Index: 990 entries, 0 to 1086\n",
      "Data columns (total 14 columns):\n",
      " #   Column        Non-Null Count  Dtype         \n",
      "---  ------        --------------  -----         \n",
      " 0   coaster_name  990 non-null    object        \n",
      " 1   Length        867 non-null    object        \n",
      " 2   Location      990 non-null    object        \n",
      " 3   Status        844 non-null    object        \n",
      " 4   Manufacturer  932 non-null    object        \n",
      " 5   Height        880 non-null    object        \n",
      " 6   Designer      513 non-null    object        \n",
      " 7   Track layout  308 non-null    object        \n",
      " 8   latitude      783 non-null    float64       \n",
      " 9   longitude     783 non-null    float64       \n",
      " 10  speed_mph     850 non-null    float64       \n",
      " 11  height_value  880 non-null    float64       \n",
      " 12  avg_s_h       823 non-null    float64       \n",
      " 13  date          807 non-null    datetime64[ns]\n",
      "dtypes: datetime64[ns](1), float64(5), object(8)\n",
      "memory usage: 116.0+ KB\n"
     ]
    }
   ],
   "source": [
    "coaster.info()"
   ]
  },
  {
   "cell_type": "markdown",
   "id": "f9e0312f-5dd0-4dff-8d47-7ec1b933c888",
   "metadata": {},
   "source": [
    "## 3\n",
    "Ask questions"
   ]
  },
  {
   "cell_type": "markdown",
   "id": "277bdb7b-6c7f-4e05-98e2-aa460b3c0d5f",
   "metadata": {},
   "source": [
    "## 3.1\n",
    "What is the average coaster length per decade?"
   ]
  },
  {
   "cell_type": "code",
   "execution_count": 134,
   "id": "0dd8fd68-deb6-46ab-a013-87f11a5cd967",
   "metadata": {},
   "outputs": [
    {
     "data": {
      "text/plain": [
       "date\n",
       "1884-12-31    600.00\n",
       "1894-12-31       NaN\n",
       "1904-12-31       NaN\n",
       "1914-12-31       NaN\n",
       "1924-12-31       NaN\n",
       "1934-12-31      6.50\n",
       "1944-12-31    900.00\n",
       "1954-12-31       NaN\n",
       "1964-12-31    200.00\n",
       "1974-12-31    315.75\n",
       "1984-12-31    346.88\n",
       "1994-12-31    324.50\n",
       "2004-12-31    265.05\n",
       "2014-12-31    220.15\n",
       "2024-12-31    144.51\n",
       "Name: Len_ft, dtype: float64"
      ]
     },
     "execution_count": 134,
     "metadata": {},
     "output_type": "execute_result"
    }
   ],
   "source": [
    "coaster.resample('10Y', on='date')['Len_ft'].mean().round(2)"
   ]
  },
  {
   "cell_type": "markdown",
   "id": "9a5460f4-e276-4583-a26b-18be11b4b733",
   "metadata": {},
   "source": [
    "## 3.2\n",
    "Find the median speed per Designer"
   ]
  },
  {
   "cell_type": "code",
   "execution_count": 135,
   "id": "d3908690-5a38-4b0c-b6e8-a41e1f990177",
   "metadata": {},
   "outputs": [
    {
     "data": {
      "text/plain": [
       "Designer\n",
       "Al CollinsJeff Gramke                              64.8\n",
       "Alan Schilke                                       55.0\n",
       "Alan SchilkeRenato Manzoni                         76.0\n",
       "Alison Brittle, Eden Carpenter, and Gary Norton    50.0\n",
       "Andy Vettel (1968)John A. Miller (1924)            55.0\n",
       "                                                   ... \n",
       "Werner Stengel[3]                                  92.0\n",
       "William Cobb                                       58.0\n",
       "William Cobb & Associates                          59.7\n",
       "William CobbWerner Stengel                         62.1\n",
       "Zierer                                             22.4\n",
       "Name: speed_mph, Length: 153, dtype: float64"
      ]
     },
     "execution_count": 135,
     "metadata": {},
     "output_type": "execute_result"
    }
   ],
   "source": [
    "coaster.groupby('Designer')['speed_mph'].median()"
   ]
  },
  {
   "cell_type": "markdown",
   "id": "7859cdf1-2a00-48f9-9f1e-7403df3f0f67",
   "metadata": {},
   "source": [
    "## 3.3\n",
    "What is the active coaster length per location?"
   ]
  },
  {
   "cell_type": "code",
   "execution_count": 138,
   "id": "c81012c6-431c-4a7a-b81b-3e98990759d0",
   "metadata": {},
   "outputs": [
    {
     "data": {
      "text/plain": [
       "Location\n",
       "Adlabs Imagica              0.0\n",
       "Adventure City              8.0\n",
       "Adventure Island            0.0\n",
       "Adventure World           260.0\n",
       "Adventuredome               0.0\n",
       "                          ...  \n",
       "Xetulul Theme Park          0.0\n",
       "Yomiuriland                 0.0\n",
       "ZDT's Amusement Park        0.0\n",
       "Zoosafari Fasanolandia      0.0\n",
       "Đại Nam Văn Hiến            0.0\n",
       "Name: Len_ft, Length: 222, dtype: float64"
      ]
     },
     "execution_count": 138,
     "metadata": {},
     "output_type": "execute_result"
    }
   ],
   "source": [
    "coaster[coaster['Status'] == 'Operating'].groupby('Location')['Len_ft'].sum()"
   ]
  },
  {
   "cell_type": "markdown",
   "id": "8e7ef0f1-bcd8-41e8-a05c-a74010400c4e",
   "metadata": {},
   "source": [
    "## 3.4\n",
    "Which manufaturer had the heighest active amount of coaster length each decade?"
   ]
  },
  {
   "cell_type": "code",
   "execution_count": 174,
   "id": "57f455f7-33aa-4b8a-a3ef-397fe8871d61",
   "metadata": {},
   "outputs": [
    {
     "data": {
      "text/html": [
       "<div>\n",
       "<style scoped>\n",
       "    .dataframe tbody tr th:only-of-type {\n",
       "        vertical-align: middle;\n",
       "    }\n",
       "\n",
       "    .dataframe tbody tr th {\n",
       "        vertical-align: top;\n",
       "    }\n",
       "\n",
       "    .dataframe thead th {\n",
       "        text-align: right;\n",
       "    }\n",
       "</style>\n",
       "<table border=\"1\" class=\"dataframe\">\n",
       "  <thead>\n",
       "    <tr style=\"text-align: right;\">\n",
       "      <th></th>\n",
       "      <th>Len_ft</th>\n",
       "      <th>Manufacturer</th>\n",
       "    </tr>\n",
       "    <tr>\n",
       "      <th>date</th>\n",
       "      <th></th>\n",
       "      <th></th>\n",
       "    </tr>\n",
       "  </thead>\n",
       "  <tbody>\n",
       "    <tr>\n",
       "      <th>1902-12-31</th>\n",
       "      <td>0.0</td>\n",
       "      <td>Federal Construction Company</td>\n",
       "    </tr>\n",
       "    <tr>\n",
       "      <th>1912-12-31</th>\n",
       "      <td>0.0</td>\n",
       "      <td>LaMarcus Thompson</td>\n",
       "    </tr>\n",
       "    <tr>\n",
       "      <th>1920-12-31</th>\n",
       "      <td>0.0</td>\n",
       "      <td>Harry C. Baker</td>\n",
       "    </tr>\n",
       "    <tr>\n",
       "      <th>1923-12-31</th>\n",
       "      <td>0.0</td>\n",
       "      <td>William Strickler</td>\n",
       "    </tr>\n",
       "    <tr>\n",
       "      <th>1924-12-31</th>\n",
       "      <td>0.0</td>\n",
       "      <td>Arthur Looff</td>\n",
       "    </tr>\n",
       "    <tr>\n",
       "      <th>...</th>\n",
       "      <td>...</td>\n",
       "      <td>...</td>\n",
       "    </tr>\n",
       "    <tr>\n",
       "      <th>2023-12-31</th>\n",
       "      <td>49.0</td>\n",
       "      <td>Gerstlauer</td>\n",
       "    </tr>\n",
       "    <tr>\n",
       "      <th>2024-12-31</th>\n",
       "      <td>0.0</td>\n",
       "      <td>S&amp;S – Sansei Technologies</td>\n",
       "    </tr>\n",
       "    <tr>\n",
       "      <th>2026-12-31</th>\n",
       "      <td>3.0</td>\n",
       "      <td>Great Coasters International</td>\n",
       "    </tr>\n",
       "    <tr>\n",
       "      <th>2028-12-31</th>\n",
       "      <td>989.0</td>\n",
       "      <td>Mack Rides</td>\n",
       "    </tr>\n",
       "    <tr>\n",
       "      <th>2029-12-31</th>\n",
       "      <td>770.0</td>\n",
       "      <td>S&amp;S - Sansei Technologies</td>\n",
       "    </tr>\n",
       "  </tbody>\n",
       "</table>\n",
       "<p>68 rows × 2 columns</p>\n",
       "</div>"
      ],
      "text/plain": [
       "            Len_ft                  Manufacturer\n",
       "date                                            \n",
       "1902-12-31     0.0  Federal Construction Company\n",
       "1912-12-31     0.0             LaMarcus Thompson\n",
       "1920-12-31     0.0                Harry C. Baker\n",
       "1923-12-31     0.0             William Strickler\n",
       "1924-12-31     0.0                  Arthur Looff\n",
       "...            ...                           ...\n",
       "2023-12-31    49.0                    Gerstlauer\n",
       "2024-12-31     0.0     S&S – Sansei Technologies\n",
       "2026-12-31     3.0  Great Coasters International\n",
       "2028-12-31   989.0                    Mack Rides\n",
       "2029-12-31   770.0     S&S - Sansei Technologies\n",
       "\n",
       "[68 rows x 2 columns]"
      ]
     },
     "execution_count": 174,
     "metadata": {},
     "output_type": "execute_result"
    }
   ],
   "source": [
    "(coaster[coaster['Status'] == 'Operating']\n",
    "    .reset_index()\n",
    "    .set_index('date')\n",
    "    .groupby('Manufacturer').resample('10Y')['Len_ft']\n",
    "    .sum()\n",
    "    .reorder_levels(['date', 'Manufacturer'])\n",
    "    .reset_index()\n",
    "    .sort_values(by=['Len_ft'], ascending=False)\n",
    "    .groupby('date')\n",
    "    .agg({'Len_ft':'first','Manufacturer':'first'})\n",
    "    )"
   ]
  },
  {
   "cell_type": "markdown",
   "id": "67835dae-5fd3-4094-87c2-74d38e71feec",
   "metadata": {},
   "source": [
    "## 3.5\n",
    "What is the favorite track layout and how does it change over time? Which layout is most expensive?"
   ]
  },
  {
   "cell_type": "code",
   "execution_count": 177,
   "id": "2c8e067c-777a-443f-8b57-29073af01159",
   "metadata": {},
   "outputs": [
    {
     "data": {
      "text/html": [
       "<div>\n",
       "<style scoped>\n",
       "    .dataframe tbody tr th:only-of-type {\n",
       "        vertical-align: middle;\n",
       "    }\n",
       "\n",
       "    .dataframe tbody tr th {\n",
       "        vertical-align: top;\n",
       "    }\n",
       "\n",
       "    .dataframe thead th {\n",
       "        text-align: right;\n",
       "    }\n",
       "</style>\n",
       "<table border=\"1\" class=\"dataframe\">\n",
       "  <thead>\n",
       "    <tr style=\"text-align: right;\">\n",
       "      <th></th>\n",
       "      <th>coaster_name</th>\n",
       "      <th>Location</th>\n",
       "      <th>Status</th>\n",
       "      <th>Manufacturer</th>\n",
       "      <th>Height</th>\n",
       "      <th>Designer</th>\n",
       "      <th>Track layout</th>\n",
       "      <th>latitude</th>\n",
       "      <th>longitude</th>\n",
       "      <th>speed_mph</th>\n",
       "      <th>height_value</th>\n",
       "      <th>date</th>\n",
       "      <th>Len_ft</th>\n",
       "    </tr>\n",
       "  </thead>\n",
       "  <tbody>\n",
       "    <tr>\n",
       "      <th>0</th>\n",
       "      <td>Switchback Railway</td>\n",
       "      <td>Coney Island</td>\n",
       "      <td>Removed</td>\n",
       "      <td>LaMarcus Adna Thompson</td>\n",
       "      <td>50 ft (15 m)</td>\n",
       "      <td>LaMarcus Adna Thompson</td>\n",
       "      <td>Gravity pulled coaster</td>\n",
       "      <td>40.5740</td>\n",
       "      <td>-73.9780</td>\n",
       "      <td>6.0</td>\n",
       "      <td>50.0</td>\n",
       "      <td>1884-06-16</td>\n",
       "      <td>600.0</td>\n",
       "    </tr>\n",
       "    <tr>\n",
       "      <th>1</th>\n",
       "      <td>Flip Flap Railway</td>\n",
       "      <td>Sea Lion Park</td>\n",
       "      <td>Removed</td>\n",
       "      <td>Lina Beecher</td>\n",
       "      <td>NaN</td>\n",
       "      <td>Lina Beecher</td>\n",
       "      <td>NaN</td>\n",
       "      <td>40.5780</td>\n",
       "      <td>-73.9790</td>\n",
       "      <td>NaN</td>\n",
       "      <td>NaN</td>\n",
       "      <td>1895-01-01</td>\n",
       "      <td>NaN</td>\n",
       "    </tr>\n",
       "    <tr>\n",
       "      <th>2</th>\n",
       "      <td>Switchback Railway (Euclid Beach Park)</td>\n",
       "      <td>Cleveland, Ohio, United States</td>\n",
       "      <td>Closed</td>\n",
       "      <td>NaN</td>\n",
       "      <td>NaN</td>\n",
       "      <td>NaN</td>\n",
       "      <td>NaN</td>\n",
       "      <td>41.5800</td>\n",
       "      <td>-81.5700</td>\n",
       "      <td>NaN</td>\n",
       "      <td>NaN</td>\n",
       "      <td>NaT</td>\n",
       "      <td>NaN</td>\n",
       "    </tr>\n",
       "    <tr>\n",
       "      <th>3</th>\n",
       "      <td>Loop the Loop (Coney Island)</td>\n",
       "      <td>Other</td>\n",
       "      <td>Removed</td>\n",
       "      <td>Edwin Prescott</td>\n",
       "      <td>NaN</td>\n",
       "      <td>Edward A. Green</td>\n",
       "      <td>NaN</td>\n",
       "      <td>40.5745</td>\n",
       "      <td>-73.9780</td>\n",
       "      <td>NaN</td>\n",
       "      <td>NaN</td>\n",
       "      <td>1901-01-01</td>\n",
       "      <td>NaN</td>\n",
       "    </tr>\n",
       "    <tr>\n",
       "      <th>4</th>\n",
       "      <td>Loop the Loop (Young's Pier)</td>\n",
       "      <td>Other</td>\n",
       "      <td>Removed</td>\n",
       "      <td>Edwin Prescott</td>\n",
       "      <td>NaN</td>\n",
       "      <td>Edward A. Green</td>\n",
       "      <td>NaN</td>\n",
       "      <td>39.3538</td>\n",
       "      <td>-74.4342</td>\n",
       "      <td>NaN</td>\n",
       "      <td>NaN</td>\n",
       "      <td>1901-01-01</td>\n",
       "      <td>NaN</td>\n",
       "    </tr>\n",
       "  </tbody>\n",
       "</table>\n",
       "</div>"
      ],
      "text/plain": [
       "                             coaster_name                        Location  \\\n",
       "0                      Switchback Railway                    Coney Island   \n",
       "1                       Flip Flap Railway                   Sea Lion Park   \n",
       "2  Switchback Railway (Euclid Beach Park)  Cleveland, Ohio, United States   \n",
       "3            Loop the Loop (Coney Island)                           Other   \n",
       "4            Loop the Loop (Young's Pier)                           Other   \n",
       "\n",
       "    Status            Manufacturer        Height                Designer  \\\n",
       "0  Removed  LaMarcus Adna Thompson  50 ft (15 m)  LaMarcus Adna Thompson   \n",
       "1  Removed            Lina Beecher           NaN            Lina Beecher   \n",
       "2   Closed                     NaN           NaN                     NaN   \n",
       "3  Removed          Edwin Prescott           NaN         Edward A. Green   \n",
       "4  Removed          Edwin Prescott           NaN         Edward A. Green   \n",
       "\n",
       "             Track layout  latitude  longitude  speed_mph  height_value  \\\n",
       "0  Gravity pulled coaster   40.5740   -73.9780        6.0          50.0   \n",
       "1                     NaN   40.5780   -73.9790        NaN           NaN   \n",
       "2                     NaN   41.5800   -81.5700        NaN           NaN   \n",
       "3                     NaN   40.5745   -73.9780        NaN           NaN   \n",
       "4                     NaN   39.3538   -74.4342        NaN           NaN   \n",
       "\n",
       "        date  Len_ft  \n",
       "0 1884-06-16   600.0  \n",
       "1 1895-01-01     NaN  \n",
       "2        NaT     NaN  \n",
       "3 1901-01-01     NaN  \n",
       "4 1901-01-01     NaN  "
      ]
     },
     "execution_count": 177,
     "metadata": {},
     "output_type": "execute_result"
    }
   ],
   "source": [
    "coaster.head()"
   ]
  },
  {
   "cell_type": "code",
   "execution_count": 186,
   "id": "7ae3bbc5-d940-4b85-a4ae-ef376f3bfc8c",
   "metadata": {},
   "outputs": [
    {
     "data": {
      "text/plain": [
       "<AxesSubplot:xlabel='date', ylabel='Track layout'>"
      ]
     },
     "execution_count": 186,
     "metadata": {},
     "output_type": "execute_result"
    },
    {
     "data": {
      "image/png": "[encoded data removed]",
      "text/plain": [
       "<Figure size 640x480 with 1 Axes>"
      ]
     },
     "metadata": {},
     "output_type": "display_data"
    }
   ],
   "source": [
    "import seaborn as sns\n",
    "coaster['Track layout'].value_counts()\n",
    "sns.lineplot(data = coaster,\n",
    "             x = \"date\",\n",
    "             y = \"Track layout\",\n",
    "             estimator = lambda x: len(x)\n",
    "             )\n"
   ]
  },
  {
   "cell_type": "markdown",
   "id": "0292255e-9bce-4482-872b-1f679a17de34",
   "metadata": {},
   "source": [
    "## 4\n",
    "Using the earthquake data: Which coaster was closest to an earthquake?"
   ]
  },
  {
   "cell_type": "code",
   "execution_count": 217,
   "id": "c35e1ff4-7e9b-4508-8bb9-09d4933d8988",
   "metadata": {},
   "outputs": [
    {
     "data": {
      "text/html": [
       "<div>\n",
       "<style scoped>\n",
       "    .dataframe tbody tr th:only-of-type {\n",
       "        vertical-align: middle;\n",
       "    }\n",
       "\n",
       "    .dataframe tbody tr th {\n",
       "        vertical-align: top;\n",
       "    }\n",
       "\n",
       "    .dataframe thead th {\n",
       "        text-align: right;\n",
       "    }\n",
       "</style>\n",
       "<table border=\"1\" class=\"dataframe\">\n",
       "  <thead>\n",
       "    <tr style=\"text-align: right;\">\n",
       "      <th></th>\n",
       "      <th>coaster_name</th>\n",
       "      <th>Location</th>\n",
       "      <th>Status</th>\n",
       "      <th>Manufacturer</th>\n",
       "      <th>Height</th>\n",
       "      <th>Designer</th>\n",
       "      <th>Track layout</th>\n",
       "      <th>latitude</th>\n",
       "      <th>longitude</th>\n",
       "      <th>speed_mph</th>\n",
       "      <th>height_value</th>\n",
       "      <th>date</th>\n",
       "      <th>Len_ft</th>\n",
       "      <th>eq_dist</th>\n",
       "    </tr>\n",
       "  </thead>\n",
       "  <tbody>\n",
       "    <tr>\n",
       "      <th>812</th>\n",
       "      <td>Formula Rossa</td>\n",
       "      <td>Ferrari World Abu Dhabi</td>\n",
       "      <td>Operating</td>\n",
       "      <td>Intamin</td>\n",
       "      <td>52 m (170.6 ft)</td>\n",
       "      <td>NaN</td>\n",
       "      <td>NaN</td>\n",
       "      <td>24.4842</td>\n",
       "      <td>54.6124</td>\n",
       "      <td>149.1</td>\n",
       "      <td>170.60368</td>\n",
       "      <td>2010-11-04</td>\n",
       "      <td>NaN</td>\n",
       "      <td>2.230325</td>\n",
       "    </tr>\n",
       "  </tbody>\n",
       "</table>\n",
       "</div>"
      ],
      "text/plain": [
       "      coaster_name                 Location     Status Manufacturer  \\\n",
       "812  Formula Rossa  Ferrari World Abu Dhabi  Operating      Intamin   \n",
       "\n",
       "              Height Designer Track layout  latitude  longitude  speed_mph  \\\n",
       "812  52 m (170.6 ft)      NaN          NaN   24.4842    54.6124      149.1   \n",
       "\n",
       "     height_value       date  Len_ft   eq_dist  \n",
       "812     170.60368 2010-11-04     NaN  2.230325  "
      ]
     },
     "execution_count": 217,
     "metadata": {},
     "output_type": "execute_result"
    }
   ],
   "source": [
    "import requests\n",
    "import pandas as pd\n",
    "import datetime as dt\n",
    "import numpy as np\n",
    "\n",
    "# set startdate\n",
    "yesterday = dt.date.today() - dt.timedelta(days = 1)\n",
    "\n",
    "# api url\n",
    "api = 'https://earthquake.usgs.gov/fdsnws/event/1/query'\n",
    "\n",
    "# Create the payload for the GET request\n",
    "payload = {\n",
    "    'format': 'geojson',\n",
    "    'starttime': yesterday - dt.timedelta(days = 30),\n",
    "    'endtime': yesterday\n",
    "}\n",
    "\n",
    "response = requests.get(api,\n",
    "                        params = payload)\n",
    "\n",
    "if response.status_code == 200:\n",
    "    quake_json = response.json()\n",
    "    eq_df = pd.DataFrame([\n",
    "        quake['geometry'][\"coordinates\"] for quake in quake_json['features']\n",
    "    ], columns=['lat', 'long', 'depth'])\n",
    "\n",
    "    dist = []\n",
    "\n",
    "    for index, row in coaster.iterrows():\n",
    "        dist_lat = eq_df['lat'] + row['latitude']\n",
    "        dist_long = eq_df['long'] + row['longitude']\n",
    "        dist.append(np.min(np.sqrt(dist_lat **2 + dist_long**2)))\n",
    "\n",
    "    coaster['eq_dist'] = dist\n",
    "\n",
    "coaster.sort_values('eq_dist').head(1)"
   ]
  },
  {
   "cell_type": "code",
   "execution_count": null,
   "id": "8f843ec6-ad21-4ad6-8b89-9b937b47e628",
   "metadata": {},
   "outputs": [],
   "source": []
  }
 ],
 "metadata": {
  "kernelspec": {
   "display_name": "Python 3 (ipykernel)",
   "language": "python",
   "name": "python3"
  },
  "language_info": {
   "codemirror_mode": {
    "name": "ipython",
    "version": 3
   },
   "file_extension": ".py",
   "mimetype": "text/x-python",
   "name": "python",
   "nbconvert_exporter": "python",
   "pygments_lexer": "ipython3",
   "version": "3.9.13"
  },
  "toc": {
   "base_numbering": 1,
   "nav_menu": {},
   "number_sections": true,
   "sideBar": true,
   "skip_h1_title": false,
   "title_cell": "Table of Contents",
   "title_sidebar": "Contents",
   "toc_cell": false,
   "toc_position": {},
   "toc_section_display": true,
   "toc_window_display": false
  },
  "varInspector": {
   "cols": {
    "lenName": 16,
    "lenType": 16,
    "lenVar": 40
   },
   "kernels_config": {
    "python": {
     "delete_cmd_postfix": "",
     "delete_cmd_prefix": "del ",
     "library": "var_list.py",
     "varRefreshCmd": "print(var_dic_list())"
    },
    "r": {
     "delete_cmd_postfix": ") ",
     "delete_cmd_prefix": "rm(",
     "library": "var_list.r",
     "varRefreshCmd": "cat(var_dic_list()) "
    }
   },
   "types_to_exclude": [
    "module",
    "function",
    "builtin_function_or_method",
    "instance",
    "_Feature"
   ],
   "window_display": false
  }
 },
 "nbformat": 4,
 "nbformat_minor": 5
}
