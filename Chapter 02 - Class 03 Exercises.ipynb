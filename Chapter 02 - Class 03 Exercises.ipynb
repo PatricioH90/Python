{
 "cells": [
  {
   "cell_type": "markdown",
   "id": "b9bd233e",
   "metadata": {},
   "source": [
    "<div style=\"float: right; margin: 0px 15px 15px 0px;\">\n",
    "<img src=\"https://upload.wikimedia.org/wikipedia/commons/b/b6/HULT_IBS_Logo_Outline_Black_%28cropped%29.png\" width=150/>\n",
    "</div>\n",
    "<h1> Python for Data Analysis: Methods & Tools </h1>\n",
    "<em> <strong>Python for everyday people </strong></em>\n",
    "<br><br>\n",
    "Written by Felipe Dominguez - Professor Adjunct <br>\n",
    "Hult International Business School <br>\n",
    "<br>\n",
    "<h1><u> Chapter 02 - Data Types - numbers, strings, list, dictionaries, and more!</u></h1>\n",
    "<em> Exercise workbook - Class 03</em>"
   ]
  },
  {
   "cell_type": "markdown",
   "id": "0e382a5d",
   "metadata": {},
   "source": [
    "<h3>1. Ranges</h3>"
   ]
  },
  {
   "cell_type": "markdown",
   "id": "2781ba76",
   "metadata": {},
   "source": [
    "<h4>1.1. Create a range from 50 to 150 with steps of 10 (including 150). Then print it as a list.</h4>"
   ]
  },
  {
   "cell_type": "code",
   "execution_count": 2,
   "id": "3b1de3d2",
   "metadata": {},
   "outputs": [
    {
     "name": "stdout",
     "output_type": "stream",
     "text": [
      "[50, 60, 70, 80, 90, 100, 110, 120, 130, 140, 150]\n"
     ]
    }
   ],
   "source": [
    "# Exervcise 1.1.\n",
    "# Declare a range data type\n",
    "my_range = range(50, 151, 10)\n",
    "\n",
    "# Transform the rango into a list\n",
    "new_list = list(my_range)\n",
    "\n",
    "# print the outcome\n",
    "print(new_list)"
   ]
  },
  {
   "cell_type": "markdown",
   "id": "c2eac329",
   "metadata": {},
   "source": [
    "<h4>1.2. Create a list from 99 to 9 so all numbers are divisible by 3 (Including 9).</h4>"
   ]
  },
  {
   "cell_type": "code",
   "execution_count": 4,
   "id": "95357421",
   "metadata": {},
   "outputs": [
    {
     "name": "stdout",
     "output_type": "stream",
     "text": [
      "[99, 96, 93, 90, 87, 84, 81, 78, 75, 72, 69, 66, 63, 60, 57, 54, 51, 48, 45, 42, 39, 36, 33, 30, 27, 24, 21, 18, 15, 12, 9]\n"
     ]
    }
   ],
   "source": [
    "# Exercise 1.3.\n",
    "# Declare range\n",
    "my_range = range(99, 8, -3)\n",
    "\n",
    "# Transform range into list\n",
    "my_list = list(my_range)\n",
    "\n",
    "# print outcome\n",
    "print(my_list)"
   ]
  },
  {
   "cell_type": "markdown",
   "id": "f5c0682c",
   "metadata": {},
   "source": [
    "<h3>2. Numpy Arrays</h3>"
   ]
  },
  {
   "cell_type": "markdown",
   "id": "c0c69097",
   "metadata": {},
   "source": [
    "<h4>2.1. Given the following array, complete the tasks a, b, c, and d.</h4>\n",
    "\n",
    "~~~\n",
    "np_array = np.array([[11 ,22, 33], [44, 55, 66], [77, 88, 99]]) \n",
    "~~~"
   ]
  },
  {
   "cell_type": "markdown",
   "id": "660edd5b",
   "metadata": {},
   "source": [
    "<h5>a. Retrieve the third row of the array</h5>"
   ]
  },
  {
   "cell_type": "code",
   "execution_count": 14,
   "id": "8ef2cb2f",
   "metadata": {},
   "outputs": [
    {
     "name": "stdout",
     "output_type": "stream",
     "text": [
      "[[11 22 33]\n",
      " [44 55 66]\n",
      " [77 88 99]]\n",
      "\n",
      "Printing the 3rd row of the array\n",
      "[77 88 99]\n"
     ]
    }
   ],
   "source": [
    "# Exercise 2.1.a.\n",
    "import numpy as np\n",
    "\n",
    "np_array = np.array([[11 ,22, 33], [44, 55, 66], [77, 88, 99]])\n",
    "print(np_array)\n",
    "\n",
    "\n",
    "print(\"\\nPrinting the 3rd row of the array\")\n",
    "newarray = np_array[2]\n",
    "print(newarray)"
   ]
  },
  {
   "cell_type": "markdown",
   "id": "a111627d",
   "metadata": {},
   "source": [
    "<h4>b. Retrieve the first element of each row (\"column 1\")</h4>"
   ]
  },
  {
   "cell_type": "code",
   "execution_count": 15,
   "id": "a508a79e",
   "metadata": {},
   "outputs": [
    {
     "name": "stdout",
     "output_type": "stream",
     "text": [
      "\n",
      "Printing the first element of each row.\n",
      "[11 22 33]\n"
     ]
    }
   ],
   "source": [
    "# Exercise 2.1.b.\n",
    "print(\"\\nPrinting the first element of each row.\")\n",
    "newarray = np_array[0]\n",
    "print(newarray)"
   ]
  },
  {
   "cell_type": "markdown",
   "id": "238a56c7",
   "metadata": {},
   "source": [
    "<h4>c. Create a new 9x1 array based on the original 3x3 array</h4>"
   ]
  },
  {
   "cell_type": "code",
   "execution_count": 17,
   "id": "1d8450c5",
   "metadata": {},
   "outputs": [
    {
     "name": "stdout",
     "output_type": "stream",
     "text": [
      "\n",
      "Printing new 9x1 array\n",
      "[[11]\n",
      " [22]\n",
      " [33]\n",
      " [44]\n",
      " [55]\n",
      " [66]\n",
      " [77]\n",
      " [88]\n",
      " [99]]\n"
     ]
    }
   ],
   "source": [
    "# Exercise 2.1.c.\n",
    "new_array = np_array.reshape(9, 1)\n",
    "print(\"\\nPrinting new 9x1 array\")\n",
    "print(new_array)"
   ]
  },
  {
   "cell_type": "markdown",
   "id": "a0790e21",
   "metadata": {},
   "source": [
    "<h4>2.2. Create a 5x2 numpy array based on a range between 10 to 60 by 5 steps</h4>\n"
   ]
  },
  {
   "cell_type": "code",
   "execution_count": 22,
   "id": "87246338",
   "metadata": {},
   "outputs": [
    {
     "name": "stdout",
     "output_type": "stream",
     "text": [
      "[[10 15]\n",
      " [20 25]\n",
      " [30 35]\n",
      " [40 45]\n",
      " [50 55]]\n"
     ]
    }
   ],
   "source": [
    "# Exercise 2.2.\n",
    "# Declare range \n",
    "my_range = range(10, 60, 5)\n",
    "\n",
    "# Create a numpy array based on the range\n",
    "np_array = np.array(my_range)\n",
    "\n",
    "# Reshape the array, so it is 5x2\n",
    "np_array = np_array.reshape(5,2)\n",
    "\n",
    "#print the result\n",
    "print(np_array)"
   ]
  },
  {
   "cell_type": "markdown",
   "id": "5565d6c6",
   "metadata": {},
   "source": [
    "<h4>2.3. Return an array with the items greater than the average</h4>\n",
    "\n",
    "~~~\n",
    "np_array = np.array([[45, 4, 25, 2], [9, 4, 11, 34]])\n",
    "~~~"
   ]
  },
  {
   "cell_type": "code",
   "execution_count": 24,
   "id": "049aef79",
   "metadata": {},
   "outputs": [
    {
     "name": "stdout",
     "output_type": "stream",
     "text": [
      "\n",
      "The average of the array is: 16.75\n",
      "The numbers greater than the average are:\n",
      "[45 25 34]\n"
     ]
    }
   ],
   "source": [
    "# Exercise 2.3.\n",
    "# Declare np array\n",
    "np_array = np.array([[45, 4, 25, 2], [9, 4, 11, 34]])\n",
    "\n",
    "# Calculate and store the array average\n",
    "np_average = np_array.mean()\n",
    "\n",
    "# Define condition\n",
    "condition = np_array > np_average\n",
    "\n",
    "# Apply condition and store it in a new array\n",
    "newarray = np_array[condition]\n",
    "\n",
    "# print the outcome\n",
    "print(f\"\"\"\n",
    "The average of the array is: {np_average}\n",
    "The numbers greater than the average are:\n",
    "{newarray}\"\"\")"
   ]
  },
  {
   "cell_type": "markdown",
   "id": "d556960a",
   "metadata": {},
   "source": [
    "<h3>3. Dictionaries</h3>"
   ]
  },
  {
   "cell_type": "markdown",
   "id": "297e98f6",
   "metadata": {},
   "source": [
    "<h4>3.1. Dictionaries operations</h4><br>\n",
    "<div align = 'justify'>\n",
    "You have been given a dictionary with Netflix's movies and its views. Answer the questions a and b based on this dictionary.\n",
    "</div>"
   ]
  },
  {
   "cell_type": "markdown",
   "id": "97d9623c",
   "metadata": {},
   "source": [
    "<h5>a. Find the number of views of the movie: \"Gaga: Five Foot Two\"</h5>"
   ]
  },
  {
   "cell_type": "code",
   "execution_count": 26,
   "id": "2c8a423f",
   "metadata": {},
   "outputs": [
    {
     "name": "stdout",
     "output_type": "stream",
     "text": [
      "The number of views of Gaga: Five Foot Two is: 3719550\n"
     ]
    }
   ],
   "source": [
    "# Exercise 3.1.a\n",
    "nflx_dic = {'The Debt Collector': 1821195, 'Act of Vengeance': 2804479, 'Paradise Lost': 2195477, \"Gerald's Game\": 3650626, 'Long Shot': 638440, 'Mak Cun': 1010311, 'Our Souls at Night': 3028705, 'Out of Thin Air': 2681938, \"Paul Hollywood's Big Continental Road Trip\": 230689, 'Satu Hari': 1012350, 'Monster High: Boo York, Boo York': 1526025, 'Cultivating the Seas: History and Future of the Full-Cycle Cultured Kindai Tuna': 2762103, 'Domino': 872663, 'TUNA GIRL': 2574816, '5CM': 2647713, 'Animal World': 220789, 'Hold the Dark': 2307432, 'Lessons from a School Shooting: Notes from Dunblane': 2419534, 'Made in Mexico': 3653712, 'Single': 239278, 'The 3rd Eye': 196138, 'The Sinking Of Van Der Wijck': 2831856, 'Two Catalonias': 1337119, 'Bobby Sands: 66 Days': 2005623, 'Bard of Blood': 744998, 'Deliha 2': 3638900, 'Dragons: Rescue Riders': 3241239, 'In the Shadow of the Moon': 1213329, 'Skylines': 1840094, 'Sturgill Simpson Presents Sound & Fury': 1915540, 'The Politician': 1019394, 'Weeds on Fire': 2273090, 'Much Loved': 3039852, 'Joseph: King of Dreams': 1734449, 'Malaal': 1926128, 'The Grandmaster': 2549410, 'The Inmate': 130965, 'The Hurricane Heist': 2191538, 'Def Comedy Jam 25': 1392697, 'Restless Creature: Wendy Whelan': 2474412, 'Print the Legend': 548250, 'Birders': 3478883, 'Furie': 2755115, 'Leap!': 1401638, 'Oh! Baby (Malayalam)': 839139, 'Oh! Baby (Tamil)': 2691505, 'USS Indianapolis: Men of Courage': 3286014, 'A Wrinkle in Time': 1258861, 'Teach Us All': 2428947, 'White Island': 1152905, 'Inside Man: Most Wanted': 2812661, 'Jeff Dunham: Beside Himself': 2930368, 'China Salesman': 3377292, 'Swearnet: The Movie': 949689, 'The Bar': 620655, 'Manmadhudu 2': 1842761, 'Team Kaylie': 359856, 'Under the Eiffel Tower': 2298237, 'Audrie & Daisy': 1573055, 'Iliza Shlesinger: Confirmed Kills': 365220, 'BONDING': 1664242, 'Do Paise Ki Dhoop Chaar Aane Ki Baarish': 2770879, '20 Feet From Stardom': 2931730, 'In Darkness': 3248749, 'Gaga: Five Foot Two': 3719550, 'The Bad Batch': 3656264, 'SMOSH: The Movie': 3697506, 'King of Boys': 584112, 'Merry Men: The Real Yoruba Demons': 2035595, \"Sarah's Key\": 1337902, 'The Wedding Party 2: Destination Dubai': 1471204, 'Vagabond': 1600432, 'Battlefish': 723021, 'DRAGON PILOT: Hisone & Masotan': 602919, 'Hilda': 54948, 'Maniac': 1348196, 'Quincy': 2601704, 'Rafinha Bastos: Ultimatum': 3469996, 'The Good Cop': 2265521, 'Between Two Ferns: The Movie': 3146508, 'Criminal: France': 2021409, 'Criminal: Germany': 658824, 'Criminal: Spain': 3078634, 'Criminal: UK': 2721398, 'Daddy Issues': 2119035, \"Inside Bill's Brain: Decoding Bill Gates\": 1755104, 'The Hockey Girls': 2000507, 'Travel Mates 2': 707260, 'True: Tricky Treat Day': 3213199, 'Two Sentence Horror Stories': 2438329, 'Mad World': 2281773, 'Mobile Suit Gundam UC': 778879, 'The Bund': 1729892, 'The First Line': 674591, 'Maynard': 84986, 'Monkey Twins': 3277179, 'Bitcoin Heist': 1450158, 'I Am Not Madame Bovary': 2763830, 'Vincent N Roxxy': 1961810, \"Chef's Table: France\": 2065738}\n",
    "\n",
    "# input from the user\n",
    "user_inpu = input(prompt(\"Select a movie: \")\n",
    "\n",
    "\n",
    "# retrieve the number of views of Gaga: Five Foot Two\n",
    "number_views = nflx_dic.get(\"Gaga: Five Foot Two\")\n",
    "# or\n",
    "number_views2 = nflix_dic[\"Gaga: Five Foot Two\"]\n",
    "\n",
    "# print outcome\n",
    "print(f\"\"\"The number of views of Gaga: Five Foot Two is: {number_views}\"\"\")"
   ]
  },
  {
   "cell_type": "markdown",
   "id": "f0306171",
   "metadata": {},
   "source": [
    "<h5>b. Update the movie Criminal: Germany to Criminal: Chile</h5>"
   ]
  },
  {
   "cell_type": "code",
   "execution_count": null,
   "id": "59120849",
   "metadata": {},
   "outputs": [],
   "source": [
    "# Exercise 3.1.b.\n",
    "# Use the pop method to remove the Criminal: Germany key and store the value removed\n",
    "value_removed = nflx_dic.pop('Criminal: Germany')\n",
    "\n",
    "# Create a new key with the value removed\n",
    "nflx_dic['Criminal: Chile'] = value_removed\n",
    "\n",
    "# print the result\n",
    "print('Criminal: Chile:', nflx_dic['Criminal: Chile'])"
   ]
  },
  {
   "cell_type": "markdown",
   "id": "532d5574",
   "metadata": {},
   "source": [
    "<h4>3.2. Given the following nested dictionary, obtain Santiago's GMAT score</h4>\n",
    "\n",
    "~~~\n",
    "sampleDict = {\n",
    "    \"class\": {\n",
    "        \"student\": {\n",
    "                    \"name\": \"Santiago\",\n",
    "                    \"exams\": {\n",
    "                                \"GMAT\": 700,\n",
    "                                \"GRE\": 650\n",
    "            }\n",
    "        }\n",
    "    }\n",
    "}\n",
    "~~~"
   ]
  },
  {
   "cell_type": "code",
   "execution_count": null,
   "id": "b9c79e15",
   "metadata": {},
   "outputs": [],
   "source": [
    "# Exercise 3.2.\n",
    "# Declare dictionary\n",
    "student_dic = {\n",
    "    \"class\": {\n",
    "        \"student\": {\n",
    "                    \"name\": \"Santiago\",\n",
    "                    \"exams\": {\n",
    "                                \"GMAT\": 700,\n",
    "                                \"GRE\": 650\n",
    "            }\n",
    "        }\n",
    "    }\n",
    "}\n",
    "\n",
    "# index dictionary until GMTA\n",
    "student_dic[\"class\"][\"student\"][\"exams\"][\"GMAT\"]"
   ]
  },
  {
   "cell_type": "markdown",
   "id": "2af379fe",
   "metadata": {},
   "source": [
    "<h4>3.3. Create your own store!</h4><br>\n",
    "<div align = 'justify'>\n",
    "Create a program that enables a user to place an order with a business. \n",
    "    <ul>\n",
    "    <li>The program should include a dictionary containing the items available for purchase, with the keys representing the item names and the values representing the prices. </li>\n",
    "    <li>The program should present the user with a list of items and their corresponding prices, and prompt the user to select the items they wish to purchase.</li>\n",
    "    <li>Use the cost_of_items function to return the cost of the items selected by the user.</li>\n",
    "    <li>Print the total sale.</li>\n",
    "    </ul>\n",
    "For example:\n",
    "</div>\n",
    "\n",
    "    If you are visiting Los Angeles and want to try the famous In-N-Out fast food chain, you can use this program to place an order and see the total cost of your purchase."
   ]
  },
  {
   "cell_type": "code",
   "execution_count": null,
   "id": "c94ee808",
   "metadata": {},
   "outputs": [],
   "source": [
    "# Start your program here!\n",
    "\n",
    "menu = {\n",
    "    \"Double Double\": 3.95,\n",
    "    \"Double Double Combo\": 9.00,\n",
    "    \"cheeseburger\": 2.80,\n",
    "    \"cheeseburger combo\": 7.55,\n",
    "    \"hamburger\": 2.50\n",
    "}\n",
    "\n",
    "menu_list = list(menu.items())\n",
    "\n",
    "user_input = input(f\"\"\"\n",
    "Hello, Werlcome to In-N-Out\n",
    "What would you like to order?\n",
    "{menu_list}\"\"\").lower()\n",
    "\n",
    "print(f\"\"\"The total cost is: {menu[user_input]}\"\"\")"
   ]
  },
  {
   "cell_type": "code",
   "execution_count": null,
   "id": "12935008",
   "metadata": {},
   "outputs": [],
   "source": []
  }
 ],
 "metadata": {
  "kernelspec": {
   "display_name": "Python 3 (ipykernel)",
   "language": "python",
   "name": "python3"
  },
  "language_info": {
   "codemirror_mode": {
    "name": "ipython",
    "version": 3
   },
   "file_extension": ".py",
   "mimetype": "text/x-python",
   "name": "python",
   "nbconvert_exporter": "python",
   "pygments_lexer": "ipython3",
   "version": "3.9.13"
  },
  "toc": {
   "base_numbering": 1,
   "nav_menu": {},
   "number_sections": false,
   "sideBar": true,
   "skip_h1_title": false,
   "title_cell": "Table of Contents",
   "title_sidebar": "Contents",
   "toc_cell": false,
   "toc_position": {
    "height": "calc(100% - 180px)",
    "left": "10px",
    "top": "150px",
    "width": "294px"
   },
   "toc_section_display": true,
   "toc_window_display": true
  },
  "varInspector": {
   "cols": {
    "lenName": 16,
    "lenType": 16,
    "lenVar": 40
   },
   "kernels_config": {
    "python": {
     "delete_cmd_postfix": "",
     "delete_cmd_prefix": "del ",
     "library": "var_list.py",
     "varRefreshCmd": "print(var_dic_list())"
    },
    "r": {
     "delete_cmd_postfix": ") ",
     "delete_cmd_prefix": "rm(",
     "library": "var_list.r",
     "varRefreshCmd": "cat(var_dic_list()) "
    }
   },
   "types_to_exclude": [
    "module",
    "function",
    "builtin_function_or_method",
    "instance",
    "_Feature"
   ],
   "window_display": false
  }
 },
 "nbformat": 4,
 "nbformat_minor": 5
}
