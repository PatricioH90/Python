{
 "cells": [
  {
   "cell_type": "markdown",
   "id": "794a5a6e",
   "metadata": {},
   "source": [
    "<div style=\"float: right; margin: 0px 15px 15px 0px;\">\n",
    "<img src=\"https://upload.wikimedia.org/wikipedia/commons/b/b6/HULT_IBS_Logo_Outline_Black_%28cropped%29.png\" width=150/>\n",
    "</div>\n",
    "<h1> Python for Data Analysis: Methods & Tools </h1>\n",
    "<em> <strong>Python for everyday people </strong></em>\n",
    "<br><br>\n",
    "Written by Felipe Dominguez - Professor Adjunct <br>\n",
    "Hult International Business School <br>\n",
    "<br>\n",
    "<h1><u> Chapter 05 - User defined functions</u></h1>\n",
    "<em> Exercise workbook - Class 05</em>"
   ]
  },
  {
   "cell_type": "markdown",
   "id": "00952531",
   "metadata": {},
   "source": [
    "<h3>1. Basic User-defined functions</h3><br>\n",
    "<div align = justify>\n",
    "    The most basic form of user_defined function follow the following structure:\n",
    "</div>\n",
    "\n",
    "~~~\n",
    "def function_name():\n",
    "    \"\"\"DocString\"\"\"\n",
    "    function_body\n",
    "~~~\n"
   ]
  },
  {
   "cell_type": "markdown",
   "id": "9c5f6102",
   "metadata": {},
   "source": [
    "<h4>1.1 Let's create a basic function</h4><br>\n",
    "<div align = justify>\n",
    "    Create a function that prints: \n",
    "</div>\n",
    "\n",
    "~~~\n",
    "\"This year the number 7 is the lucky number!\"\n",
    "~~~"
   ]
  },
  {
   "cell_type": "code",
   "execution_count": 26,
   "id": "7eae1b10",
   "metadata": {},
   "outputs": [],
   "source": [
    "def lucky_number():\n",
    "    print(\"This year the number 7 is the lucky number!\")"
   ]
  },
  {
   "cell_type": "markdown",
   "id": "a5e38a0c",
   "metadata": {},
   "source": [
    "<h5>a. Calling a function</h5><br>\n",
    "Python won't show any output if the function is not called. To call a function:\n",
    "\n",
    "~~~\n",
    "function_name()\n",
    "~~~"
   ]
  },
  {
   "cell_type": "code",
   "execution_count": 27,
   "id": "9515ae4d",
   "metadata": {},
   "outputs": [
    {
     "name": "stdout",
     "output_type": "stream",
     "text": [
      "This year the number 7 is the lucky number!\n"
     ]
    }
   ],
   "source": [
    "lucky_number()"
   ]
  },
  {
   "cell_type": "markdown",
   "id": "63c82a19",
   "metadata": {},
   "source": [
    "<h3>2. Create a user defined function - Step by Step</h3><br>\n",
    "<div align = justify>\n",
    "As you know, the .remove() method of lists, removes the first matching element (which is passed as an argument) from the list. Let's create a function that removes all elements from a list that match the argument passed.\n",
    "</div>\n"
   ]
  },
  {
   "cell_type": "markdown",
   "id": "ef5937e5",
   "metadata": {},
   "source": [
    "<h4>2.1. Define the function and it's arguments</h4><br>\n",
    "<div align = justify>\n",
    "Create a function that received a list and the element to be removed from that list. Additionally, include an optional argument to decide if the element match is case sensitive or not.\n",
    "</div>"
   ]
  },
  {
   "cell_type": "code",
   "execution_count": null,
   "id": "8efc7efe",
   "metadata": {},
   "outputs": [],
   "source": [
    "def remove_element(my_list, element_remove, case_sensitive = \"yes\"):\n",
    "    next\n",
    "    "
   ]
  },
  {
   "cell_type": "markdown",
   "id": "aebfba08",
   "metadata": {},
   "source": [
    "<h4>2.2. Define the function structure</h4><br>\n",
    "<div align = justify>\n",
    "The optional argument (case_sensitive) will trigger different functionalities of this function. Therefore, it make sense to start by building the conditional statement that triggers a code based on the case_sensitive value.\n",
    "</div>"
   ]
  },
  {
   "cell_type": "code",
   "execution_count": 24,
   "id": "fa9e7564",
   "metadata": {},
   "outputs": [
    {
     "name": "stdout",
     "output_type": "stream",
     "text": [
      "Original list: ['This', 'is', 'Python', 1]\n",
      "\n",
      "New List: ['is', 'Python']\n"
     ]
    }
   ],
   "source": [
    "def remove_element(my_list, element_remove, case_sensitive = \"yes\"):\n",
    "    \n",
    "    empty_list = []\n",
    "    if case_sensitive.lower() == \"yes\":\n",
    "        for item in my_list:\n",
    "            if element_remove != item:\n",
    "                empty_list.append(item)\n",
    "    #return empty_list\n",
    "\n",
    "#list_1 = [1, 2, 3, 2, 2, 5]\n",
    "\n",
    "#new_list = remove_element(list_1, 3)\n",
    "#print(f\"\"\"Original list: {list_1}\\n\"\"\")\n",
    "#print(f\"\"\"New List: {new_list}\"\"\")        \n",
    "        \n",
    "    elif case_sensitive.lower() == \"no\":\n",
    "        for i in range(len(my_list) - 1):\n",
    "            if str(element_remove).lower() != my_list[i].lower():\n",
    "                empty_list.append(my_list[i])\n",
    "                    \n",
    "    else:\n",
    "        print(\"Case_Senstivie must be 'Yes' or 'No'\")\n",
    "    \n",
    "    return empty_list\n",
    "\n",
    "list_1 = [\"This\",\"is\",\"Python\", 1]\n",
    "\n",
    "new_list = remove_element(list_1,\"This\", case_sensitive = \"no\")\n",
    "\n",
    "print(f\"\"\"Original list: {list_1}\\n\"\"\")\n",
    "print(f\"\"\"New List: {new_list}\"\"\")  "
   ]
  },
  {
   "cell_type": "markdown",
   "id": "6d55741f",
   "metadata": {},
   "source": [
    "<h5>2.2.a Add an exception</h5><br>\n",
    "<div align = justify>\n",
    "If someone inputs a case_sensitive value different than yes and no, it must return an error and indicate the user that the only acceptable values are 'yes' and 'no' for this argument.\n",
    "</div>"
   ]
  },
  {
   "cell_type": "code",
   "execution_count": null,
   "id": "60741e78",
   "metadata": {},
   "outputs": [],
   "source": []
  },
  {
   "cell_type": "markdown",
   "id": "50cf6263",
   "metadata": {},
   "source": [
    "<h4>2.3. Loop over the list</h4><br>\n",
    "<div align = justify>\n",
    "In both scenarios (case_sensitive = 'yes' or 'no'), you must loop over the passed list and check if each element of it match with the element to be removed.\n",
    "</div>"
   ]
  },
  {
   "cell_type": "code",
   "execution_count": null,
   "id": "ccfb390d",
   "metadata": {},
   "outputs": [],
   "source": []
  },
  {
   "cell_type": "markdown",
   "id": "b3a9dbdb",
   "metadata": {},
   "source": [
    "<h4>2.4. Add conditional statements</h4><br>\n",
    "<div align = justify>\n",
    "Now, you need to check if the element to be removed match the list element or not. Your code will trigger different actions depending on this condition. Additionally, this condition will be slightly different for case_sensitive = 'yes' and case_sensitive = 'no'.\n",
    "</div>"
   ]
  },
  {
   "cell_type": "code",
   "execution_count": null,
   "id": "10a28596",
   "metadata": {},
   "outputs": [],
   "source": []
  },
  {
   "cell_type": "markdown",
   "id": "03a4b8a1",
   "metadata": {},
   "source": [
    "<h4>2.5. Create a new list</h4><br>\n",
    "<div align = justify>\n",
    "To complete this function, you can create a new list and append only those values that are not equal to the matching element. Finally, return the new list which contains only the values not equal to the element to be removed.\n",
    "</div>"
   ]
  },
  {
   "cell_type": "code",
   "execution_count": null,
   "id": "e16752e5",
   "metadata": {},
   "outputs": [],
   "source": []
  },
  {
   "cell_type": "markdown",
   "id": "d747bee7",
   "metadata": {},
   "source": [
    "<h4>2.6. Document your function</h4>"
   ]
  },
  {
   "cell_type": "code",
   "execution_count": null,
   "id": "48a1dfda",
   "metadata": {},
   "outputs": [],
   "source": []
  },
  {
   "cell_type": "markdown",
   "id": "547f5e70",
   "metadata": {},
   "source": [
    "<h4>2.7 Let's try remove_element</h4>"
   ]
  },
  {
   "cell_type": "code",
   "execution_count": 29,
   "id": "12464eb6",
   "metadata": {},
   "outputs": [
    {
     "ename": "NameError",
     "evalue": "name 'roll_dice' is not defined",
     "output_type": "error",
     "traceback": [
      "\u001b[1;31m---------------------------------------------------------------------------\u001b[0m",
      "\u001b[1;31mNameError\u001b[0m                                 Traceback (most recent call last)",
      "\u001b[1;32m~\\AppData\\Local\\Temp\\ipykernel_20056\\2763154556.py\u001b[0m in \u001b[0;36m<module>\u001b[1;34m\u001b[0m\n\u001b[1;32m----> 1\u001b[1;33m \u001b[0mdice_\u001b[0m\u001b[1;33m=\u001b[0m\u001b[0mroll_dice\u001b[0m\u001b[1;33m(\u001b[0m\u001b[1;36m6\u001b[0m\u001b[1;33m,\u001b[0m\u001b[1;36m1\u001b[0m\u001b[1;33m,\u001b[0m\u001b[1;36m1\u001b[0m\u001b[1;33m)\u001b[0m\u001b[1;33m\u001b[0m\u001b[1;33m\u001b[0m\u001b[0m\n\u001b[0m",
      "\u001b[1;31mNameError\u001b[0m: name 'roll_dice' is not defined"
     ]
    }
   ],
   "source": [
    "dice_=roll_dice(6,1,1)"
   ]
  },
  {
   "cell_type": "markdown",
   "id": "594f97d8",
   "metadata": {},
   "source": [
    "<h3>3. Create a function from scratch</h3>"
   ]
  },
  {
   "cell_type": "markdown",
   "id": "71b7b0c9",
   "metadata": {},
   "source": [
    "<h4>3.1. Rolling the dice(s)</h4><br>\n",
    "<div align = justify>\n",
    "Create a function to roll one or more dices. The function at least requires the number of sides of the dice and how many dices to roll. It must return a list with the results of each round.\n",
    "</div>"
   ]
  },
  {
   "cell_type": "code",
   "execution_count": 36,
   "id": "ed3f4889",
   "metadata": {},
   "outputs": [
    {
     "ename": "TypeError",
     "evalue": "roll_dice() missing 1 required positional argument: 'times'",
     "output_type": "error",
     "traceback": [
      "\u001b[1;31m---------------------------------------------------------------------------\u001b[0m",
      "\u001b[1;31mTypeError\u001b[0m                                 Traceback (most recent call last)",
      "\u001b[1;32m~\\AppData\\Local\\Temp\\ipykernel_20056\\2250572804.py\u001b[0m in \u001b[0;36m<module>\u001b[1;34m\u001b[0m\n\u001b[0;32m      8\u001b[0m     \u001b[1;32mreturn\u001b[0m \u001b[0mresults\u001b[0m\u001b[1;33m\u001b[0m\u001b[1;33m\u001b[0m\u001b[0m\n\u001b[0;32m      9\u001b[0m \u001b[1;33m\u001b[0m\u001b[0m\n\u001b[1;32m---> 10\u001b[1;33m \u001b[0mprint\u001b[0m\u001b[1;33m(\u001b[0m\u001b[0mroll_dice_multi_times\u001b[0m\u001b[1;33m(\u001b[0m\u001b[1;36m6\u001b[0m\u001b[1;33m,\u001b[0m \u001b[1;36m2\u001b[0m\u001b[1;33m,\u001b[0m \u001b[1;36m10\u001b[0m\u001b[1;33m)\u001b[0m\u001b[1;33m)\u001b[0m \u001b[1;31m# rolls two six-sided dice 10 times\u001b[0m\u001b[1;33m\u001b[0m\u001b[1;33m\u001b[0m\u001b[0m\n\u001b[0m",
      "\u001b[1;32m~\\AppData\\Local\\Temp\\ipykernel_20056\\2250572804.py\u001b[0m in \u001b[0;36mroll_dice_multi_times\u001b[1;34m(num_sides, num_dice, num_rolls)\u001b[0m\n\u001b[0;32m      4\u001b[0m     \u001b[0mresults\u001b[0m \u001b[1;33m=\u001b[0m \u001b[1;33m[\u001b[0m\u001b[1;33m]\u001b[0m\u001b[1;33m\u001b[0m\u001b[1;33m\u001b[0m\u001b[0m\n\u001b[0;32m      5\u001b[0m     \u001b[1;32mfor\u001b[0m \u001b[0mi\u001b[0m \u001b[1;32min\u001b[0m \u001b[0mrange\u001b[0m\u001b[1;33m(\u001b[0m\u001b[0mnum_rolls\u001b[0m\u001b[1;33m)\u001b[0m\u001b[1;33m:\u001b[0m\u001b[1;33m\u001b[0m\u001b[1;33m\u001b[0m\u001b[0m\n\u001b[1;32m----> 6\u001b[1;33m         \u001b[0mrolls\u001b[0m \u001b[1;33m=\u001b[0m \u001b[0mroll_dice\u001b[0m\u001b[1;33m(\u001b[0m\u001b[0mnum_sides\u001b[0m\u001b[1;33m,\u001b[0m \u001b[0mnum_dice\u001b[0m\u001b[1;33m)\u001b[0m\u001b[1;33m\u001b[0m\u001b[1;33m\u001b[0m\u001b[0m\n\u001b[0m\u001b[0;32m      7\u001b[0m         \u001b[0mresults\u001b[0m\u001b[1;33m.\u001b[0m\u001b[0mappend\u001b[0m\u001b[1;33m(\u001b[0m\u001b[0mrolls\u001b[0m\u001b[1;33m)\u001b[0m\u001b[1;33m\u001b[0m\u001b[1;33m\u001b[0m\u001b[0m\n\u001b[0;32m      8\u001b[0m     \u001b[1;32mreturn\u001b[0m \u001b[0mresults\u001b[0m\u001b[1;33m\u001b[0m\u001b[1;33m\u001b[0m\u001b[0m\n",
      "\u001b[1;31mTypeError\u001b[0m: roll_dice() missing 1 required positional argument: 'times'"
     ]
    }
   ],
   "source": [
    "import random\n",
    "\n",
    "def roll_dice_multi_times(num_sides, num_dice, num_rolls):\n",
    "    results = []\n",
    "    for i in range(num_rolls):\n",
    "        rolls = roll_dice(num_sides, num_dice)\n",
    "        results.append(rolls)\n",
    "    return results\n",
    "\n",
    "print(roll_dice_multi_times(6, 2, 10)) # rolls two six-sided dice 10 times"
   ]
  }
 ],
 "metadata": {
  "kernelspec": {
   "display_name": "Python 3 (ipykernel)",
   "language": "python",
   "name": "python3"
  },
  "language_info": {
   "codemirror_mode": {
    "name": "ipython",
    "version": 3
   },
   "file_extension": ".py",
   "mimetype": "text/x-python",
   "name": "python",
   "nbconvert_exporter": "python",
   "pygments_lexer": "ipython3",
   "version": "3.9.13"
  },
  "toc": {
   "base_numbering": 1,
   "nav_menu": {},
   "number_sections": false,
   "sideBar": true,
   "skip_h1_title": false,
   "title_cell": "Table of Contents",
   "title_sidebar": "Contents",
   "toc_cell": false,
   "toc_position": {
    "height": "calc(100% - 180px)",
    "left": "10px",
    "top": "150px",
    "width": "305px"
   },
   "toc_section_display": true,
   "toc_window_display": false
  },
  "varInspector": {
   "cols": {
    "lenName": 16,
    "lenType": 16,
    "lenVar": 40
   },
   "kernels_config": {
    "python": {
     "delete_cmd_postfix": "",
     "delete_cmd_prefix": "del ",
     "library": "var_list.py",
     "varRefreshCmd": "print(var_dic_list())"
    },
    "r": {
     "delete_cmd_postfix": ") ",
     "delete_cmd_prefix": "rm(",
     "library": "var_list.r",
     "varRefreshCmd": "cat(var_dic_list()) "
    }
   },
   "types_to_exclude": [
    "module",
    "function",
    "builtin_function_or_method",
    "instance",
    "_Feature"
   ],
   "window_display": false
  }
 },
 "nbformat": 4,
 "nbformat_minor": 5
}
