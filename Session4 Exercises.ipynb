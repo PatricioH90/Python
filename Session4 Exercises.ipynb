{
 "cells": [
  {
   "cell_type": "markdown",
   "id": "16594c16-aed0-44cf-acf0-876b5b2dd435",
   "metadata": {},
   "source": [
    "# Session 4 Exercises"
   ]
  },
  {
   "cell_type": "code",
   "execution_count": 1,
   "id": "8dbc2a85-d185-4982-a59e-3ee67df3c80f",
   "metadata": {},
   "outputs": [],
   "source": [
    "import pandas as pd\n",
    "import numpy as np\n",
    "import datetime as dt\n",
    "import seaborn as sns"
   ]
  },
  {
   "cell_type": "markdown",
   "id": "c083df2f-bef9-4ba9-b27c-0091af3e1443",
   "metadata": {},
   "source": [
    "## 1\n",
    "- Read in the data in the covid.csv file\n",
    "- Create a date column by parsing the dateRep column into a datetime\n",
    "- Set the date column as the index\n",
    "- Use the replace() method to update all occurrences of United_States_of_America and United Kingdom to USA and UK, respectively\n",
    "- Sort the index"
   ]
  },
  {
   "cell_type": "code",
   "execution_count": 4,
   "id": "5baf394c-2f69-4a68-9ca0-6ad9225090fa",
   "metadata": {},
   "outputs": [],
   "source": [
    "covid = pd.read_csv('data/covid.csv')\\\n",
    "    .assign(date=lambda x: pd.to_datetime(x.dateRep, format='%d/%m/%Y'))\\\n",
    "    .set_index('date')\\\n",
    "    .replace('United_States_of_America', 'USA')\\\n",
    "    .replace('United_Kingdom', 'UK')\\\n",
    "    .sort_index()"
   ]
  },
  {
   "cell_type": "markdown",
   "id": "d8feb768-bc8d-4f93-8b62-f6ede19d0dc3",
   "metadata": {},
   "source": [
    "## 2\n",
    "For the 5 countries with the most cases (cumulative), find the day with the largest number of cases."
   ]
  },
  {
   "cell_type": "code",
   "execution_count": 5,
   "id": "81276c4e-3be1-479d-8a11-39ee439528a7",
   "metadata": {},
   "outputs": [
    {
     "data": {
      "text/plain": [
       "countriesAndTerritories\n",
       "Brazil   2020-07-30\n",
       "India    2020-09-17\n",
       "Peru     2020-08-17\n",
       "Russia   2020-07-18\n",
       "USA      2020-07-25\n",
       "Name: cases, dtype: datetime64[ns]"
      ]
     },
     "execution_count": 5,
     "metadata": {},
     "output_type": "execute_result"
    }
   ],
   "source": [
    "top_five_countries = (covid\n",
    "    .groupby('countriesAndTerritories')\n",
    "    .cases\n",
    "    .sum()\n",
    "    .nlargest(5)\n",
    "    .index)\n",
    "\n",
    "covid[covid.countriesAndTerritories.isin(top_five_countries)]\\\n",
    "    .groupby('countriesAndTerritories').cases.idxmax()"
   ]
  },
  {
   "cell_type": "markdown",
   "id": "0b3254a9-f38c-402c-b3ac-bb6362a664c0",
   "metadata": {},
   "source": [
    "## 3\n",
    "Find the 7-day average change in COVID-19 cases for the last week in the data for the countries found in part 2."
   ]
  },
  {
   "cell_type": "code",
   "execution_count": 8,
   "id": "64fa982c-13b7-4534-8905-53ba0a799f08",
   "metadata": {},
   "outputs": [
    {
     "data": {
      "text/html": [
       "<div>\n",
       "<style scoped>\n",
       "    .dataframe tbody tr th:only-of-type {\n",
       "        vertical-align: middle;\n",
       "    }\n",
       "\n",
       "    .dataframe tbody tr th {\n",
       "        vertical-align: top;\n",
       "    }\n",
       "\n",
       "    .dataframe thead th {\n",
       "        text-align: right;\n",
       "    }\n",
       "</style>\n",
       "<table border=\"1\" class=\"dataframe\">\n",
       "  <thead>\n",
       "    <tr style=\"text-align: right;\">\n",
       "      <th>countriesAndTerritories</th>\n",
       "      <th>USA</th>\n",
       "      <th>India</th>\n",
       "      <th>Brazil</th>\n",
       "      <th>Russia</th>\n",
       "      <th>Peru</th>\n",
       "    </tr>\n",
       "    <tr>\n",
       "      <th>date</th>\n",
       "      <th></th>\n",
       "      <th></th>\n",
       "      <th></th>\n",
       "      <th></th>\n",
       "      <th></th>\n",
       "    </tr>\n",
       "  </thead>\n",
       "  <tbody>\n",
       "    <tr>\n",
       "      <th>2020-09-14</th>\n",
       "      <td>473.714286</td>\n",
       "      <td>181.285714</td>\n",
       "      <td>35.285714</td>\n",
       "      <td>36.285714</td>\n",
       "      <td>73.142857</td>\n",
       "    </tr>\n",
       "    <tr>\n",
       "      <th>2020-09-15</th>\n",
       "      <td>1513.000000</td>\n",
       "      <td>1142.857143</td>\n",
       "      <td>697.428571</td>\n",
       "      <td>46.285714</td>\n",
       "      <td>377.571429</td>\n",
       "    </tr>\n",
       "    <tr>\n",
       "      <th>2020-09-16</th>\n",
       "      <td>3478.714286</td>\n",
       "      <td>59.571429</td>\n",
       "      <td>3196.285714</td>\n",
       "      <td>61.428571</td>\n",
       "      <td>-65.000000</td>\n",
       "    </tr>\n",
       "    <tr>\n",
       "      <th>2020-09-17</th>\n",
       "      <td>-1047.000000</td>\n",
       "      <td>308.428571</td>\n",
       "      <td>143.428571</td>\n",
       "      <td>810.000000</td>\n",
       "      <td>-29.428571</td>\n",
       "    </tr>\n",
       "    <tr>\n",
       "      <th>2020-09-18</th>\n",
       "      <td>865.714286</td>\n",
       "      <td>-18.142857</td>\n",
       "      <td>-607.714286</td>\n",
       "      <td>-688.428571</td>\n",
       "      <td>-227.571429</td>\n",
       "    </tr>\n",
       "    <tr>\n",
       "      <th>2020-09-19</th>\n",
       "      <td>306.857143</td>\n",
       "      <td>-604.714286</td>\n",
       "      <td>-560.142857</td>\n",
       "      <td>57.285714</td>\n",
       "      <td>-41.285714</td>\n",
       "    </tr>\n",
       "  </tbody>\n",
       "</table>\n",
       "</div>"
      ],
      "text/plain": [
       "countriesAndTerritories          USA        India       Brazil      Russia  \\\n",
       "date                                                                         \n",
       "2020-09-14                473.714286   181.285714    35.285714   36.285714   \n",
       "2020-09-15               1513.000000  1142.857143   697.428571   46.285714   \n",
       "2020-09-16               3478.714286    59.571429  3196.285714   61.428571   \n",
       "2020-09-17              -1047.000000   308.428571   143.428571  810.000000   \n",
       "2020-09-18                865.714286   -18.142857  -607.714286 -688.428571   \n",
       "2020-09-19                306.857143  -604.714286  -560.142857   57.285714   \n",
       "\n",
       "countriesAndTerritories        Peru  \n",
       "date                                 \n",
       "2020-09-14                73.142857  \n",
       "2020-09-15               377.571429  \n",
       "2020-09-16               -65.000000  \n",
       "2020-09-17               -29.428571  \n",
       "2020-09-18              -227.571429  \n",
       "2020-09-19               -41.285714  "
      ]
     },
     "execution_count": 8,
     "metadata": {},
     "output_type": "execute_result"
    }
   ],
   "source": [
    "(covid\n",
    "     .groupby(['countriesAndTerritories',\n",
    "              pd.Grouper(freq='1D')])\n",
    "     .cases.sum()\n",
    "     .unstack(0)\n",
    "     .diff()\n",
    "     .rolling(7)\n",
    "     .mean()\n",
    "     .last('1W')[top_five_countries])"
   ]
  },
  {
   "cell_type": "markdown",
   "id": "92e38587-e9f5-4722-b48a-e765b1393b23",
   "metadata": {},
   "source": [
    "## 4\n",
    "Find the first date that each country other than China had cases:"
   ]
  },
  {
   "cell_type": "code",
   "execution_count": 7,
   "id": "5a1635bc-95d8-441d-8a6b-93d3c1740f41",
   "metadata": {},
   "outputs": [
    {
     "data": {
      "text/plain": [
       "countriesAndTerritories\n",
       "Thailand         2020-01-13\n",
       "Japan            2020-01-15\n",
       "South Korea      2020-01-20\n",
       "Taiwan           2020-01-21\n",
       "USA              2020-01-21\n",
       "                    ...    \n",
       "Yemen            2020-04-10\n",
       "Western Sahara   2020-04-26\n",
       "Tajikistan       2020-05-01\n",
       "Comoros          2020-05-02\n",
       "Lesotho          2020-05-15\n",
       "Length: 209, dtype: datetime64[ns]"
      ]
     },
     "execution_count": 7,
     "metadata": {},
     "output_type": "execute_result"
    }
   ],
   "source": [
    "(covid\n",
    "    .pivot(columns='countriesAndTerritories',\n",
    "           values='cases')\n",
    "    .drop(columns='China')\n",
    "    .apply(lambda x: x[x > 0].index.min())\n",
    "    .sort_values()\n",
    "    .rename(lambda x: x.replace('_', ' ')))"
   ]
  },
  {
   "cell_type": "markdown",
   "id": "4a38f8ba-2de5-44f5-a757-6a658c715e75",
   "metadata": {},
   "source": [
    "## 5\n",
    "Rank the countries by total cases using percentiles."
   ]
  },
  {
   "cell_type": "code",
   "execution_count": 9,
   "id": "3b5b5aad-0334-41ba-89ec-a57fbc22c103",
   "metadata": {},
   "outputs": [
    {
     "data": {
      "text/html": [
       "<div>\n",
       "<style scoped>\n",
       "    .dataframe tbody tr th:only-of-type {\n",
       "        vertical-align: middle;\n",
       "    }\n",
       "\n",
       "    .dataframe tbody tr th {\n",
       "        vertical-align: top;\n",
       "    }\n",
       "\n",
       "    .dataframe thead th {\n",
       "        text-align: right;\n",
       "    }\n",
       "</style>\n",
       "<table border=\"1\" class=\"dataframe\">\n",
       "  <thead>\n",
       "    <tr style=\"text-align: right;\">\n",
       "      <th></th>\n",
       "      <th>cases</th>\n",
       "    </tr>\n",
       "    <tr>\n",
       "      <th>countriesAndTerritories</th>\n",
       "      <th></th>\n",
       "    </tr>\n",
       "  </thead>\n",
       "  <tbody>\n",
       "    <tr>\n",
       "      <th>USA</th>\n",
       "      <td>1.000000</td>\n",
       "    </tr>\n",
       "    <tr>\n",
       "      <th>India</th>\n",
       "      <td>0.995238</td>\n",
       "    </tr>\n",
       "    <tr>\n",
       "      <th>Brazil</th>\n",
       "      <td>0.990476</td>\n",
       "    </tr>\n",
       "    <tr>\n",
       "      <th>Russia</th>\n",
       "      <td>0.985714</td>\n",
       "    </tr>\n",
       "    <tr>\n",
       "      <th>Peru</th>\n",
       "      <td>0.980952</td>\n",
       "    </tr>\n",
       "    <tr>\n",
       "      <th>...</th>\n",
       "      <td>...</td>\n",
       "    </tr>\n",
       "    <tr>\n",
       "      <th>Greenland</th>\n",
       "      <td>0.023810</td>\n",
       "    </tr>\n",
       "    <tr>\n",
       "      <th>Montserrat</th>\n",
       "      <td>0.019048</td>\n",
       "    </tr>\n",
       "    <tr>\n",
       "      <th>Falkland Islands (Malvinas)</th>\n",
       "      <td>0.019048</td>\n",
       "    </tr>\n",
       "    <tr>\n",
       "      <th>Holy See</th>\n",
       "      <td>0.009524</td>\n",
       "    </tr>\n",
       "    <tr>\n",
       "      <th>Anguilla</th>\n",
       "      <td>0.004762</td>\n",
       "    </tr>\n",
       "  </tbody>\n",
       "</table>\n",
       "<p>210 rows × 1 columns</p>\n",
       "</div>"
      ],
      "text/plain": [
       "                                cases\n",
       "countriesAndTerritories              \n",
       "USA                          1.000000\n",
       "India                        0.995238\n",
       "Brazil                       0.990476\n",
       "Russia                       0.985714\n",
       "Peru                         0.980952\n",
       "...                               ...\n",
       "Greenland                    0.023810\n",
       "Montserrat                   0.019048\n",
       "Falkland Islands (Malvinas)  0.019048\n",
       "Holy See                     0.009524\n",
       "Anguilla                     0.004762\n",
       "\n",
       "[210 rows x 1 columns]"
      ]
     },
     "execution_count": 9,
     "metadata": {},
     "output_type": "execute_result"
    }
   ],
   "source": [
    "(covid\n",
    "    .pivot_table(columns='countriesAndTerritories',\n",
    "                 values='cases',\n",
    "                 aggfunc='sum')\n",
    "    .T\n",
    "    .transform('rank',\n",
    "               method='max',\n",
    "               pct=True)\n",
    "    .sort_values('cases',\n",
    "                 ascending=False)\n",
    "    .rename(lambda x: x.replace('_', ' ')))"
   ]
  },
  {
   "cell_type": "markdown",
   "id": "2dcfadd2-bd56-49bb-a336-97087f8d1472",
   "metadata": {},
   "source": [
    "## 6\n",
    "Write a Python program that matches a word containing 'z', not at the start or end of the word."
   ]
  },
  {
   "cell_type": "code",
   "execution_count": 10,
   "id": "14b441d4-f259-4138-91bd-846e6d829fe0",
   "metadata": {},
   "outputs": [
    {
     "name": "stdout",
     "output_type": "stream",
     "text": [
      "Found a match!\n",
      "Not matched!\n"
     ]
    }
   ],
   "source": [
    "import re\n",
    "def text_match(text):\n",
    "        patterns = '\\Bz\\B'\n",
    "        if re.search(patterns,  text):\n",
    "                return 'Found a match!'\n",
    "        else:\n",
    "                return('Not matched!')\n",
    "\n",
    "print(text_match(\"The quick brown fox jumps over the lazy dog.\"))\n",
    "print(text_match(\"Python Exercises.\"))"
   ]
  },
  {
   "cell_type": "markdown",
   "id": "5f0df2b9-a8f1-4492-82bc-50850a8d4560",
   "metadata": {},
   "source": [
    "## 7\n",
    "Write a Python program to remove leading zeros from an IP address (e.g.: 216.08.094.196 should become 216.8.94.196)."
   ]
  },
  {
   "cell_type": "code",
   "execution_count": 11,
   "id": "99510ade-6398-4761-8aff-f8a9c6b3a4d1",
   "metadata": {},
   "outputs": [
    {
     "name": "stdout",
     "output_type": "stream",
     "text": [
      "216.8.94.196\n"
     ]
    }
   ],
   "source": [
    "import re\n",
    "ip = \"216.08.094.196\"\n",
    "string = re.sub('\\.[0]*', '.', ip)\n",
    "print(string)"
   ]
  },
  {
   "cell_type": "markdown",
   "id": "dd26a172-09c2-468b-a26a-3ee8f9c517d5",
   "metadata": {},
   "source": [
    "## 8\n",
    "Write a Python program to convert a date of yyyy-mm-dd format to dd-mm-yyyy format.\n",
    "\n",
    "2026-01-02 should become 02-01-2026"
   ]
  },
  {
   "cell_type": "code",
   "execution_count": 13,
   "id": "c6c2da6c-d229-4375-96d0-424a7d471ac6",
   "metadata": {},
   "outputs": [
    {
     "name": "stdout",
     "output_type": "stream",
     "text": [
      "Original date in YYY-MM-DD Format:  2026-01-02\n",
      "New date in DD-MM-YYYY Format:  02-01-2026\n"
     ]
    }
   ],
   "source": [
    "import re\n",
    "def change_date_format(dt):\n",
    "        return re.sub(r'(\\d{4})-(\\d{1,2})-(\\d{1,2})', '\\\\3-\\\\2-\\\\1', dt)\n",
    "dt1 = \"2026-01-02\"\n",
    "print(\"Original date in YYY-MM-DD Format: \",dt1)\n",
    "print(\"New date in DD-MM-YYYY Format: \",change_date_format(dt1))"
   ]
  },
  {
   "cell_type": "markdown",
   "id": "1c670708-1509-4d6d-9505-8ffeefc4026a",
   "metadata": {},
   "source": [
    "## 9\n",
    "Write a Python program to extract year, month and date from an url.\n",
    "\n",
    "`url = \"https://www.washingtonpost.com/news/football-insider/wp/2016/09/02/odell-beckhams-fame-rests-on-one-stupid-little-ball-josh-norman-tells-author/\"`\n",
    "\n",
    "output: [('2016', '09', '02')]"
   ]
  },
  {
   "cell_type": "code",
   "execution_count": 14,
   "id": "eeb03b4e-7ce0-4352-b8fb-35040e635f5d",
   "metadata": {},
   "outputs": [
    {
     "name": "stdout",
     "output_type": "stream",
     "text": [
      "[('2016', '09', '02')]\n"
     ]
    }
   ],
   "source": [
    "import re\n",
    "def extract_date(url):\n",
    "        return re.findall(r'/(\\d{4})/(\\d{1,2})/(\\d{1,2})/', url)\n",
    "url1= \"https://www.washingtonpost.com/news/football-insider/wp/2016/09/02/odell-beckhams-fame-rests-on-one-stupid-little-ball-josh-norman-tells-author/\"\n",
    "print(extract_date(url1))"
   ]
  },
  {
   "cell_type": "markdown",
   "id": "943af965-03ae-480b-95a4-2b77695882a5",
   "metadata": {},
   "source": [
    "## 10\n",
    "Write a Python program to separate and print the numbers of a given string.\n",
    "\n",
    "`String = \"Ten 10, Twenty 20, Thirty 30\"`"
   ]
  },
  {
   "cell_type": "code",
   "execution_count": 15,
   "id": "2ecd5d8a-8494-4b6d-9e60-b61b96e46efb",
   "metadata": {},
   "outputs": [
    {
     "name": "stdout",
     "output_type": "stream",
     "text": [
      "\n",
      "10\n",
      "20\n",
      "30\n"
     ]
    }
   ],
   "source": [
    "import re\n",
    "# Sample string.\n",
    "text = \"Ten 10, Twenty 20, Thirty 30\"\n",
    "result = re.split(\"\\D+\", text)\n",
    "# Print results.\n",
    "for element in result:\n",
    "    print(element)"
   ]
  },
  {
   "cell_type": "markdown",
   "id": "bcc26720-c184-4f92-bb1a-76d81f26ca6b",
   "metadata": {},
   "source": [
    "## 11\n",
    "Write a Python program to replace maximum 2 occurrences of space, comma, or dot with a colon."
   ]
  },
  {
   "cell_type": "code",
   "execution_count": 16,
   "id": "3e452533-0600-4713-8dd3-6435e2cae42c",
   "metadata": {},
   "outputs": [
    {
     "name": "stdout",
     "output_type": "stream",
     "text": [
      "Python:Exercises: PHP exercises.\n"
     ]
    }
   ],
   "source": [
    "import re\n",
    "text = 'Python Exercises, PHP exercises.'\n",
    "print(re.sub(\"[ ,.]\", \":\", text, 2))"
   ]
  },
  {
   "cell_type": "markdown",
   "id": "3de8ec23-d6b6-4ad7-b4d7-70c0a9126f5c",
   "metadata": {},
   "source": [
    "## 12\n",
    "Write a Python program to extract values between quotation marks of a string."
   ]
  },
  {
   "cell_type": "code",
   "execution_count": 17,
   "id": "e6df1879-a12c-4b77-8f63-9a47f2141974",
   "metadata": {},
   "outputs": [
    {
     "name": "stdout",
     "output_type": "stream",
     "text": [
      "['Python', 'PHP', 'Java']\n"
     ]
    }
   ],
   "source": [
    "import re\n",
    "text1 = '\"Python\", \"PHP\", \"Java\"'\n",
    "print(re.findall(r'\"(.*?)\"', text1))"
   ]
  },
  {
   "cell_type": "markdown",
   "id": "84e432fa-65fb-4515-b4cd-eebcdfe08e86",
   "metadata": {},
   "source": [
    "## 13\n",
    "Write a Python program to remove multiple spaces in a string."
   ]
  },
  {
   "cell_type": "code",
   "execution_count": 18,
   "id": "f0824dd6-2f58-4bb2-8fd0-7ee15c5a8577",
   "metadata": {},
   "outputs": [
    {
     "name": "stdout",
     "output_type": "stream",
     "text": [
      "Original string: Python      Exercises\n",
      "Without extra spaces: Python Exercises\n"
     ]
    }
   ],
   "source": [
    "import re\n",
    "text1 = 'Python      Exercises'\n",
    "print(\"Original string:\",text1)\n",
    "print(\"Without extra spaces:\",re.sub(' +',' ',text1))"
   ]
  },
  {
   "cell_type": "markdown",
   "id": "7992b5dd-aa9a-4f95-808d-34a6ea388938",
   "metadata": {},
   "source": [
    "## 14\n",
    "Write a Python program to find all adverbs (ending on ly) and their positions in a given sentence."
   ]
  },
  {
   "cell_type": "code",
   "execution_count": 19,
   "id": "01ca253c-5bec-43ac-aea9-43382c16939b",
   "metadata": {},
   "outputs": [
    {
     "name": "stdout",
     "output_type": "stream",
     "text": [
      "0-7: Clearly\n"
     ]
    }
   ],
   "source": [
    "import re\n",
    "text = \"Clearly, he has no excuse for such behavior.\"\n",
    "for m in re.finditer(r\"\\w+ly\", text):\n",
    "    print('%d-%d: %s' % (m.start(), m.end(), m.group(0)))"
   ]
  },
  {
   "cell_type": "markdown",
   "id": "241cb0ec-91e6-41a4-aaf1-7e54c44985f8",
   "metadata": {},
   "source": [
    "## 15\n",
    "Write a Python program to concatenate the consecutive numbers in a given string.\n",
    "\n",
    "Sample text:\n",
    "Enter at 1 20 Kearny Street. The security desk can direct you to floor 1 6. Please have your identification ready.\n",
    "\n",
    "Sample solution:\n",
    "Enter at 120 Kearny Street. The security desk can direct you to floor 16. Please have your identification ready."
   ]
  },
  {
   "cell_type": "code",
   "execution_count": 20,
   "id": "ed99792d-02e9-42ec-8951-41b4eb6fa3f0",
   "metadata": {},
   "outputs": [
    {
     "name": "stdout",
     "output_type": "stream",
     "text": [
      "Original string:\n",
      "Enter at 1 20 Kearny Street. The security desk can direct you to floor 1 6. Please have your identification ready.\n",
      "\n",
      "After concatenating the consecutive numbers in the said string:\n",
      "Enter at 120 Kearny Street. The security desk can direct you to floor 16. Please have your identification ready.\n"
     ]
    }
   ],
   "source": [
    "import re\n",
    "txt = \"Enter at 1 20 Kearny Street. The security desk can direct you to floor 1 6. Please have your identification ready.\"\n",
    "print(\"Original string:\")\n",
    "print(txt)\n",
    "new_txt = re.sub(r\"(?<=\\d)\\s(?=\\d)\", '', txt)\n",
    "print('\\nAfter concatenating the consecutive numbers in the said string:')\n",
    "print(new_txt)"
   ]
  },
  {
   "cell_type": "markdown",
   "id": "0c64bda8-a23d-423f-a96f-40cf89e97009",
   "metadata": {},
   "source": [
    "## 16\n",
    "Write a Python program that checks whether a word stars and ends with a vowel in a given string. Return true if a word matches the condition; otherwise, return false.\n",
    "\n",
    "Sample Data:\n",
    "- (\"Red Orange White\") -> True\n",
    "- (\"Red White Black\") -> False\n",
    "- (\"abcd dkise eosksu\") -> True"
   ]
  },
  {
   "cell_type": "code",
   "execution_count": 21,
   "id": "7c467587-4ed6-4fc3-858a-9cfa1ffa7c6c",
   "metadata": {},
   "outputs": [
    {
     "name": "stdout",
     "output_type": "stream",
     "text": [
      "Original string: Red Orange White\n",
      "Check beginning and end of a word in the said string with a vowel:\n",
      "True\n",
      "\n",
      "Original string: Red White Black\n",
      "Check beginning and end of a word in the said string with a vowel:\n",
      "False\n",
      "\n",
      "Original string: abcd dkise eosksu\n",
      "Check beginning and end of a word in the said string with a vowel:\n",
      "True\n"
     ]
    }
   ],
   "source": [
    "import re\n",
    "def test(text):\n",
    "\treturn bool(re.findall('[/^[aeiou]$|^([aeiou]).*\\1$/', text))\n",
    "\n",
    "text =\"Red Orange White\"\n",
    "print(\"Original string:\", text)\n",
    "print(\"Check beginning and end of a word in the said string with a vowel:\")\n",
    "print(test(text))\n",
    "text =\"Red White Black\"\n",
    "print(\"\\nOriginal string:\", text)\n",
    "print(\"Check beginning and end of a word in the said string with a vowel:\")\n",
    "print(test(text))\n",
    "text =\"abcd dkise eosksu\"\n",
    "print(\"\\nOriginal string:\", text)\n",
    "print(\"Check beginning and end of a word in the said string with a vowel:\")\n",
    "print(test(text))"
   ]
  },
  {
   "cell_type": "markdown",
   "id": "3bf343a6-825b-4833-bc99-a3dff20f19f4",
   "metadata": {},
   "source": [
    "## 17\n",
    "Write a Python program to separate and print the numbers and their position of a given string.\n"
   ]
  },
  {
   "cell_type": "code",
   "execution_count": 22,
   "id": "f08b7093-d2ec-4204-b962-8492cefadc79",
   "metadata": {},
   "outputs": [
    {
     "name": "stdout",
     "output_type": "stream",
     "text": [
      "50\n",
      "Index position: 62\n"
     ]
    }
   ],
   "source": [
    "text = \"The following example creates an ArrayList with a capacity of 50 elements. Four elements are then added to the ArrayList and the ArrayList is trimmed accordingly.\"\n",
    "\n",
    "for m in re.finditer(\"\\d+\", text):\n",
    "    print(m.group(0))\n",
    "    print(\"Index position:\", m.start())"
   ]
  },
  {
   "cell_type": "markdown",
   "id": "a677b912-4dbd-4b6b-8a3f-280205427574",
   "metadata": {},
   "source": [
    "## 18\n",
    "The given input strings contains some text followed by - followed by a number. Replace that number with its log value using math.log()\n",
    "\n",
    "- `s1 = 'first-3.14'`\n",
    "- `s2 = 'next-123'`"
   ]
  },
  {
   "cell_type": "code",
   "execution_count": 23,
   "id": "3bc177d8-f80f-43dc-941f-f404fbcb0ce8",
   "metadata": {},
   "outputs": [
    {
     "data": {
      "text/plain": [
       "'next-4.812184355372417'"
      ]
     },
     "execution_count": 23,
     "metadata": {},
     "output_type": "execute_result"
    }
   ],
   "source": [
    "s1 = 'first-3.14'\n",
    "s2 = 'next-123'\n",
    "\n",
    "pat = re.compile(r'-(.*)')\n",
    "\n",
    "import math\n",
    "pat.sub(lambda m: '-' + str(math.log(float(m[1]))), s1)\n",
    "\n",
    "pat.sub(lambda m: '-' + str(math.log(float(m[1]))), s2)"
   ]
  },
  {
   "cell_type": "markdown",
   "id": "b4e0ff37-af8a-4fda-8cf8-213d86de0ade",
   "metadata": {},
   "source": [
    "## 19\n",
    "Extract all words between ( and ) from the given input string as a list. Assume that the input will not contain any broken parentheses.\n",
    "\n",
    "Text:\n",
    "`ip = 'another (way) to reuse (portion) matched (by) capture groups'`"
   ]
  },
  {
   "cell_type": "code",
   "execution_count": 25,
   "id": "c88ca859-6506-4d69-9448-6ea1035d06b1",
   "metadata": {},
   "outputs": [
    {
     "data": {
      "text/plain": [
       "['way', 'portion', 'by']"
      ]
     },
     "execution_count": 25,
     "metadata": {},
     "output_type": "execute_result"
    }
   ],
   "source": [
    "ip = 'another (way) to reuse (portion) matched (by) capture groups'\n",
    "re.findall(r'\\((.*?)\\)', ip)"
   ]
  },
  {
   "cell_type": "markdown",
   "id": "6ccb9ef5-834f-4e96-b811-9dfbfd1642d1",
   "metadata": {},
   "source": [
    "## 20\n",
    "Add [] around words starting with s and containing e and t in any order.\n",
    "\n",
    "text:\n",
    "`ip = 'sequoia subtle exhibit asset sets2 tests si_te'`"
   ]
  },
  {
   "cell_type": "code",
   "execution_count": 26,
   "id": "9da95eed-10b6-4f70-bdc0-a8657a4a7f16",
   "metadata": {},
   "outputs": [
    {
     "data": {
      "text/plain": [
       "'sequoia [subtle] exhibit asset [sets2] tests [si_te]'"
      ]
     },
     "execution_count": 26,
     "metadata": {},
     "output_type": "execute_result"
    }
   ],
   "source": [
    "ip = 'sequoia subtle exhibit asset sets2 tests si_te'\n",
    "\n",
    "re.sub(r'\\bs\\w*(t\\w*e|e\\w*t)\\w*', r'[\\g<0>]', ip)"
   ]
  },
  {
   "cell_type": "code",
   "execution_count": null,
   "id": "f594ebd6-d341-47e9-8254-1a9f51c47a43",
   "metadata": {},
   "outputs": [],
   "source": []
  }
 ],
 "metadata": {
  "kernelspec": {
   "display_name": "Python 3 (ipykernel)",
   "language": "python",
   "name": "python3"
  },
  "language_info": {
   "codemirror_mode": {
    "name": "ipython",
    "version": 3
   },
   "file_extension": ".py",
   "mimetype": "text/x-python",
   "name": "python",
   "nbconvert_exporter": "python",
   "pygments_lexer": "ipython3",
   "version": "3.9.13"
  }
 },
 "nbformat": 4,
 "nbformat_minor": 5
}
